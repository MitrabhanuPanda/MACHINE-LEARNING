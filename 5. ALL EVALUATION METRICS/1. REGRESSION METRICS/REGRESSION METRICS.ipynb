{
 "cells": [
  {
   "cell_type": "markdown",
   "id": "48aca88a",
   "metadata": {},
   "source": [
    "<h1 style=\"text-align : center\"> <font color=\"red\" size=8>REGRESSION METRICS</h1>"
   ]
  },
  {
   "cell_type": "markdown",
   "id": "442e77f3",
   "metadata": {},
   "source": [
    "## <font color=\"dark blue\">WHAT IS EVALUATION METRICS?\n",
    "- It is used to see the performance of our model. So that we can clear about our model that the model is best model / overfit model / underfit model."
   ]
  },
  {
   "cell_type": "markdown",
   "id": "10039a7e",
   "metadata": {},
   "source": [
    "## <font color=\"dark blue\">WHAT IS REGRESSION METRICS?\n",
    "- The Metrics used for evaluate the performance of Regression Model is known as Regression Metrics.\n",
    "- Popular Regression Metrics are:\n",
    "    > - __MAE__ $\\rightarrow$ Mean Absolute Error\n",
    "    > - __MSE__ $\\rightarrow$ Mean Squared Error\n",
    "    > - __RMSE__ $\\rightarrow$ Root Meas Squared Error\n",
    "    > - $ R^2 $ $\\rightarrow$ R-Squared / Cofficient of Determination / Goodness of Fit\n",
    "    > - $ Adjusted  \\ R^2 $"
   ]
  },
  {
   "cell_type": "markdown",
   "id": "7db35263",
   "metadata": {},
   "source": [
    "## <font color=\"blue\">a. MAE\n",
    "- MAE stands for __Mean Absolute Error__.\n",
    "- It is the absolute difference between Actual Value & predicted value.\n",
    "- Absolute means taking the Positive Value.\n",
    "$$ \\large MAE = \\frac{1}{n}\\sum_{i=1}^{n}|y_i - \\hat{y}_i| $$\n",
    "\n",
    "### <font color=\"orange\">ADVANTAGES\n",
    "- It Robust to the Outliers.\n",
    "- Unit is same as the variable unit.\n",
    "\n",
    "### <font color=\"orange\">DISADVANTAGES\n",
    "- It is not differentiable."
   ]
  },
  {
   "cell_type": "code",
   "execution_count": 1,
   "id": "8a03b715",
   "metadata": {},
   "outputs": [],
   "source": [
    "import matplotlib.pyplot as plt\n",
    "import pandas as pd\n",
    "import numpy as np"
   ]
  },
  {
   "cell_type": "code",
   "execution_count": 2,
   "id": "644f7beb",
   "metadata": {},
   "outputs": [
    {
     "data": {
      "text/html": [
       "<div>\n",
       "<style scoped>\n",
       "    .dataframe tbody tr th:only-of-type {\n",
       "        vertical-align: middle;\n",
       "    }\n",
       "\n",
       "    .dataframe tbody tr th {\n",
       "        vertical-align: top;\n",
       "    }\n",
       "\n",
       "    .dataframe thead th {\n",
       "        text-align: right;\n",
       "    }\n",
       "</style>\n",
       "<table border=\"1\" class=\"dataframe\">\n",
       "  <thead>\n",
       "    <tr style=\"text-align: right;\">\n",
       "      <th></th>\n",
       "      <th>cgpa</th>\n",
       "      <th>package</th>\n",
       "    </tr>\n",
       "  </thead>\n",
       "  <tbody>\n",
       "    <tr>\n",
       "      <th>0</th>\n",
       "      <td>6.89</td>\n",
       "      <td>3.26</td>\n",
       "    </tr>\n",
       "    <tr>\n",
       "      <th>1</th>\n",
       "      <td>5.12</td>\n",
       "      <td>1.98</td>\n",
       "    </tr>\n",
       "    <tr>\n",
       "      <th>2</th>\n",
       "      <td>7.82</td>\n",
       "      <td>3.25</td>\n",
       "    </tr>\n",
       "    <tr>\n",
       "      <th>3</th>\n",
       "      <td>7.42</td>\n",
       "      <td>3.67</td>\n",
       "    </tr>\n",
       "    <tr>\n",
       "      <th>4</th>\n",
       "      <td>6.94</td>\n",
       "      <td>3.57</td>\n",
       "    </tr>\n",
       "  </tbody>\n",
       "</table>\n",
       "</div>"
      ],
      "text/plain": [
       "   cgpa  package\n",
       "0  6.89     3.26\n",
       "1  5.12     1.98\n",
       "2  7.82     3.25\n",
       "3  7.42     3.67\n",
       "4  6.94     3.57"
      ]
     },
     "execution_count": 2,
     "metadata": {},
     "output_type": "execute_result"
    }
   ],
   "source": [
    "df=pd.read_csv(r\"D:\\DUDUL DS\\CAMPUSX\\ML\\ALL METRICS\\1. REGRESSION METRICS\\placement.csv\")\n",
    "df.head()"
   ]
  },
  {
   "cell_type": "code",
   "execution_count": 3,
   "id": "adb5cf1b",
   "metadata": {},
   "outputs": [
    {
     "data": {
      "text/plain": [
       "(200, 2)"
      ]
     },
     "execution_count": 3,
     "metadata": {},
     "output_type": "execute_result"
    }
   ],
   "source": [
    "df.shape"
   ]
  },
  {
   "cell_type": "code",
   "execution_count": 4,
   "id": "5d402a66",
   "metadata": {},
   "outputs": [
    {
     "data": {
      "text/plain": [
       "Text(0, 0.5, 'Package(in lpa)')"
      ]
     },
     "execution_count": 4,
     "metadata": {},
     "output_type": "execute_result"
    },
    {
     "data": {
      "image/png": "[encoded data removed]",
      "text/plain": [
       "<Figure size 640x480 with 1 Axes>"
      ]
     },
     "metadata": {},
     "output_type": "display_data"
    }
   ],
   "source": [
    "plt.scatter(df['cgpa'],df['package'])\n",
    "plt.xlabel('CGPA')\n",
    "plt.ylabel('Package(in lpa)')"
   ]
  },
  {
   "cell_type": "code",
   "execution_count": 5,
   "id": "2b0d00e8",
   "metadata": {},
   "outputs": [],
   "source": [
    "X = df.iloc[:,0:1]\n",
    "y = df.iloc[:,-1]"
   ]
  },
  {
   "cell_type": "code",
   "execution_count": 6,
   "id": "22179a64",
   "metadata": {},
   "outputs": [],
   "source": [
    "from sklearn.model_selection import train_test_split\n",
    "X_train,X_test,y_train,y_test = train_test_split(X,y,test_size=0.2,random_state=2)"
   ]
  },
  {
   "cell_type": "code",
   "execution_count": 7,
   "id": "b7bd1a90",
   "metadata": {},
   "outputs": [],
   "source": [
    "from sklearn.linear_model import LinearRegression"
   ]
  },
  {
   "cell_type": "code",
   "execution_count": 8,
   "id": "f3b9c64f",
   "metadata": {},
   "outputs": [],
   "source": [
    "lr = LinearRegression()"
   ]
  },
  {
   "cell_type": "code",
   "execution_count": 9,
   "id": "2fe13395",
   "metadata": {},
   "outputs": [
    {
     "data": {
      "text/plain": [
       "LinearRegression()"
      ]
     },
     "execution_count": 9,
     "metadata": {},
     "output_type": "execute_result"
    }
   ],
   "source": [
    "lr.fit(X_train,y_train)"
   ]
  },
  {
   "cell_type": "code",
   "execution_count": 10,
   "id": "2741d98d",
   "metadata": {},
   "outputs": [
    {
     "data": {
      "text/plain": [
       "Text(0, 0.5, 'Package(in lpa)')"
      ]
     },
     "execution_count": 10,
     "metadata": {},
     "output_type": "execute_result"
    },
    {
     "data": {
      "image/png": "[encoded data removed]",
      "text/plain": [
       "<Figure size 640x480 with 1 Axes>"
      ]
     },
     "metadata": {},
     "output_type": "display_data"
    }
   ],
   "source": [
    "plt.scatter(df['cgpa'],df['package'])\n",
    "plt.plot(X_train,lr.predict(X_train),color='red')\n",
    "plt.xlabel('CGPA')\n",
    "plt.ylabel('Package(in lpa)')"
   ]
  },
  {
   "cell_type": "code",
   "execution_count": 11,
   "id": "6c48089f",
   "metadata": {},
   "outputs": [],
   "source": [
    "y_pred = lr.predict(X_test)"
   ]
  },
  {
   "cell_type": "code",
   "execution_count": 12,
   "id": "6b8c6d9d",
   "metadata": {},
   "outputs": [
    {
     "data": {
      "text/plain": [
       "array([4.1 , 3.49, 2.08, 2.33, 1.94, 1.48, 1.86, 3.09, 4.21, 2.87, 3.65,\n",
       "       4.  , 2.89, 2.6 , 2.99, 3.25, 1.86, 3.67, 2.37, 3.42, 2.48, 3.65,\n",
       "       2.6 , 2.83, 4.08, 2.56, 3.58, 3.81, 4.09, 2.01, 3.63, 2.92, 3.51,\n",
       "       1.94, 2.21, 3.34, 3.34, 3.23, 2.01, 2.61])"
      ]
     },
     "execution_count": 12,
     "metadata": {},
     "output_type": "execute_result"
    }
   ],
   "source": [
    "y_test.values"
   ]
  },
  {
   "cell_type": "code",
   "execution_count": 13,
   "id": "9c99dd50",
   "metadata": {},
   "outputs": [],
   "source": [
    "from sklearn.metrics import mean_absolute_error,mean_squared_error,r2_score"
   ]
  },
  {
   "cell_type": "code",
   "execution_count": 14,
   "id": "a6b413ad",
   "metadata": {},
   "outputs": [
    {
     "name": "stdout",
     "output_type": "stream",
     "text": [
      "MAE 0.2884710931878175\n"
     ]
    }
   ],
   "source": [
    "print(\"MAE\",mean_absolute_error(y_test,y_pred))"
   ]
  },
  {
   "cell_type": "markdown",
   "id": "9bc4f6c1",
   "metadata": {},
   "source": [
    "## <font color=\"blue\">b. MSE\n",
    "- MAE stands for __Mean Squared Error__.\n",
    "- It is the average of squared difference between Actual Value & predicted value.\n",
    "- It is most preferable metrics in Regression\n",
    "$$ \\large MSE = \\frac{1}{n}\\sum_{i=1}^{n}(y_i - \\hat{y}_i)^2 $$\n",
    "\n",
    "### <font color=\"orange\">ADVANTAGES\n",
    "- It is differentiable.\n",
    "\n",
    "### <font color=\"orange\">DISADVANTAGES\n",
    "- It is affected by outliers.\n",
    "- Unit comes in Square form."
   ]
  },
  {
   "cell_type": "code",
   "execution_count": 15,
   "id": "96fccca1",
   "metadata": {},
   "outputs": [
    {
     "name": "stdout",
     "output_type": "stream",
     "text": [
      "MSE 0.12129235313495527\n"
     ]
    }
   ],
   "source": [
    "print(\"MSE\",mean_squared_error(y_test,y_pred))"
   ]
  },
  {
   "cell_type": "markdown",
   "id": "5c0fcc4c",
   "metadata": {},
   "source": [
    "## <font color=\"blue\">c. RMSE\n",
    "- MAE stands for __Root Mean Squared Error__.\n",
    "- It is the Root-over of average of squared difference between Actual Value & predicted value.\n",
    "\n",
    "$$ \\large RMSE =  \\sqrt [2] {\\frac{1}{n}\\sum_{i=1}^{n}(y_i - \\hat{y}_i)^2} $$\n",
    "\n",
    "### <font color=\"orange\">ADVANTAGES\n",
    "- It is differentiable.\n",
    "\n",
    "### <font color=\"orange\">DISADVANTAGES\n",
    "- It is affected by outliers."
   ]
  },
  {
   "cell_type": "markdown",
   "id": "867d6fa0",
   "metadata": {},
   "source": [
    "## <font color=\"dark green\">NOTE\n",
    "- MSE is a differentiable function. Hence it is a go to choice of Loss Function when compared to MAE.\n",
    "- MSE is more sensitive to outliers.\n",
    "- MAE, MSE, & RMSE are the measures of average deviation of predictions from the actual values.\n",
    "- MAE, MSE & RMES are used to compare 2 or more models."
   ]
  },
  {
   "cell_type": "code",
   "execution_count": 16,
   "id": "56749f37",
   "metadata": {},
   "outputs": [
    {
     "name": "stdout",
     "output_type": "stream",
     "text": [
      "RMSE 0.34827051717731616\n"
     ]
    }
   ],
   "source": [
    "print(\"RMSE\",np.sqrt(mean_squared_error(y_test,y_pred)))"
   ]
  },
  {
   "cell_type": "markdown",
   "id": "46e7f23e",
   "metadata": {},
   "source": [
    "## <font color=\"blue\">d. R-SQUARED\n",
    "- It is also known as __Cofficient of Determination__.\n",
    "- It is used to compare the model with simple mean model.\n",
    "\n",
    "$$ \\large  R^2   =  1- \\frac{RSS}{TSS} $$\n",
    "    \n",
    "$$ \\large OR $$\n",
    "    \n",
    "$$ \\large  R^2  =  1- \\frac{SS_\\text{res}}{SS_\\text{tot}}$$\n",
    "\n",
    "\n",
    "> RSS or $ SS_\\text{res} \\rightarrow $ Sum of Squared Residual \n",
    "    \n",
    " $$ \\large RSS = \\sum_{i=1}^{n} (y_i - \\hat{y}_i)^2  $$\n",
    "    \n",
    "> TSS or $ SS_\\text{tot} \\rightarrow $ Total Sum of Squared Error \n",
    "    \n",
    "  $$ \\large TSS = \\sum_{i=1}^{n} (y_i - \\overline{y}_i)^2  $$\n",
    "    \n",
    "   $$ \\large y_i = Actual \\ Value $$\n",
    "    $$ \\large \\hat{y_i} = Predicted \\ Value $$\n",
    "    $$ \\large \\overline{y_i} = Mean \\ of \\ y_i's $$\n"
   ]
  },
  {
   "attachments": {
    "r%20squared.jpg": {
     "image/jpeg": "[encoded data removed]"
    }
   },
   "cell_type": "markdown",
   "id": "d66971b7",
   "metadata": {},
   "source": [
    "![r%20squared.jpg](attachment:r%20squared.jpg)"
   ]
  },
  {
   "cell_type": "code",
   "execution_count": 17,
   "id": "84a277fb",
   "metadata": {},
   "outputs": [
    {
     "name": "stdout",
     "output_type": "stream",
     "text": [
      "R-Squared 0.780730147510384\n"
     ]
    }
   ],
   "source": [
    "print(\"R-Squared\",r2_score(y_test,y_pred))\n",
    "r2 = r2_score(y_test,y_pred)"
   ]
  },
  {
   "cell_type": "markdown",
   "id": "db0fe519",
   "metadata": {},
   "source": [
    "## <font color=\"blue\">e. ADJUSTED R-SQUARED\n",
    "    \n",
    "$$ \\large \\overline{R^2}  =  1-  [ \\frac{(1-R^2) \\times (n-1)}{(n-p-1)} ] $$\n",
    "    \n",
    "$$ \\large n \\rightarrow No.\\ of \\ Samples \\ \\ / \\ rows \\ in \\ the \\ dataset $$\n",
    "    \n",
    "$$ \\large p \\rightarrow No. \\ of \\ Independent \\ features \\ in \\  the \\  dataset $$"
   ]
  },
  {
   "cell_type": "code",
   "execution_count": 18,
   "id": "20f26c9d",
   "metadata": {},
   "outputs": [
    {
     "data": {
      "text/plain": [
       "(40, 1)"
      ]
     },
     "execution_count": 18,
     "metadata": {},
     "output_type": "execute_result"
    }
   ],
   "source": [
    "X_test.shape"
   ]
  },
  {
   "cell_type": "code",
   "execution_count": 19,
   "id": "05c78778",
   "metadata": {},
   "outputs": [
    {
     "data": {
      "text/plain": [
       "40"
      ]
     },
     "execution_count": 19,
     "metadata": {},
     "output_type": "execute_result"
    }
   ],
   "source": [
    "# No. of rows in the dataset\n",
    "rows=X_test.shape[0]\n",
    "rows"
   ]
  },
  {
   "cell_type": "code",
   "execution_count": 20,
   "id": "d50830d8",
   "metadata": {},
   "outputs": [
    {
     "data": {
      "text/plain": [
       "1"
      ]
     },
     "execution_count": 20,
     "metadata": {},
     "output_type": "execute_result"
    }
   ],
   "source": [
    "# No. of Independent Features in the dataset\n",
    "ind_var=X_test.shape[1]\n",
    "ind_var"
   ]
  },
  {
   "cell_type": "code",
   "execution_count": 21,
   "id": "34616d72",
   "metadata": {},
   "outputs": [
    {
     "data": {
      "text/plain": [
       "0.7749598882343415"
      ]
     },
     "execution_count": 21,
     "metadata": {},
     "output_type": "execute_result"
    }
   ],
   "source": [
    "1 - ((1-r2)*(rows-1)/(rows-ind_var-1))"
   ]
  },
  {
   "cell_type": "markdown",
   "id": "c09808ab",
   "metadata": {},
   "source": [
    "## <font color=\"dark green\">IMPORATANT POINTS\n",
    "- $ R^2 $ & $ \\overline{R^2} $ are used for explaining how will the independent variables explains the variability in the dependent variable.\n",
    "\n",
    "- $ R^2 $ always increases with addition of the independent variable which might lead to the existance of redundant variables in our model.\n",
    "    \n",
    "- $ Adjusted \\ R^2 $ solves the above problem. The value of $ Adjusted \\ R^2 $ decreases if the increase in the $ R^2 $ by the additional variable is not significant enough.\n",
    "    \n",
    "- For comparising different regression models, RMSE / MSE / MAE is a better choice than $ R^2 $ & $ \\overline{R^2} $."
   ]
  },
  {
   "cell_type": "markdown",
   "id": "fc8f7082",
   "metadata": {},
   "source": [
    "### "
   ]
  },
  {
   "cell_type": "markdown",
   "id": "5cd68035",
   "metadata": {},
   "source": [
    "# <font color=\"purple\">COMPARE R-SQUARED & ADJUSTED R-SQUARE"
   ]
  },
  {
   "cell_type": "markdown",
   "id": "acbb29ce",
   "metadata": {},
   "source": [
    "## <font color=\"coral\">1. ADDING UNWANTED FEATURE:"
   ]
  },
  {
   "cell_type": "code",
   "execution_count": 22,
   "id": "0b03052e",
   "metadata": {},
   "outputs": [
    {
     "data": {
      "text/html": [
       "<div>\n",
       "<style scoped>\n",
       "    .dataframe tbody tr th:only-of-type {\n",
       "        vertical-align: middle;\n",
       "    }\n",
       "\n",
       "    .dataframe tbody tr th {\n",
       "        vertical-align: top;\n",
       "    }\n",
       "\n",
       "    .dataframe thead th {\n",
       "        text-align: right;\n",
       "    }\n",
       "</style>\n",
       "<table border=\"1\" class=\"dataframe\">\n",
       "  <thead>\n",
       "    <tr style=\"text-align: right;\">\n",
       "      <th></th>\n",
       "      <th>cgpa</th>\n",
       "      <th>random_feature</th>\n",
       "      <th>package</th>\n",
       "    </tr>\n",
       "  </thead>\n",
       "  <tbody>\n",
       "    <tr>\n",
       "      <th>0</th>\n",
       "      <td>6.89</td>\n",
       "      <td>0.148372</td>\n",
       "      <td>3.26</td>\n",
       "    </tr>\n",
       "    <tr>\n",
       "      <th>1</th>\n",
       "      <td>5.12</td>\n",
       "      <td>0.959920</td>\n",
       "      <td>1.98</td>\n",
       "    </tr>\n",
       "    <tr>\n",
       "      <th>2</th>\n",
       "      <td>7.82</td>\n",
       "      <td>0.025579</td>\n",
       "      <td>3.25</td>\n",
       "    </tr>\n",
       "    <tr>\n",
       "      <th>3</th>\n",
       "      <td>7.42</td>\n",
       "      <td>0.366877</td>\n",
       "      <td>3.67</td>\n",
       "    </tr>\n",
       "    <tr>\n",
       "      <th>4</th>\n",
       "      <td>6.94</td>\n",
       "      <td>0.309221</td>\n",
       "      <td>3.57</td>\n",
       "    </tr>\n",
       "  </tbody>\n",
       "</table>\n",
       "</div>"
      ],
      "text/plain": [
       "   cgpa  random_feature  package\n",
       "0  6.89        0.148372     3.26\n",
       "1  5.12        0.959920     1.98\n",
       "2  7.82        0.025579     3.25\n",
       "3  7.42        0.366877     3.67\n",
       "4  6.94        0.309221     3.57"
      ]
     },
     "execution_count": 22,
     "metadata": {},
     "output_type": "execute_result"
    }
   ],
   "source": [
    "new_df1 = df.copy()\n",
    "new_df1['random_feature'] = np.random.random(200)\n",
    "\n",
    "new_df1 = new_df1[['cgpa','random_feature','package']]\n",
    "new_df1.head()"
   ]
  },
  {
   "cell_type": "code",
   "execution_count": 23,
   "id": "b28cf301",
   "metadata": {},
   "outputs": [
    {
     "data": {
      "text/plain": [
       "Text(0, 0.5, 'Package(in lpa)')"
      ]
     },
     "execution_count": 23,
     "metadata": {},
     "output_type": "execute_result"
    },
    {
     "data": {
      "image/png": "[encoded data removed]",
      "text/plain": [
       "<Figure size 640x480 with 1 Axes>"
      ]
     },
     "metadata": {},
     "output_type": "display_data"
    }
   ],
   "source": [
    "plt.scatter(new_df1['random_feature'],new_df1['package'])\n",
    "plt.xlabel('random_feature')\n",
    "plt.ylabel('Package(in lpa)')"
   ]
  },
  {
   "cell_type": "code",
   "execution_count": 24,
   "id": "97a2ad8f",
   "metadata": {},
   "outputs": [],
   "source": [
    "X = new_df1.iloc[:,0:2]\n",
    "y = new_df1.iloc[:,-1]"
   ]
  },
  {
   "cell_type": "code",
   "execution_count": 25,
   "id": "ebb8b096",
   "metadata": {},
   "outputs": [],
   "source": [
    "X_train,X_test,y_train,y_test = train_test_split(X,y,test_size=0.2,random_state=2)"
   ]
  },
  {
   "cell_type": "code",
   "execution_count": 26,
   "id": "41be4269",
   "metadata": {},
   "outputs": [],
   "source": [
    "lr = LinearRegression()"
   ]
  },
  {
   "cell_type": "code",
   "execution_count": 27,
   "id": "13b43b17",
   "metadata": {},
   "outputs": [
    {
     "data": {
      "text/plain": [
       "LinearRegression()"
      ]
     },
     "execution_count": 27,
     "metadata": {},
     "output_type": "execute_result"
    }
   ],
   "source": [
    "lr.fit(X_train,y_train)"
   ]
  },
  {
   "cell_type": "code",
   "execution_count": 28,
   "id": "6c9b5493",
   "metadata": {},
   "outputs": [],
   "source": [
    "y_pred = lr.predict(X_test)"
   ]
  },
  {
   "cell_type": "code",
   "execution_count": 29,
   "id": "e8da1375",
   "metadata": {},
   "outputs": [
    {
     "name": "stdout",
     "output_type": "stream",
     "text": [
      "R2 score 0.7790087801329078\n"
     ]
    }
   ],
   "source": [
    "print(\"R2 score\",r2_score(y_test,y_pred))\n",
    "r2 = r2_score(y_test,y_pred)"
   ]
  },
  {
   "cell_type": "code",
   "execution_count": 30,
   "id": "7b85816a",
   "metadata": {},
   "outputs": [
    {
     "name": "stdout",
     "output_type": "stream",
     "text": [
      "Adjusted R2 score 0.7670633087887406\n"
     ]
    }
   ],
   "source": [
    "ad_r2=1 - ((1-r2)*(40-1)/(40-1-2))\n",
    "print(\"Adjusted R2 score\",ad_r2)"
   ]
  },
  {
   "cell_type": "markdown",
   "id": "8c61af83",
   "metadata": {},
   "source": [
    "### "
   ]
  },
  {
   "cell_type": "markdown",
   "id": "b3297c45",
   "metadata": {},
   "source": [
    "## <font color=\"coral\">2. ADDING USEFUL FEATURE:"
   ]
  },
  {
   "cell_type": "code",
   "execution_count": 31,
   "id": "7f78412a",
   "metadata": {},
   "outputs": [],
   "source": [
    "new_df2 = df.copy()\n",
    "\n",
    "new_df2['iq'] = new_df2['package'] + (np.random.randint(-12,12,200)/10)\n",
    "\n",
    "new_df2 = new_df2[['cgpa','iq','package']]"
   ]
  },
  {
   "cell_type": "code",
   "execution_count": 32,
   "id": "bd1bf4df",
   "metadata": {},
   "outputs": [
    {
     "data": {
      "text/html": [
       "<div>\n",
       "<style scoped>\n",
       "    .dataframe tbody tr th:only-of-type {\n",
       "        vertical-align: middle;\n",
       "    }\n",
       "\n",
       "    .dataframe tbody tr th {\n",
       "        vertical-align: top;\n",
       "    }\n",
       "\n",
       "    .dataframe thead th {\n",
       "        text-align: right;\n",
       "    }\n",
       "</style>\n",
       "<table border=\"1\" class=\"dataframe\">\n",
       "  <thead>\n",
       "    <tr style=\"text-align: right;\">\n",
       "      <th></th>\n",
       "      <th>cgpa</th>\n",
       "      <th>iq</th>\n",
       "      <th>package</th>\n",
       "    </tr>\n",
       "  </thead>\n",
       "  <tbody>\n",
       "    <tr>\n",
       "      <th>147</th>\n",
       "      <td>5.66</td>\n",
       "      <td>2.11</td>\n",
       "      <td>2.21</td>\n",
       "    </tr>\n",
       "    <tr>\n",
       "      <th>142</th>\n",
       "      <td>6.93</td>\n",
       "      <td>2.84</td>\n",
       "      <td>3.04</td>\n",
       "    </tr>\n",
       "    <tr>\n",
       "      <th>53</th>\n",
       "      <td>6.47</td>\n",
       "      <td>2.91</td>\n",
       "      <td>2.61</td>\n",
       "    </tr>\n",
       "    <tr>\n",
       "      <th>155</th>\n",
       "      <td>6.98</td>\n",
       "      <td>3.59</td>\n",
       "      <td>3.09</td>\n",
       "    </tr>\n",
       "    <tr>\n",
       "      <th>60</th>\n",
       "      <td>5.61</td>\n",
       "      <td>3.29</td>\n",
       "      <td>2.19</td>\n",
       "    </tr>\n",
       "  </tbody>\n",
       "</table>\n",
       "</div>"
      ],
      "text/plain": [
       "     cgpa    iq  package\n",
       "147  5.66  2.11     2.21\n",
       "142  6.93  2.84     3.04\n",
       "53   6.47  2.91     2.61\n",
       "155  6.98  3.59     3.09\n",
       "60   5.61  3.29     2.19"
      ]
     },
     "execution_count": 32,
     "metadata": {},
     "output_type": "execute_result"
    }
   ],
   "source": [
    "new_df2.sample(5)"
   ]
  },
  {
   "cell_type": "code",
   "execution_count": 33,
   "id": "5fb60a9a",
   "metadata": {},
   "outputs": [
    {
     "data": {
      "text/plain": [
       "Text(0, 0.5, 'Package(in lpa)')"
      ]
     },
     "execution_count": 33,
     "metadata": {},
     "output_type": "execute_result"
    },
    {
     "data": {
      "image/png": "[encoded data removed]",
      "text/plain": [
       "<Figure size 640x480 with 1 Axes>"
      ]
     },
     "metadata": {},
     "output_type": "display_data"
    }
   ],
   "source": [
    "plt.scatter(new_df2['iq'],new_df2['package'])\n",
    "plt.xlabel('iq')\n",
    "plt.ylabel('Package(in lpa)')"
   ]
  },
  {
   "cell_type": "code",
   "execution_count": 34,
   "id": "b781e068",
   "metadata": {},
   "outputs": [],
   "source": [
    "X = new_df2.iloc[:,0:2]\n",
    "y = new_df2.iloc[:,-1]"
   ]
  },
  {
   "cell_type": "code",
   "execution_count": 35,
   "id": "bd453a32",
   "metadata": {},
   "outputs": [],
   "source": [
    "X_train,X_test,y_train,y_test = train_test_split(X,y,test_size=0.2,random_state=2)"
   ]
  },
  {
   "cell_type": "code",
   "execution_count": 36,
   "id": "aaad8864",
   "metadata": {},
   "outputs": [],
   "source": [
    "lr = LinearRegression()\n",
    "lr.fit(X_train,y_train)\n",
    "y_pred = lr.predict(X_test)"
   ]
  },
  {
   "cell_type": "code",
   "execution_count": 37,
   "id": "9ebf7b54",
   "metadata": {},
   "outputs": [
    {
     "name": "stdout",
     "output_type": "stream",
     "text": [
      "R2 score 0.8347562708477617\n"
     ]
    }
   ],
   "source": [
    "print(\"R2 score\",r2_score(y_test,y_pred))\n",
    "r2 = r2_score(y_test,y_pred)"
   ]
  },
  {
   "cell_type": "code",
   "execution_count": 38,
   "id": "af0b706c",
   "metadata": {},
   "outputs": [
    {
     "name": "stdout",
     "output_type": "stream",
     "text": [
      "Adjusted R2 score 0.8258241773800732\n"
     ]
    }
   ],
   "source": [
    "adj_r_sq=1 - ((1-r2)*(40-1)/(40-1-2))\n",
    "print(\"Adjusted R2 score\",adj_r_sq)"
   ]
  }
 ],
 "metadata": {
  "kernelspec": {
   "display_name": "Python 3 (ipykernel)",
   "language": "python",
   "name": "python3"
  },
  "language_info": {
   "codemirror_mode": {
    "name": "ipython",
    "version": 3
   },
   "file_extension": ".py",
   "mimetype": "text/x-python",
   "name": "python",
   "nbconvert_exporter": "python",
   "pygments_lexer": "ipython3",
   "version": "3.12.3"
  }
 },
 "nbformat": 4,
 "nbformat_minor": 5
}
