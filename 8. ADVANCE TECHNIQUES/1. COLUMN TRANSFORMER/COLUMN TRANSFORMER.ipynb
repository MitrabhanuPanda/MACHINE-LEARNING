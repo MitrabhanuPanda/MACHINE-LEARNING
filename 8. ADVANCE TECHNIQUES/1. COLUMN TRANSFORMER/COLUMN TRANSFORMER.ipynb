{
 "cells": [
  {
   "cell_type": "markdown",
   "id": "608b77d5",
   "metadata": {},
   "source": [
    "<h1 style=\"text-align : center\"> <font color=\"red\" size=7>COLUMN TRANSFORMER </h1>"
   ]
  },
  {
   "cell_type": "markdown",
   "id": "76424c5c",
   "metadata": {},
   "source": [
    "## <font color=\"dark blue\">WHAT IS COLUMN TRANSFORMER?<font color/>\n",
    "- The ColumnTransformer in Scikit-Learn is used to apply different preprocessing techniques to different columns in a dataset. \n",
    "- It is useful when you have a mix of numerical and categorical features and need to scale, encode, or transform them differently."
   ]
  },
  {
   "cell_type": "markdown",
   "id": "d7306b12",
   "metadata": {},
   "source": [
    "## <font color=\"dark blue\"> WHY USE COLUMN TRANSFORMER?<font color/>\n",
    "- Handles numerical and categorical data separately in one step.\n",
    "- Avoids manual transformation of each column.\n",
    "- Makes preprocessing pipeline-friendly for ML models."
   ]
  },
  {
   "cell_type": "markdown",
   "id": "858c41e5",
   "metadata": {},
   "source": [
    "## <font color=\"dark blue\"> BENEFITS OF COLUMN TRANSFORMER: <font color/>\n",
    "- Automates preprocessing, making ML workflows efficient and clean!"
   ]
  },
  {
   "cell_type": "markdown",
   "id": "8d8e2522",
   "metadata": {},
   "source": [
    "## <font color=\"blue\">CODE<font color/>"
   ]
  },
  {
   "cell_type": "code",
   "execution_count": 1,
   "id": "8f17dca8",
   "metadata": {},
   "outputs": [],
   "source": [
    "import numpy as np\n",
    "import pandas as pd"
   ]
  },
  {
   "cell_type": "code",
   "execution_count": 2,
   "id": "8387f335",
   "metadata": {},
   "outputs": [],
   "source": [
    "from sklearn.impute import SimpleImputer\n",
    "from sklearn.preprocessing import OneHotEncoder\n",
    "from sklearn.preprocessing import OrdinalEncoder"
   ]
  },
  {
   "cell_type": "code",
   "execution_count": 3,
   "id": "99a7ef93",
   "metadata": {},
   "outputs": [],
   "source": [
    "df=pd.read_csv(r\"D:\\DUDUL DS\\CAMPUSX\\ML\\3. ML TECHNIQUES\\1. COLUMN TRANSFORMER\\covid_toy.csv\")"
   ]
  },
  {
   "cell_type": "code",
   "execution_count": 4,
   "id": "1044850b",
   "metadata": {},
   "outputs": [
    {
     "data": {
      "text/html": [
       "<div>\n",
       "<style scoped>\n",
       "    .dataframe tbody tr th:only-of-type {\n",
       "        vertical-align: middle;\n",
       "    }\n",
       "\n",
       "    .dataframe tbody tr th {\n",
       "        vertical-align: top;\n",
       "    }\n",
       "\n",
       "    .dataframe thead th {\n",
       "        text-align: right;\n",
       "    }\n",
       "</style>\n",
       "<table border=\"1\" class=\"dataframe\">\n",
       "  <thead>\n",
       "    <tr style=\"text-align: right;\">\n",
       "      <th></th>\n",
       "      <th>age</th>\n",
       "      <th>gender</th>\n",
       "      <th>fever</th>\n",
       "      <th>cough</th>\n",
       "      <th>city</th>\n",
       "      <th>has_covid</th>\n",
       "    </tr>\n",
       "  </thead>\n",
       "  <tbody>\n",
       "    <tr>\n",
       "      <th>0</th>\n",
       "      <td>60</td>\n",
       "      <td>Male</td>\n",
       "      <td>103.0</td>\n",
       "      <td>Mild</td>\n",
       "      <td>Kolkata</td>\n",
       "      <td>No</td>\n",
       "    </tr>\n",
       "    <tr>\n",
       "      <th>1</th>\n",
       "      <td>27</td>\n",
       "      <td>Male</td>\n",
       "      <td>100.0</td>\n",
       "      <td>Mild</td>\n",
       "      <td>Delhi</td>\n",
       "      <td>Yes</td>\n",
       "    </tr>\n",
       "    <tr>\n",
       "      <th>2</th>\n",
       "      <td>42</td>\n",
       "      <td>Male</td>\n",
       "      <td>101.0</td>\n",
       "      <td>Mild</td>\n",
       "      <td>Delhi</td>\n",
       "      <td>No</td>\n",
       "    </tr>\n",
       "    <tr>\n",
       "      <th>3</th>\n",
       "      <td>31</td>\n",
       "      <td>Female</td>\n",
       "      <td>98.0</td>\n",
       "      <td>Mild</td>\n",
       "      <td>Kolkata</td>\n",
       "      <td>No</td>\n",
       "    </tr>\n",
       "    <tr>\n",
       "      <th>4</th>\n",
       "      <td>65</td>\n",
       "      <td>Female</td>\n",
       "      <td>101.0</td>\n",
       "      <td>Mild</td>\n",
       "      <td>Mumbai</td>\n",
       "      <td>No</td>\n",
       "    </tr>\n",
       "  </tbody>\n",
       "</table>\n",
       "</div>"
      ],
      "text/plain": [
       "   age  gender  fever cough     city has_covid\n",
       "0   60    Male  103.0  Mild  Kolkata        No\n",
       "1   27    Male  100.0  Mild    Delhi       Yes\n",
       "2   42    Male  101.0  Mild    Delhi        No\n",
       "3   31  Female   98.0  Mild  Kolkata        No\n",
       "4   65  Female  101.0  Mild   Mumbai        No"
      ]
     },
     "execution_count": 4,
     "metadata": {},
     "output_type": "execute_result"
    }
   ],
   "source": [
    "df.head()"
   ]
  },
  {
   "cell_type": "code",
   "execution_count": 5,
   "id": "84cc3742",
   "metadata": {},
   "outputs": [],
   "source": [
    "x=df.drop([\"has_covid\"],axis=1)"
   ]
  },
  {
   "cell_type": "code",
   "execution_count": 6,
   "id": "4432b896",
   "metadata": {},
   "outputs": [],
   "source": [
    "y=df[\"has_covid\"]"
   ]
  },
  {
   "cell_type": "code",
   "execution_count": 7,
   "id": "1ec2c88a",
   "metadata": {},
   "outputs": [],
   "source": [
    "from sklearn.model_selection import train_test_split\n",
    "x_train,x_test,y_train,y_test=train_test_split(x,y,test_size=0.2)"
   ]
  },
  {
   "cell_type": "markdown",
   "id": "1f509ef9",
   "metadata": {},
   "source": [
    "## <font color=\"brown\">COLUMN TRANSFOMER<font color/>"
   ]
  },
  {
   "cell_type": "code",
   "execution_count": 8,
   "id": "f05e33b4",
   "metadata": {},
   "outputs": [],
   "source": [
    "from sklearn.compose import ColumnTransformer"
   ]
  },
  {
   "cell_type": "code",
   "execution_count": 9,
   "id": "ac25d07e",
   "metadata": {},
   "outputs": [],
   "source": [
    "# Create a object of Column Transformer name as \"trans\"\n",
    "\n",
    "trans=ColumnTransformer(transformers=[  \n",
    "    \n",
    "    # We pass 2 things i.e \"Transformer's List\",\"Remainder\".\n",
    "    \n",
    "    # Reaminder--> We donot use transformation in every column.. If some column is left,then we drop it otherwise leave it.\n",
    "    \n",
    "    # In this list we pass 3 things in \"Touple\" i.e \"Transformer Name\",\"Transformer Object\",\"Column's Name in list\"\n",
    "    \n",
    "    (\"tnf1\",SimpleImputer(),[\"fever\"]),    \n",
    "    \n",
    "    (\"tnf2\",OrdinalEncoder(categories=[[\"Mild\",\"Strong\"]]),[\"cough\"]),\n",
    "    \n",
    "    (\"tnf3\",OneHotEncoder(sparse=False,drop=\"first\"),[\"gender\",\"city\"])\n",
    "    \n",
    "],remainder=\"passthrough\")"
   ]
  },
  {
   "cell_type": "code",
   "execution_count": 10,
   "id": "251ef361",
   "metadata": {},
   "outputs": [
    {
     "data": {
      "text/plain": [
       "(80, 7)"
      ]
     },
     "execution_count": 10,
     "metadata": {},
     "output_type": "execute_result"
    }
   ],
   "source": [
    "trans.fit_transform(x_train).shape"
   ]
  },
  {
   "cell_type": "code",
   "execution_count": 13,
   "id": "b23cdb0f",
   "metadata": {},
   "outputs": [
    {
     "data": {
      "text/plain": [
       "(20, 7)"
      ]
     },
     "execution_count": 13,
     "metadata": {},
     "output_type": "execute_result"
    }
   ],
   "source": [
    "trans.transform(x_test).shape"
   ]
  },
  {
   "cell_type": "code",
   "execution_count": 12,
   "id": "0fb60cde",
   "metadata": {},
   "outputs": [
    {
     "data": {
      "text/plain": [
       "[('tnf1', SimpleImputer(), ['fever']),\n",
       " ('tnf2', OrdinalEncoder(categories=[['Mild', 'Strong']]), ['cough']),\n",
       " ('tnf3', OneHotEncoder(drop='first', sparse=False), ['gender', 'city']),\n",
       " ('remainder', 'passthrough', [0])]"
      ]
     },
     "execution_count": 12,
     "metadata": {},
     "output_type": "execute_result"
    }
   ],
   "source": [
    "trans.transformers_"
   ]
  }
 ],
 "metadata": {
  "kernelspec": {
   "display_name": "Python 3 (ipykernel)",
   "language": "python",
   "name": "python3"
  },
  "language_info": {
   "codemirror_mode": {
    "name": "ipython",
    "version": 3
   },
   "file_extension": ".py",
   "mimetype": "text/x-python",
   "name": "python",
   "nbconvert_exporter": "python",
   "pygments_lexer": "ipython3",
   "version": "3.9.13"
  }
 },
 "nbformat": 4,
 "nbformat_minor": 5
}
