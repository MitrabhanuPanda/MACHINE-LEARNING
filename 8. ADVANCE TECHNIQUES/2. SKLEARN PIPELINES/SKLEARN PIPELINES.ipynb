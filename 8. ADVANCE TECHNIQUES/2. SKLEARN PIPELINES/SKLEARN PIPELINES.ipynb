{
 "cells": [
  {
   "cell_type": "markdown",
   "id": "5f661f38",
   "metadata": {},
   "source": [
    "<h1 style=\"text-align : center\"> <font color=\"red\" size=7>SCIKIT PIPELINES </h1>"
   ]
  },
  {
   "cell_type": "markdown",
   "id": "73061788",
   "metadata": {},
   "source": [
    "## <font color=\"dark blue\">WHAT IS SCIKIT PIPELINES ?<font color/>\n",
    "- Pipelines chains together multiple steps, so that the output of each step is used as input to the next step.\n",
    "- Pipelines makes it easy to apply the same preprocessing to train & test.\n",
    "\n",
    "\n",
    "> - The Pipeline in Scikit-Learn is used to automate the machine learning workflow by chaining multiple preprocessing steps and a model into a single object. \n",
    "> - This makes the process cleaner, more efficient, and less error-prone"
   ]
  },
  {
   "cell_type": "markdown",
   "id": "763704d0",
   "metadata": {},
   "source": [
    "## <font color=\"dark blue\">WHY USE SCIKIT PIPELINES ?<font color/>\n",
    "- Combines preprocessing & modeling in one step.\n",
    "- Avoids data leakage by ensuring transformations are only applied to training data.\n",
    "- Easier hyperparameter tuning with GridSearchCV."
   ]
  },
  {
   "cell_type": "markdown",
   "id": "3d9b8be4",
   "metadata": {},
   "source": [
    "## <font color=\"dark blue\">BENEFITS OF SCIKIT PIPELINES <font color/>\n",
    "- Simplifies ML workflows, ensuring consistency and efficiency!"
   ]
  },
  {
   "cell_type": "markdown",
   "id": "9e9e5a6e",
   "metadata": {},
   "source": [
    "## <font color=\"blue\">CODE<font color/>"
   ]
  },
  {
   "cell_type": "code",
   "execution_count": 1,
   "id": "2e3075b5",
   "metadata": {},
   "outputs": [],
   "source": [
    "import numpy as np\n",
    "import pandas as pd"
   ]
  },
  {
   "cell_type": "code",
   "execution_count": 2,
   "id": "59a8296e",
   "metadata": {},
   "outputs": [],
   "source": [
    "from sklearn.model_selection import train_test_split\n",
    "from sklearn.compose import ColumnTransformer\n",
    "from sklearn.impute import SimpleImputer\n",
    "from sklearn.preprocessing import OneHotEncoder\n",
    "from sklearn.preprocessing import MinMaxScaler\n",
    "from sklearn.pipeline import Pipeline,make_pipeline\n",
    "from sklearn.feature_selection import SelectKBest,chi2\n",
    "from sklearn.tree import DecisionTreeClassifier"
   ]
  },
  {
   "cell_type": "code",
   "execution_count": 3,
   "id": "a4e42993",
   "metadata": {},
   "outputs": [],
   "source": [
    "df = pd.read_csv(r\"D:\\DUDUL DS\\CAMPUSX\\ML\\8. ADVANCE TECHNIQUES\\2. SKLEARN PIPELINES\\train.csv\")"
   ]
  },
  {
   "cell_type": "code",
   "execution_count": 4,
   "id": "6a3751f2",
   "metadata": {},
   "outputs": [
    {
     "data": {
      "text/html": [
       "<div>\n",
       "<style scoped>\n",
       "    .dataframe tbody tr th:only-of-type {\n",
       "        vertical-align: middle;\n",
       "    }\n",
       "\n",
       "    .dataframe tbody tr th {\n",
       "        vertical-align: top;\n",
       "    }\n",
       "\n",
       "    .dataframe thead th {\n",
       "        text-align: right;\n",
       "    }\n",
       "</style>\n",
       "<table border=\"1\" class=\"dataframe\">\n",
       "  <thead>\n",
       "    <tr style=\"text-align: right;\">\n",
       "      <th></th>\n",
       "      <th>PassengerId</th>\n",
       "      <th>Survived</th>\n",
       "      <th>Pclass</th>\n",
       "      <th>Name</th>\n",
       "      <th>Sex</th>\n",
       "      <th>Age</th>\n",
       "      <th>SibSp</th>\n",
       "      <th>Parch</th>\n",
       "      <th>Ticket</th>\n",
       "      <th>Fare</th>\n",
       "      <th>Cabin</th>\n",
       "      <th>Embarked</th>\n",
       "    </tr>\n",
       "  </thead>\n",
       "  <tbody>\n",
       "    <tr>\n",
       "      <th>0</th>\n",
       "      <td>1</td>\n",
       "      <td>0</td>\n",
       "      <td>3</td>\n",
       "      <td>Braund, Mr. Owen Harris</td>\n",
       "      <td>male</td>\n",
       "      <td>22.0</td>\n",
       "      <td>1</td>\n",
       "      <td>0</td>\n",
       "      <td>A/5 21171</td>\n",
       "      <td>7.2500</td>\n",
       "      <td>NaN</td>\n",
       "      <td>S</td>\n",
       "    </tr>\n",
       "    <tr>\n",
       "      <th>1</th>\n",
       "      <td>2</td>\n",
       "      <td>1</td>\n",
       "      <td>1</td>\n",
       "      <td>Cumings, Mrs. John Bradley (Florence Briggs Th...</td>\n",
       "      <td>female</td>\n",
       "      <td>38.0</td>\n",
       "      <td>1</td>\n",
       "      <td>0</td>\n",
       "      <td>PC 17599</td>\n",
       "      <td>71.2833</td>\n",
       "      <td>C85</td>\n",
       "      <td>C</td>\n",
       "    </tr>\n",
       "    <tr>\n",
       "      <th>2</th>\n",
       "      <td>3</td>\n",
       "      <td>1</td>\n",
       "      <td>3</td>\n",
       "      <td>Heikkinen, Miss. Laina</td>\n",
       "      <td>female</td>\n",
       "      <td>26.0</td>\n",
       "      <td>0</td>\n",
       "      <td>0</td>\n",
       "      <td>STON/O2. 3101282</td>\n",
       "      <td>7.9250</td>\n",
       "      <td>NaN</td>\n",
       "      <td>S</td>\n",
       "    </tr>\n",
       "    <tr>\n",
       "      <th>3</th>\n",
       "      <td>4</td>\n",
       "      <td>1</td>\n",
       "      <td>1</td>\n",
       "      <td>Futrelle, Mrs. Jacques Heath (Lily May Peel)</td>\n",
       "      <td>female</td>\n",
       "      <td>35.0</td>\n",
       "      <td>1</td>\n",
       "      <td>0</td>\n",
       "      <td>113803</td>\n",
       "      <td>53.1000</td>\n",
       "      <td>C123</td>\n",
       "      <td>S</td>\n",
       "    </tr>\n",
       "    <tr>\n",
       "      <th>4</th>\n",
       "      <td>5</td>\n",
       "      <td>0</td>\n",
       "      <td>3</td>\n",
       "      <td>Allen, Mr. William Henry</td>\n",
       "      <td>male</td>\n",
       "      <td>35.0</td>\n",
       "      <td>0</td>\n",
       "      <td>0</td>\n",
       "      <td>373450</td>\n",
       "      <td>8.0500</td>\n",
       "      <td>NaN</td>\n",
       "      <td>S</td>\n",
       "    </tr>\n",
       "  </tbody>\n",
       "</table>\n",
       "</div>"
      ],
      "text/plain": [
       "   PassengerId  Survived  Pclass  \\\n",
       "0            1         0       3   \n",
       "1            2         1       1   \n",
       "2            3         1       3   \n",
       "3            4         1       1   \n",
       "4            5         0       3   \n",
       "\n",
       "                                                Name     Sex   Age  SibSp  \\\n",
       "0                            Braund, Mr. Owen Harris    male  22.0      1   \n",
       "1  Cumings, Mrs. John Bradley (Florence Briggs Th...  female  38.0      1   \n",
       "2                             Heikkinen, Miss. Laina  female  26.0      0   \n",
       "3       Futrelle, Mrs. Jacques Heath (Lily May Peel)  female  35.0      1   \n",
       "4                           Allen, Mr. William Henry    male  35.0      0   \n",
       "\n",
       "   Parch            Ticket     Fare Cabin Embarked  \n",
       "0      0         A/5 21171   7.2500   NaN        S  \n",
       "1      0          PC 17599  71.2833   C85        C  \n",
       "2      0  STON/O2. 3101282   7.9250   NaN        S  \n",
       "3      0            113803  53.1000  C123        S  \n",
       "4      0            373450   8.0500   NaN        S  "
      ]
     },
     "execution_count": 4,
     "metadata": {},
     "output_type": "execute_result"
    }
   ],
   "source": [
    "df.head()"
   ]
  },
  {
   "cell_type": "code",
   "execution_count": 5,
   "id": "18faf092",
   "metadata": {},
   "outputs": [],
   "source": [
    "df.drop(columns=['PassengerId','Name','Ticket','Cabin'],inplace=True)"
   ]
  },
  {
   "cell_type": "code",
   "execution_count": 6,
   "id": "9db9bfbd",
   "metadata": {},
   "outputs": [],
   "source": [
    "# Step 1 -> train/test/split\n",
    "X_train,X_test,y_train,y_test = train_test_split(df.drop(columns=['Survived']),\n",
    "                                                 df['Survived'],\n",
    "                                                 test_size=0.2,\n",
    "                                                random_state=42)"
   ]
  },
  {
   "cell_type": "code",
   "execution_count": 7,
   "id": "a21c69b9",
   "metadata": {},
   "outputs": [
    {
     "data": {
      "text/html": [
       "<div>\n",
       "<style scoped>\n",
       "    .dataframe tbody tr th:only-of-type {\n",
       "        vertical-align: middle;\n",
       "    }\n",
       "\n",
       "    .dataframe tbody tr th {\n",
       "        vertical-align: top;\n",
       "    }\n",
       "\n",
       "    .dataframe thead th {\n",
       "        text-align: right;\n",
       "    }\n",
       "</style>\n",
       "<table border=\"1\" class=\"dataframe\">\n",
       "  <thead>\n",
       "    <tr style=\"text-align: right;\">\n",
       "      <th></th>\n",
       "      <th>Pclass</th>\n",
       "      <th>Sex</th>\n",
       "      <th>Age</th>\n",
       "      <th>SibSp</th>\n",
       "      <th>Parch</th>\n",
       "      <th>Fare</th>\n",
       "      <th>Embarked</th>\n",
       "    </tr>\n",
       "  </thead>\n",
       "  <tbody>\n",
       "    <tr>\n",
       "      <th>331</th>\n",
       "      <td>1</td>\n",
       "      <td>male</td>\n",
       "      <td>45.5</td>\n",
       "      <td>0</td>\n",
       "      <td>0</td>\n",
       "      <td>28.5000</td>\n",
       "      <td>S</td>\n",
       "    </tr>\n",
       "    <tr>\n",
       "      <th>733</th>\n",
       "      <td>2</td>\n",
       "      <td>male</td>\n",
       "      <td>23.0</td>\n",
       "      <td>0</td>\n",
       "      <td>0</td>\n",
       "      <td>13.0000</td>\n",
       "      <td>S</td>\n",
       "    </tr>\n",
       "    <tr>\n",
       "      <th>382</th>\n",
       "      <td>3</td>\n",
       "      <td>male</td>\n",
       "      <td>32.0</td>\n",
       "      <td>0</td>\n",
       "      <td>0</td>\n",
       "      <td>7.9250</td>\n",
       "      <td>S</td>\n",
       "    </tr>\n",
       "    <tr>\n",
       "      <th>704</th>\n",
       "      <td>3</td>\n",
       "      <td>male</td>\n",
       "      <td>26.0</td>\n",
       "      <td>1</td>\n",
       "      <td>0</td>\n",
       "      <td>7.8542</td>\n",
       "      <td>S</td>\n",
       "    </tr>\n",
       "    <tr>\n",
       "      <th>813</th>\n",
       "      <td>3</td>\n",
       "      <td>female</td>\n",
       "      <td>6.0</td>\n",
       "      <td>4</td>\n",
       "      <td>2</td>\n",
       "      <td>31.2750</td>\n",
       "      <td>S</td>\n",
       "    </tr>\n",
       "  </tbody>\n",
       "</table>\n",
       "</div>"
      ],
      "text/plain": [
       "     Pclass     Sex   Age  SibSp  Parch     Fare Embarked\n",
       "331       1    male  45.5      0      0  28.5000        S\n",
       "733       2    male  23.0      0      0  13.0000        S\n",
       "382       3    male  32.0      0      0   7.9250        S\n",
       "704       3    male  26.0      1      0   7.8542        S\n",
       "813       3  female   6.0      4      2  31.2750        S"
      ]
     },
     "execution_count": 7,
     "metadata": {},
     "output_type": "execute_result"
    }
   ],
   "source": [
    "X_train.head()"
   ]
  },
  {
   "cell_type": "code",
   "execution_count": 8,
   "id": "0a943908",
   "metadata": {},
   "outputs": [],
   "source": [
    "# imputation transformer\n",
    "trf1 = ColumnTransformer([\n",
    "    ('impute_age',SimpleImputer(),[2]),\n",
    "    ('impute_embarked',SimpleImputer(strategy='most_frequent'),[6])\n",
    "],remainder='passthrough')"
   ]
  },
  {
   "cell_type": "code",
   "execution_count": 9,
   "id": "6f46e649",
   "metadata": {},
   "outputs": [],
   "source": [
    "# one hot encoding\n",
    "trf2 = ColumnTransformer([\n",
    "    ('ohe_sex_embarked',OneHotEncoder(sparse=False,handle_unknown='ignore'),[1,6])\n",
    "],remainder='passthrough')"
   ]
  },
  {
   "cell_type": "code",
   "execution_count": 10,
   "id": "984dd71d",
   "metadata": {},
   "outputs": [],
   "source": [
    "# Scaling\n",
    "trf3 = ColumnTransformer([\n",
    "    ('scale',MinMaxScaler(),slice(0,10))\n",
    "])"
   ]
  },
  {
   "cell_type": "code",
   "execution_count": 11,
   "id": "9fda91ba",
   "metadata": {},
   "outputs": [],
   "source": [
    "# Feature selection\n",
    "trf4 = SelectKBest(score_func=chi2,k=8)"
   ]
  },
  {
   "cell_type": "code",
   "execution_count": 12,
   "id": "80b06dbb",
   "metadata": {},
   "outputs": [],
   "source": [
    "# train the model\n",
    "trf5 = DecisionTreeClassifier()"
   ]
  },
  {
   "cell_type": "code",
   "execution_count": 13,
   "id": "bb598f77",
   "metadata": {},
   "outputs": [],
   "source": [
    "pipe = Pipeline([\n",
    "    ('trf1',trf1),\n",
    "    ('trf2',trf2),\n",
    "    ('trf3',trf3),\n",
    "    ('trf4',trf4),\n",
    "    ('trf5',trf5)\n",
    "])"
   ]
  },
  {
   "cell_type": "code",
   "execution_count": 14,
   "id": "b56b1306",
   "metadata": {},
   "outputs": [],
   "source": [
    "# Display Pipeline\n",
    "\n",
    "from sklearn import set_config\n",
    "set_config(display='diagram')"
   ]
  },
  {
   "cell_type": "code",
   "execution_count": 15,
   "id": "8c6768b1",
   "metadata": {},
   "outputs": [
    {
     "data": {
      "text/html": [
       "<style>#sk-d72d617b-8056-4daf-ac44-4a11cbb73a1e {color: black;background-color: white;}#sk-d72d617b-8056-4daf-ac44-4a11cbb73a1e pre{padding: 0;}#sk-d72d617b-8056-4daf-ac44-4a11cbb73a1e div.sk-toggleable {background-color: white;}#sk-d72d617b-8056-4daf-ac44-4a11cbb73a1e label.sk-toggleable__label {cursor: pointer;display: block;width: 100%;margin-bottom: 0;padding: 0.3em;box-sizing: border-box;text-align: center;}#sk-d72d617b-8056-4daf-ac44-4a11cbb73a1e label.sk-toggleable__label-arrow:before {content: \"▸\";float: left;margin-right: 0.25em;color: #696969;}#sk-d72d617b-8056-4daf-ac44-4a11cbb73a1e label.sk-toggleable__label-arrow:hover:before {color: black;}#sk-d72d617b-8056-4daf-ac44-4a11cbb73a1e div.sk-estimator:hover label.sk-toggleable__label-arrow:before {color: black;}#sk-d72d617b-8056-4daf-ac44-4a11cbb73a1e div.sk-toggleable__content {max-height: 0;max-width: 0;overflow: hidden;text-align: left;background-color: #f0f8ff;}#sk-d72d617b-8056-4daf-ac44-4a11cbb73a1e div.sk-toggleable__content pre {margin: 0.2em;color: black;border-radius: 0.25em;background-color: #f0f8ff;}#sk-d72d617b-8056-4daf-ac44-4a11cbb73a1e input.sk-toggleable__control:checked~div.sk-toggleable__content {max-height: 200px;max-width: 100%;overflow: auto;}#sk-d72d617b-8056-4daf-ac44-4a11cbb73a1e input.sk-toggleable__control:checked~label.sk-toggleable__label-arrow:before {content: \"▾\";}#sk-d72d617b-8056-4daf-ac44-4a11cbb73a1e div.sk-estimator input.sk-toggleable__control:checked~label.sk-toggleable__label {background-color: #d4ebff;}#sk-d72d617b-8056-4daf-ac44-4a11cbb73a1e div.sk-label input.sk-toggleable__control:checked~label.sk-toggleable__label {background-color: #d4ebff;}#sk-d72d617b-8056-4daf-ac44-4a11cbb73a1e input.sk-hidden--visually {border: 0;clip: rect(1px 1px 1px 1px);clip: rect(1px, 1px, 1px, 1px);height: 1px;margin: -1px;overflow: hidden;padding: 0;position: absolute;width: 1px;}#sk-d72d617b-8056-4daf-ac44-4a11cbb73a1e div.sk-estimator {font-family: monospace;background-color: #f0f8ff;border: 1px dotted black;border-radius: 0.25em;box-sizing: border-box;margin-bottom: 0.5em;}#sk-d72d617b-8056-4daf-ac44-4a11cbb73a1e div.sk-estimator:hover {background-color: #d4ebff;}#sk-d72d617b-8056-4daf-ac44-4a11cbb73a1e div.sk-parallel-item::after {content: \"\";width: 100%;border-bottom: 1px solid gray;flex-grow: 1;}#sk-d72d617b-8056-4daf-ac44-4a11cbb73a1e div.sk-label:hover label.sk-toggleable__label {background-color: #d4ebff;}#sk-d72d617b-8056-4daf-ac44-4a11cbb73a1e div.sk-serial::before {content: \"\";position: absolute;border-left: 1px solid gray;box-sizing: border-box;top: 2em;bottom: 0;left: 50%;}#sk-d72d617b-8056-4daf-ac44-4a11cbb73a1e div.sk-serial {display: flex;flex-direction: column;align-items: center;background-color: white;padding-right: 0.2em;padding-left: 0.2em;}#sk-d72d617b-8056-4daf-ac44-4a11cbb73a1e div.sk-item {z-index: 1;}#sk-d72d617b-8056-4daf-ac44-4a11cbb73a1e div.sk-parallel {display: flex;align-items: stretch;justify-content: center;background-color: white;}#sk-d72d617b-8056-4daf-ac44-4a11cbb73a1e div.sk-parallel::before {content: \"\";position: absolute;border-left: 1px solid gray;box-sizing: border-box;top: 2em;bottom: 0;left: 50%;}#sk-d72d617b-8056-4daf-ac44-4a11cbb73a1e div.sk-parallel-item {display: flex;flex-direction: column;position: relative;background-color: white;}#sk-d72d617b-8056-4daf-ac44-4a11cbb73a1e div.sk-parallel-item:first-child::after {align-self: flex-end;width: 50%;}#sk-d72d617b-8056-4daf-ac44-4a11cbb73a1e div.sk-parallel-item:last-child::after {align-self: flex-start;width: 50%;}#sk-d72d617b-8056-4daf-ac44-4a11cbb73a1e div.sk-parallel-item:only-child::after {width: 0;}#sk-d72d617b-8056-4daf-ac44-4a11cbb73a1e div.sk-dashed-wrapped {border: 1px dashed gray;margin: 0 0.4em 0.5em 0.4em;box-sizing: border-box;padding-bottom: 0.4em;background-color: white;position: relative;}#sk-d72d617b-8056-4daf-ac44-4a11cbb73a1e div.sk-label label {font-family: monospace;font-weight: bold;background-color: white;display: inline-block;line-height: 1.2em;}#sk-d72d617b-8056-4daf-ac44-4a11cbb73a1e div.sk-label-container {position: relative;z-index: 2;text-align: center;}#sk-d72d617b-8056-4daf-ac44-4a11cbb73a1e div.sk-container {/* jupyter's `normalize.less` sets `[hidden] { display: none; }` but bootstrap.min.css set `[hidden] { display: none !important; }` so we also need the `!important` here to be able to override the default hidden behavior on the sphinx rendered scikit-learn.org. See: https://github.com/scikit-learn/scikit-learn/issues/21755 */display: inline-block !important;position: relative;}#sk-d72d617b-8056-4daf-ac44-4a11cbb73a1e div.sk-text-repr-fallback {display: none;}</style><div id=\"sk-d72d617b-8056-4daf-ac44-4a11cbb73a1e\" class=\"sk-top-container\"><div class=\"sk-text-repr-fallback\"><pre>Pipeline(steps=[(&#x27;trf1&#x27;,\n",
       "                 ColumnTransformer(remainder=&#x27;passthrough&#x27;,\n",
       "                                   transformers=[(&#x27;impute_age&#x27;, SimpleImputer(),\n",
       "                                                  [2]),\n",
       "                                                 (&#x27;impute_embarked&#x27;,\n",
       "                                                  SimpleImputer(strategy=&#x27;most_frequent&#x27;),\n",
       "                                                  [6])])),\n",
       "                (&#x27;trf2&#x27;,\n",
       "                 ColumnTransformer(remainder=&#x27;passthrough&#x27;,\n",
       "                                   transformers=[(&#x27;ohe_sex_embarked&#x27;,\n",
       "                                                  OneHotEncoder(handle_unknown=&#x27;ignore&#x27;,\n",
       "                                                                sparse=False),\n",
       "                                                  [1, 6])])),\n",
       "                (&#x27;trf3&#x27;,\n",
       "                 ColumnTransformer(transformers=[(&#x27;scale&#x27;, MinMaxScaler(),\n",
       "                                                  slice(0, 10, None))])),\n",
       "                (&#x27;trf4&#x27;,\n",
       "                 SelectKBest(k=8,\n",
       "                             score_func=&lt;function chi2 at 0x000001A4E24C90D0&gt;)),\n",
       "                (&#x27;trf5&#x27;, DecisionTreeClassifier())])</pre><b>Please rerun this cell to show the HTML repr or trust the notebook.</b></div><div class=\"sk-container\" hidden><div class=\"sk-item sk-dashed-wrapped\"><div class=\"sk-label-container\"><div class=\"sk-label sk-toggleable\"><input class=\"sk-toggleable__control sk-hidden--visually\" id=\"7716a12c-5285-48b7-b2c4-b27d93473ec9\" type=\"checkbox\" ><label for=\"7716a12c-5285-48b7-b2c4-b27d93473ec9\" class=\"sk-toggleable__label sk-toggleable__label-arrow\">Pipeline</label><div class=\"sk-toggleable__content\"><pre>Pipeline(steps=[(&#x27;trf1&#x27;,\n",
       "                 ColumnTransformer(remainder=&#x27;passthrough&#x27;,\n",
       "                                   transformers=[(&#x27;impute_age&#x27;, SimpleImputer(),\n",
       "                                                  [2]),\n",
       "                                                 (&#x27;impute_embarked&#x27;,\n",
       "                                                  SimpleImputer(strategy=&#x27;most_frequent&#x27;),\n",
       "                                                  [6])])),\n",
       "                (&#x27;trf2&#x27;,\n",
       "                 ColumnTransformer(remainder=&#x27;passthrough&#x27;,\n",
       "                                   transformers=[(&#x27;ohe_sex_embarked&#x27;,\n",
       "                                                  OneHotEncoder(handle_unknown=&#x27;ignore&#x27;,\n",
       "                                                                sparse=False),\n",
       "                                                  [1, 6])])),\n",
       "                (&#x27;trf3&#x27;,\n",
       "                 ColumnTransformer(transformers=[(&#x27;scale&#x27;, MinMaxScaler(),\n",
       "                                                  slice(0, 10, None))])),\n",
       "                (&#x27;trf4&#x27;,\n",
       "                 SelectKBest(k=8,\n",
       "                             score_func=&lt;function chi2 at 0x000001A4E24C90D0&gt;)),\n",
       "                (&#x27;trf5&#x27;, DecisionTreeClassifier())])</pre></div></div></div><div class=\"sk-serial\"><div class=\"sk-item sk-dashed-wrapped\"><div class=\"sk-label-container\"><div class=\"sk-label sk-toggleable\"><input class=\"sk-toggleable__control sk-hidden--visually\" id=\"64490cab-7a31-449b-9f0b-2cc4939d9de5\" type=\"checkbox\" ><label for=\"64490cab-7a31-449b-9f0b-2cc4939d9de5\" class=\"sk-toggleable__label sk-toggleable__label-arrow\">trf1: ColumnTransformer</label><div class=\"sk-toggleable__content\"><pre>ColumnTransformer(remainder=&#x27;passthrough&#x27;,\n",
       "                  transformers=[(&#x27;impute_age&#x27;, SimpleImputer(), [2]),\n",
       "                                (&#x27;impute_embarked&#x27;,\n",
       "                                 SimpleImputer(strategy=&#x27;most_frequent&#x27;),\n",
       "                                 [6])])</pre></div></div></div><div class=\"sk-parallel\"><div class=\"sk-parallel-item\"><div class=\"sk-item\"><div class=\"sk-label-container\"><div class=\"sk-label sk-toggleable\"><input class=\"sk-toggleable__control sk-hidden--visually\" id=\"ed51321a-c56e-45cc-958b-9dfce3a8b0f1\" type=\"checkbox\" ><label for=\"ed51321a-c56e-45cc-958b-9dfce3a8b0f1\" class=\"sk-toggleable__label sk-toggleable__label-arrow\">impute_age</label><div class=\"sk-toggleable__content\"><pre>[2]</pre></div></div></div><div class=\"sk-serial\"><div class=\"sk-item\"><div class=\"sk-estimator sk-toggleable\"><input class=\"sk-toggleable__control sk-hidden--visually\" id=\"14049fa1-3edc-4d1c-b4e3-a20be8384d60\" type=\"checkbox\" ><label for=\"14049fa1-3edc-4d1c-b4e3-a20be8384d60\" class=\"sk-toggleable__label sk-toggleable__label-arrow\">SimpleImputer</label><div class=\"sk-toggleable__content\"><pre>SimpleImputer()</pre></div></div></div></div></div></div><div class=\"sk-parallel-item\"><div class=\"sk-item\"><div class=\"sk-label-container\"><div class=\"sk-label sk-toggleable\"><input class=\"sk-toggleable__control sk-hidden--visually\" id=\"09ec8d8a-3255-49eb-932d-aab9d7edc80e\" type=\"checkbox\" ><label for=\"09ec8d8a-3255-49eb-932d-aab9d7edc80e\" class=\"sk-toggleable__label sk-toggleable__label-arrow\">impute_embarked</label><div class=\"sk-toggleable__content\"><pre>[6]</pre></div></div></div><div class=\"sk-serial\"><div class=\"sk-item\"><div class=\"sk-estimator sk-toggleable\"><input class=\"sk-toggleable__control sk-hidden--visually\" id=\"a4426b09-3ace-4b6d-b688-c1ff5fbfe473\" type=\"checkbox\" ><label for=\"a4426b09-3ace-4b6d-b688-c1ff5fbfe473\" class=\"sk-toggleable__label sk-toggleable__label-arrow\">SimpleImputer</label><div class=\"sk-toggleable__content\"><pre>SimpleImputer(strategy=&#x27;most_frequent&#x27;)</pre></div></div></div></div></div></div><div class=\"sk-parallel-item\"><div class=\"sk-item\"><div class=\"sk-label-container\"><div class=\"sk-label sk-toggleable\"><input class=\"sk-toggleable__control sk-hidden--visually\" id=\"c6e95a22-4d95-4642-a251-e91487df5f7a\" type=\"checkbox\" ><label for=\"c6e95a22-4d95-4642-a251-e91487df5f7a\" class=\"sk-toggleable__label sk-toggleable__label-arrow\">remainder</label><div class=\"sk-toggleable__content\"><pre>[&#x27;Pclass&#x27;, &#x27;Sex&#x27;, &#x27;SibSp&#x27;, &#x27;Parch&#x27;, &#x27;Fare&#x27;]</pre></div></div></div><div class=\"sk-serial\"><div class=\"sk-item\"><div class=\"sk-estimator sk-toggleable\"><input class=\"sk-toggleable__control sk-hidden--visually\" id=\"5efe7b5b-9d4c-4421-b249-ec7a08730244\" type=\"checkbox\" ><label for=\"5efe7b5b-9d4c-4421-b249-ec7a08730244\" class=\"sk-toggleable__label sk-toggleable__label-arrow\">passthrough</label><div class=\"sk-toggleable__content\"><pre>passthrough</pre></div></div></div></div></div></div></div></div><div class=\"sk-item sk-dashed-wrapped\"><div class=\"sk-label-container\"><div class=\"sk-label sk-toggleable\"><input class=\"sk-toggleable__control sk-hidden--visually\" id=\"d5298685-d226-42e9-b6ef-eb1bd954edc0\" type=\"checkbox\" ><label for=\"d5298685-d226-42e9-b6ef-eb1bd954edc0\" class=\"sk-toggleable__label sk-toggleable__label-arrow\">trf2: ColumnTransformer</label><div class=\"sk-toggleable__content\"><pre>ColumnTransformer(remainder=&#x27;passthrough&#x27;,\n",
       "                  transformers=[(&#x27;ohe_sex_embarked&#x27;,\n",
       "                                 OneHotEncoder(handle_unknown=&#x27;ignore&#x27;,\n",
       "                                               sparse=False),\n",
       "                                 [1, 6])])</pre></div></div></div><div class=\"sk-parallel\"><div class=\"sk-parallel-item\"><div class=\"sk-item\"><div class=\"sk-label-container\"><div class=\"sk-label sk-toggleable\"><input class=\"sk-toggleable__control sk-hidden--visually\" id=\"0766e5c1-3292-4dbb-a8d6-317ee867fd8b\" type=\"checkbox\" ><label for=\"0766e5c1-3292-4dbb-a8d6-317ee867fd8b\" class=\"sk-toggleable__label sk-toggleable__label-arrow\">ohe_sex_embarked</label><div class=\"sk-toggleable__content\"><pre>[1, 6]</pre></div></div></div><div class=\"sk-serial\"><div class=\"sk-item\"><div class=\"sk-estimator sk-toggleable\"><input class=\"sk-toggleable__control sk-hidden--visually\" id=\"467c69a2-cd0f-4ceb-b505-5a4e2cf78856\" type=\"checkbox\" ><label for=\"467c69a2-cd0f-4ceb-b505-5a4e2cf78856\" class=\"sk-toggleable__label sk-toggleable__label-arrow\">OneHotEncoder</label><div class=\"sk-toggleable__content\"><pre>OneHotEncoder(handle_unknown=&#x27;ignore&#x27;, sparse=False)</pre></div></div></div></div></div></div><div class=\"sk-parallel-item\"><div class=\"sk-item\"><div class=\"sk-label-container\"><div class=\"sk-label sk-toggleable\"><input class=\"sk-toggleable__control sk-hidden--visually\" id=\"ac1a6659-25b2-4960-a918-1d353e8e00ab\" type=\"checkbox\" ><label for=\"ac1a6659-25b2-4960-a918-1d353e8e00ab\" class=\"sk-toggleable__label sk-toggleable__label-arrow\">remainder</label><div class=\"sk-toggleable__content\"><pre>[0, 2, 3, 4, 5]</pre></div></div></div><div class=\"sk-serial\"><div class=\"sk-item\"><div class=\"sk-estimator sk-toggleable\"><input class=\"sk-toggleable__control sk-hidden--visually\" id=\"0a6eec3a-0c56-4106-b3da-1ce23dc61737\" type=\"checkbox\" ><label for=\"0a6eec3a-0c56-4106-b3da-1ce23dc61737\" class=\"sk-toggleable__label sk-toggleable__label-arrow\">passthrough</label><div class=\"sk-toggleable__content\"><pre>passthrough</pre></div></div></div></div></div></div></div></div><div class=\"sk-item sk-dashed-wrapped\"><div class=\"sk-label-container\"><div class=\"sk-label sk-toggleable\"><input class=\"sk-toggleable__control sk-hidden--visually\" id=\"fa2778ff-59fe-4e2a-b4c4-b85e6498703d\" type=\"checkbox\" ><label for=\"fa2778ff-59fe-4e2a-b4c4-b85e6498703d\" class=\"sk-toggleable__label sk-toggleable__label-arrow\">trf3: ColumnTransformer</label><div class=\"sk-toggleable__content\"><pre>ColumnTransformer(transformers=[(&#x27;scale&#x27;, MinMaxScaler(), slice(0, 10, None))])</pre></div></div></div><div class=\"sk-parallel\"><div class=\"sk-parallel-item\"><div class=\"sk-item\"><div class=\"sk-label-container\"><div class=\"sk-label sk-toggleable\"><input class=\"sk-toggleable__control sk-hidden--visually\" id=\"aba0215e-4c01-4512-8129-55efee8554a8\" type=\"checkbox\" ><label for=\"aba0215e-4c01-4512-8129-55efee8554a8\" class=\"sk-toggleable__label sk-toggleable__label-arrow\">scale</label><div class=\"sk-toggleable__content\"><pre>slice(0, 10, None)</pre></div></div></div><div class=\"sk-serial\"><div class=\"sk-item\"><div class=\"sk-estimator sk-toggleable\"><input class=\"sk-toggleable__control sk-hidden--visually\" id=\"9c23069c-7a32-4304-94f4-a19a2866ed3f\" type=\"checkbox\" ><label for=\"9c23069c-7a32-4304-94f4-a19a2866ed3f\" class=\"sk-toggleable__label sk-toggleable__label-arrow\">MinMaxScaler</label><div class=\"sk-toggleable__content\"><pre>MinMaxScaler()</pre></div></div></div></div></div></div></div></div><div class=\"sk-item\"><div class=\"sk-estimator sk-toggleable\"><input class=\"sk-toggleable__control sk-hidden--visually\" id=\"7a97449c-b19a-4302-b463-70fcd079c521\" type=\"checkbox\" ><label for=\"7a97449c-b19a-4302-b463-70fcd079c521\" class=\"sk-toggleable__label sk-toggleable__label-arrow\">SelectKBest</label><div class=\"sk-toggleable__content\"><pre>SelectKBest(k=8, score_func=&lt;function chi2 at 0x000001A4E24C90D0&gt;)</pre></div></div></div><div class=\"sk-item\"><div class=\"sk-estimator sk-toggleable\"><input class=\"sk-toggleable__control sk-hidden--visually\" id=\"8d3528f7-2406-4a61-82fe-9d5427bff353\" type=\"checkbox\" ><label for=\"8d3528f7-2406-4a61-82fe-9d5427bff353\" class=\"sk-toggleable__label sk-toggleable__label-arrow\">DecisionTreeClassifier</label><div class=\"sk-toggleable__content\"><pre>DecisionTreeClassifier()</pre></div></div></div></div></div></div></div>"
      ],
      "text/plain": [
       "Pipeline(steps=[('trf1',\n",
       "                 ColumnTransformer(remainder='passthrough',\n",
       "                                   transformers=[('impute_age', SimpleImputer(),\n",
       "                                                  [2]),\n",
       "                                                 ('impute_embarked',\n",
       "                                                  SimpleImputer(strategy='most_frequent'),\n",
       "                                                  [6])])),\n",
       "                ('trf2',\n",
       "                 ColumnTransformer(remainder='passthrough',\n",
       "                                   transformers=[('ohe_sex_embarked',\n",
       "                                                  OneHotEncoder(handle_unknown='ignore',\n",
       "                                                                sparse=False),\n",
       "                                                  [1, 6])])),\n",
       "                ('trf3',\n",
       "                 ColumnTransformer(transformers=[('scale', MinMaxScaler(),\n",
       "                                                  slice(0, 10, None))])),\n",
       "                ('trf4',\n",
       "                 SelectKBest(k=8,\n",
       "                             score_func=<function chi2 at 0x000001A4E24C90D0>)),\n",
       "                ('trf5', DecisionTreeClassifier())])"
      ]
     },
     "execution_count": 15,
     "metadata": {},
     "output_type": "execute_result"
    }
   ],
   "source": [
    "# train\n",
    "pipe.fit(X_train,y_train)"
   ]
  },
  {
   "cell_type": "markdown",
   "id": "b309f298",
   "metadata": {},
   "source": [
    "### <font color=\"brown\">EXPLORE THE PIPELINE<font color/>"
   ]
  },
  {
   "cell_type": "code",
   "execution_count": 16,
   "id": "5ecf6827",
   "metadata": {},
   "outputs": [
    {
     "data": {
      "text/plain": [
       "{'trf1': ColumnTransformer(remainder='passthrough',\n",
       "                   transformers=[('impute_age', SimpleImputer(), [2]),\n",
       "                                 ('impute_embarked',\n",
       "                                  SimpleImputer(strategy='most_frequent'),\n",
       "                                  [6])]),\n",
       " 'trf2': ColumnTransformer(remainder='passthrough',\n",
       "                   transformers=[('ohe_sex_embarked',\n",
       "                                  OneHotEncoder(handle_unknown='ignore',\n",
       "                                                sparse=False),\n",
       "                                  [1, 6])]),\n",
       " 'trf3': ColumnTransformer(transformers=[('scale', MinMaxScaler(), slice(0, 10, None))]),\n",
       " 'trf4': SelectKBest(k=8, score_func=<function chi2 at 0x000001A4E24C90D0>),\n",
       " 'trf5': DecisionTreeClassifier()}"
      ]
     },
     "execution_count": 16,
     "metadata": {},
     "output_type": "execute_result"
    }
   ],
   "source": [
    "pipe.named_steps"
   ]
  },
  {
   "cell_type": "markdown",
   "id": "4af55cc6",
   "metadata": {},
   "source": [
    "#### <font color=\"orange\">Example-1<font color/>"
   ]
  },
  {
   "cell_type": "code",
   "execution_count": 17,
   "id": "73fdc327",
   "metadata": {},
   "outputs": [
    {
     "data": {
      "text/html": [
       "<style>#sk-e46ba594-4b29-4091-9ec6-f6b961a57ba0 {color: black;background-color: white;}#sk-e46ba594-4b29-4091-9ec6-f6b961a57ba0 pre{padding: 0;}#sk-e46ba594-4b29-4091-9ec6-f6b961a57ba0 div.sk-toggleable {background-color: white;}#sk-e46ba594-4b29-4091-9ec6-f6b961a57ba0 label.sk-toggleable__label {cursor: pointer;display: block;width: 100%;margin-bottom: 0;padding: 0.3em;box-sizing: border-box;text-align: center;}#sk-e46ba594-4b29-4091-9ec6-f6b961a57ba0 label.sk-toggleable__label-arrow:before {content: \"▸\";float: left;margin-right: 0.25em;color: #696969;}#sk-e46ba594-4b29-4091-9ec6-f6b961a57ba0 label.sk-toggleable__label-arrow:hover:before {color: black;}#sk-e46ba594-4b29-4091-9ec6-f6b961a57ba0 div.sk-estimator:hover label.sk-toggleable__label-arrow:before {color: black;}#sk-e46ba594-4b29-4091-9ec6-f6b961a57ba0 div.sk-toggleable__content {max-height: 0;max-width: 0;overflow: hidden;text-align: left;background-color: #f0f8ff;}#sk-e46ba594-4b29-4091-9ec6-f6b961a57ba0 div.sk-toggleable__content pre {margin: 0.2em;color: black;border-radius: 0.25em;background-color: #f0f8ff;}#sk-e46ba594-4b29-4091-9ec6-f6b961a57ba0 input.sk-toggleable__control:checked~div.sk-toggleable__content {max-height: 200px;max-width: 100%;overflow: auto;}#sk-e46ba594-4b29-4091-9ec6-f6b961a57ba0 input.sk-toggleable__control:checked~label.sk-toggleable__label-arrow:before {content: \"▾\";}#sk-e46ba594-4b29-4091-9ec6-f6b961a57ba0 div.sk-estimator input.sk-toggleable__control:checked~label.sk-toggleable__label {background-color: #d4ebff;}#sk-e46ba594-4b29-4091-9ec6-f6b961a57ba0 div.sk-label input.sk-toggleable__control:checked~label.sk-toggleable__label {background-color: #d4ebff;}#sk-e46ba594-4b29-4091-9ec6-f6b961a57ba0 input.sk-hidden--visually {border: 0;clip: rect(1px 1px 1px 1px);clip: rect(1px, 1px, 1px, 1px);height: 1px;margin: -1px;overflow: hidden;padding: 0;position: absolute;width: 1px;}#sk-e46ba594-4b29-4091-9ec6-f6b961a57ba0 div.sk-estimator {font-family: monospace;background-color: #f0f8ff;border: 1px dotted black;border-radius: 0.25em;box-sizing: border-box;margin-bottom: 0.5em;}#sk-e46ba594-4b29-4091-9ec6-f6b961a57ba0 div.sk-estimator:hover {background-color: #d4ebff;}#sk-e46ba594-4b29-4091-9ec6-f6b961a57ba0 div.sk-parallel-item::after {content: \"\";width: 100%;border-bottom: 1px solid gray;flex-grow: 1;}#sk-e46ba594-4b29-4091-9ec6-f6b961a57ba0 div.sk-label:hover label.sk-toggleable__label {background-color: #d4ebff;}#sk-e46ba594-4b29-4091-9ec6-f6b961a57ba0 div.sk-serial::before {content: \"\";position: absolute;border-left: 1px solid gray;box-sizing: border-box;top: 2em;bottom: 0;left: 50%;}#sk-e46ba594-4b29-4091-9ec6-f6b961a57ba0 div.sk-serial {display: flex;flex-direction: column;align-items: center;background-color: white;padding-right: 0.2em;padding-left: 0.2em;}#sk-e46ba594-4b29-4091-9ec6-f6b961a57ba0 div.sk-item {z-index: 1;}#sk-e46ba594-4b29-4091-9ec6-f6b961a57ba0 div.sk-parallel {display: flex;align-items: stretch;justify-content: center;background-color: white;}#sk-e46ba594-4b29-4091-9ec6-f6b961a57ba0 div.sk-parallel::before {content: \"\";position: absolute;border-left: 1px solid gray;box-sizing: border-box;top: 2em;bottom: 0;left: 50%;}#sk-e46ba594-4b29-4091-9ec6-f6b961a57ba0 div.sk-parallel-item {display: flex;flex-direction: column;position: relative;background-color: white;}#sk-e46ba594-4b29-4091-9ec6-f6b961a57ba0 div.sk-parallel-item:first-child::after {align-self: flex-end;width: 50%;}#sk-e46ba594-4b29-4091-9ec6-f6b961a57ba0 div.sk-parallel-item:last-child::after {align-self: flex-start;width: 50%;}#sk-e46ba594-4b29-4091-9ec6-f6b961a57ba0 div.sk-parallel-item:only-child::after {width: 0;}#sk-e46ba594-4b29-4091-9ec6-f6b961a57ba0 div.sk-dashed-wrapped {border: 1px dashed gray;margin: 0 0.4em 0.5em 0.4em;box-sizing: border-box;padding-bottom: 0.4em;background-color: white;position: relative;}#sk-e46ba594-4b29-4091-9ec6-f6b961a57ba0 div.sk-label label {font-family: monospace;font-weight: bold;background-color: white;display: inline-block;line-height: 1.2em;}#sk-e46ba594-4b29-4091-9ec6-f6b961a57ba0 div.sk-label-container {position: relative;z-index: 2;text-align: center;}#sk-e46ba594-4b29-4091-9ec6-f6b961a57ba0 div.sk-container {/* jupyter's `normalize.less` sets `[hidden] { display: none; }` but bootstrap.min.css set `[hidden] { display: none !important; }` so we also need the `!important` here to be able to override the default hidden behavior on the sphinx rendered scikit-learn.org. See: https://github.com/scikit-learn/scikit-learn/issues/21755 */display: inline-block !important;position: relative;}#sk-e46ba594-4b29-4091-9ec6-f6b961a57ba0 div.sk-text-repr-fallback {display: none;}</style><div id=\"sk-e46ba594-4b29-4091-9ec6-f6b961a57ba0\" class=\"sk-top-container\"><div class=\"sk-text-repr-fallback\"><pre>ColumnTransformer(remainder=&#x27;passthrough&#x27;,\n",
       "                  transformers=[(&#x27;impute_age&#x27;, SimpleImputer(), [2]),\n",
       "                                (&#x27;impute_embarked&#x27;,\n",
       "                                 SimpleImputer(strategy=&#x27;most_frequent&#x27;),\n",
       "                                 [6])])</pre><b>Please rerun this cell to show the HTML repr or trust the notebook.</b></div><div class=\"sk-container\" hidden><div class=\"sk-item sk-dashed-wrapped\"><div class=\"sk-label-container\"><div class=\"sk-label sk-toggleable\"><input class=\"sk-toggleable__control sk-hidden--visually\" id=\"065ccabd-7acf-4dd3-b102-44ebe9d1af6d\" type=\"checkbox\" ><label for=\"065ccabd-7acf-4dd3-b102-44ebe9d1af6d\" class=\"sk-toggleable__label sk-toggleable__label-arrow\">ColumnTransformer</label><div class=\"sk-toggleable__content\"><pre>ColumnTransformer(remainder=&#x27;passthrough&#x27;,\n",
       "                  transformers=[(&#x27;impute_age&#x27;, SimpleImputer(), [2]),\n",
       "                                (&#x27;impute_embarked&#x27;,\n",
       "                                 SimpleImputer(strategy=&#x27;most_frequent&#x27;),\n",
       "                                 [6])])</pre></div></div></div><div class=\"sk-parallel\"><div class=\"sk-parallel-item\"><div class=\"sk-item\"><div class=\"sk-label-container\"><div class=\"sk-label sk-toggleable\"><input class=\"sk-toggleable__control sk-hidden--visually\" id=\"c3e29644-e6d5-4854-9239-0caa258806b6\" type=\"checkbox\" ><label for=\"c3e29644-e6d5-4854-9239-0caa258806b6\" class=\"sk-toggleable__label sk-toggleable__label-arrow\">impute_age</label><div class=\"sk-toggleable__content\"><pre>[2]</pre></div></div></div><div class=\"sk-serial\"><div class=\"sk-item\"><div class=\"sk-estimator sk-toggleable\"><input class=\"sk-toggleable__control sk-hidden--visually\" id=\"708ca943-0478-4d83-b5b3-bd19495861ac\" type=\"checkbox\" ><label for=\"708ca943-0478-4d83-b5b3-bd19495861ac\" class=\"sk-toggleable__label sk-toggleable__label-arrow\">SimpleImputer</label><div class=\"sk-toggleable__content\"><pre>SimpleImputer()</pre></div></div></div></div></div></div><div class=\"sk-parallel-item\"><div class=\"sk-item\"><div class=\"sk-label-container\"><div class=\"sk-label sk-toggleable\"><input class=\"sk-toggleable__control sk-hidden--visually\" id=\"a1e779d7-0535-41c2-9d16-3db273c3a5a0\" type=\"checkbox\" ><label for=\"a1e779d7-0535-41c2-9d16-3db273c3a5a0\" class=\"sk-toggleable__label sk-toggleable__label-arrow\">impute_embarked</label><div class=\"sk-toggleable__content\"><pre>[6]</pre></div></div></div><div class=\"sk-serial\"><div class=\"sk-item\"><div class=\"sk-estimator sk-toggleable\"><input class=\"sk-toggleable__control sk-hidden--visually\" id=\"70e668a0-d6c5-47d3-a20b-d02a11a3d73f\" type=\"checkbox\" ><label for=\"70e668a0-d6c5-47d3-a20b-d02a11a3d73f\" class=\"sk-toggleable__label sk-toggleable__label-arrow\">SimpleImputer</label><div class=\"sk-toggleable__content\"><pre>SimpleImputer(strategy=&#x27;most_frequent&#x27;)</pre></div></div></div></div></div></div><div class=\"sk-parallel-item\"><div class=\"sk-item\"><div class=\"sk-label-container\"><div class=\"sk-label sk-toggleable\"><input class=\"sk-toggleable__control sk-hidden--visually\" id=\"3fffbdd4-d74a-4418-8ee8-63ffc4d0f0ff\" type=\"checkbox\" ><label for=\"3fffbdd4-d74a-4418-8ee8-63ffc4d0f0ff\" class=\"sk-toggleable__label sk-toggleable__label-arrow\">remainder</label><div class=\"sk-toggleable__content\"><pre>[&#x27;Pclass&#x27;, &#x27;Sex&#x27;, &#x27;SibSp&#x27;, &#x27;Parch&#x27;, &#x27;Fare&#x27;]</pre></div></div></div><div class=\"sk-serial\"><div class=\"sk-item\"><div class=\"sk-estimator sk-toggleable\"><input class=\"sk-toggleable__control sk-hidden--visually\" id=\"8ad597da-0303-42ae-b1cc-fcf1712a6712\" type=\"checkbox\" ><label for=\"8ad597da-0303-42ae-b1cc-fcf1712a6712\" class=\"sk-toggleable__label sk-toggleable__label-arrow\">passthrough</label><div class=\"sk-toggleable__content\"><pre>passthrough</pre></div></div></div></div></div></div></div></div></div></div>"
      ],
      "text/plain": [
       "ColumnTransformer(remainder='passthrough',\n",
       "                  transformers=[('impute_age', SimpleImputer(), [2]),\n",
       "                                ('impute_embarked',\n",
       "                                 SimpleImputer(strategy='most_frequent'),\n",
       "                                 [6])])"
      ]
     },
     "execution_count": 17,
     "metadata": {},
     "output_type": "execute_result"
    }
   ],
   "source": [
    "pipe.named_steps['trf1']"
   ]
  },
  {
   "cell_type": "code",
   "execution_count": 18,
   "id": "f650abb6",
   "metadata": {},
   "outputs": [
    {
     "data": {
      "text/plain": [
       "[('impute_age', SimpleImputer(), [2]),\n",
       " ('impute_embarked', SimpleImputer(strategy='most_frequent'), [6]),\n",
       " ('remainder', 'passthrough', [0, 1, 3, 4, 5])]"
      ]
     },
     "execution_count": 18,
     "metadata": {},
     "output_type": "execute_result"
    }
   ],
   "source": [
    "pipe.named_steps['trf1'].transformers_"
   ]
  },
  {
   "cell_type": "code",
   "execution_count": 19,
   "id": "e342aa20",
   "metadata": {},
   "outputs": [
    {
     "data": {
      "text/plain": [
       "('impute_age', SimpleImputer(), [2])"
      ]
     },
     "execution_count": 19,
     "metadata": {},
     "output_type": "execute_result"
    }
   ],
   "source": [
    "pipe.named_steps['trf1'].transformers_[0]"
   ]
  },
  {
   "cell_type": "code",
   "execution_count": 20,
   "id": "23d68808",
   "metadata": {},
   "outputs": [
    {
     "data": {
      "text/html": [
       "<style>#sk-8d5ff2c7-686b-4f23-a0f9-8e57ab7fb4e6 {color: black;background-color: white;}#sk-8d5ff2c7-686b-4f23-a0f9-8e57ab7fb4e6 pre{padding: 0;}#sk-8d5ff2c7-686b-4f23-a0f9-8e57ab7fb4e6 div.sk-toggleable {background-color: white;}#sk-8d5ff2c7-686b-4f23-a0f9-8e57ab7fb4e6 label.sk-toggleable__label {cursor: pointer;display: block;width: 100%;margin-bottom: 0;padding: 0.3em;box-sizing: border-box;text-align: center;}#sk-8d5ff2c7-686b-4f23-a0f9-8e57ab7fb4e6 label.sk-toggleable__label-arrow:before {content: \"▸\";float: left;margin-right: 0.25em;color: #696969;}#sk-8d5ff2c7-686b-4f23-a0f9-8e57ab7fb4e6 label.sk-toggleable__label-arrow:hover:before {color: black;}#sk-8d5ff2c7-686b-4f23-a0f9-8e57ab7fb4e6 div.sk-estimator:hover label.sk-toggleable__label-arrow:before {color: black;}#sk-8d5ff2c7-686b-4f23-a0f9-8e57ab7fb4e6 div.sk-toggleable__content {max-height: 0;max-width: 0;overflow: hidden;text-align: left;background-color: #f0f8ff;}#sk-8d5ff2c7-686b-4f23-a0f9-8e57ab7fb4e6 div.sk-toggleable__content pre {margin: 0.2em;color: black;border-radius: 0.25em;background-color: #f0f8ff;}#sk-8d5ff2c7-686b-4f23-a0f9-8e57ab7fb4e6 input.sk-toggleable__control:checked~div.sk-toggleable__content {max-height: 200px;max-width: 100%;overflow: auto;}#sk-8d5ff2c7-686b-4f23-a0f9-8e57ab7fb4e6 input.sk-toggleable__control:checked~label.sk-toggleable__label-arrow:before {content: \"▾\";}#sk-8d5ff2c7-686b-4f23-a0f9-8e57ab7fb4e6 div.sk-estimator input.sk-toggleable__control:checked~label.sk-toggleable__label {background-color: #d4ebff;}#sk-8d5ff2c7-686b-4f23-a0f9-8e57ab7fb4e6 div.sk-label input.sk-toggleable__control:checked~label.sk-toggleable__label {background-color: #d4ebff;}#sk-8d5ff2c7-686b-4f23-a0f9-8e57ab7fb4e6 input.sk-hidden--visually {border: 0;clip: rect(1px 1px 1px 1px);clip: rect(1px, 1px, 1px, 1px);height: 1px;margin: -1px;overflow: hidden;padding: 0;position: absolute;width: 1px;}#sk-8d5ff2c7-686b-4f23-a0f9-8e57ab7fb4e6 div.sk-estimator {font-family: monospace;background-color: #f0f8ff;border: 1px dotted black;border-radius: 0.25em;box-sizing: border-box;margin-bottom: 0.5em;}#sk-8d5ff2c7-686b-4f23-a0f9-8e57ab7fb4e6 div.sk-estimator:hover {background-color: #d4ebff;}#sk-8d5ff2c7-686b-4f23-a0f9-8e57ab7fb4e6 div.sk-parallel-item::after {content: \"\";width: 100%;border-bottom: 1px solid gray;flex-grow: 1;}#sk-8d5ff2c7-686b-4f23-a0f9-8e57ab7fb4e6 div.sk-label:hover label.sk-toggleable__label {background-color: #d4ebff;}#sk-8d5ff2c7-686b-4f23-a0f9-8e57ab7fb4e6 div.sk-serial::before {content: \"\";position: absolute;border-left: 1px solid gray;box-sizing: border-box;top: 2em;bottom: 0;left: 50%;}#sk-8d5ff2c7-686b-4f23-a0f9-8e57ab7fb4e6 div.sk-serial {display: flex;flex-direction: column;align-items: center;background-color: white;padding-right: 0.2em;padding-left: 0.2em;}#sk-8d5ff2c7-686b-4f23-a0f9-8e57ab7fb4e6 div.sk-item {z-index: 1;}#sk-8d5ff2c7-686b-4f23-a0f9-8e57ab7fb4e6 div.sk-parallel {display: flex;align-items: stretch;justify-content: center;background-color: white;}#sk-8d5ff2c7-686b-4f23-a0f9-8e57ab7fb4e6 div.sk-parallel::before {content: \"\";position: absolute;border-left: 1px solid gray;box-sizing: border-box;top: 2em;bottom: 0;left: 50%;}#sk-8d5ff2c7-686b-4f23-a0f9-8e57ab7fb4e6 div.sk-parallel-item {display: flex;flex-direction: column;position: relative;background-color: white;}#sk-8d5ff2c7-686b-4f23-a0f9-8e57ab7fb4e6 div.sk-parallel-item:first-child::after {align-self: flex-end;width: 50%;}#sk-8d5ff2c7-686b-4f23-a0f9-8e57ab7fb4e6 div.sk-parallel-item:last-child::after {align-self: flex-start;width: 50%;}#sk-8d5ff2c7-686b-4f23-a0f9-8e57ab7fb4e6 div.sk-parallel-item:only-child::after {width: 0;}#sk-8d5ff2c7-686b-4f23-a0f9-8e57ab7fb4e6 div.sk-dashed-wrapped {border: 1px dashed gray;margin: 0 0.4em 0.5em 0.4em;box-sizing: border-box;padding-bottom: 0.4em;background-color: white;position: relative;}#sk-8d5ff2c7-686b-4f23-a0f9-8e57ab7fb4e6 div.sk-label label {font-family: monospace;font-weight: bold;background-color: white;display: inline-block;line-height: 1.2em;}#sk-8d5ff2c7-686b-4f23-a0f9-8e57ab7fb4e6 div.sk-label-container {position: relative;z-index: 2;text-align: center;}#sk-8d5ff2c7-686b-4f23-a0f9-8e57ab7fb4e6 div.sk-container {/* jupyter's `normalize.less` sets `[hidden] { display: none; }` but bootstrap.min.css set `[hidden] { display: none !important; }` so we also need the `!important` here to be able to override the default hidden behavior on the sphinx rendered scikit-learn.org. See: https://github.com/scikit-learn/scikit-learn/issues/21755 */display: inline-block !important;position: relative;}#sk-8d5ff2c7-686b-4f23-a0f9-8e57ab7fb4e6 div.sk-text-repr-fallback {display: none;}</style><div id=\"sk-8d5ff2c7-686b-4f23-a0f9-8e57ab7fb4e6\" class=\"sk-top-container\"><div class=\"sk-text-repr-fallback\"><pre>SimpleImputer()</pre><b>Please rerun this cell to show the HTML repr or trust the notebook.</b></div><div class=\"sk-container\" hidden><div class=\"sk-item\"><div class=\"sk-estimator sk-toggleable\"><input class=\"sk-toggleable__control sk-hidden--visually\" id=\"3b3b6682-461e-4ecd-9a1b-f978234b1d88\" type=\"checkbox\" checked><label for=\"3b3b6682-461e-4ecd-9a1b-f978234b1d88\" class=\"sk-toggleable__label sk-toggleable__label-arrow\">SimpleImputer</label><div class=\"sk-toggleable__content\"><pre>SimpleImputer()</pre></div></div></div></div></div>"
      ],
      "text/plain": [
       "SimpleImputer()"
      ]
     },
     "execution_count": 20,
     "metadata": {},
     "output_type": "execute_result"
    }
   ],
   "source": [
    "pipe.named_steps['trf1'].transformers_[0][1]"
   ]
  },
  {
   "cell_type": "code",
   "execution_count": 21,
   "id": "a81e3dbf",
   "metadata": {},
   "outputs": [
    {
     "data": {
      "text/plain": [
       "array([29.49884615])"
      ]
     },
     "execution_count": 21,
     "metadata": {},
     "output_type": "execute_result"
    }
   ],
   "source": [
    "pipe.named_steps['trf1'].transformers_[0][1].statistics_"
   ]
  },
  {
   "cell_type": "markdown",
   "id": "9144a9b5",
   "metadata": {},
   "source": [
    "#### <font color=\"orange\">Example-2<font color/>"
   ]
  },
  {
   "cell_type": "code",
   "execution_count": 22,
   "id": "79c8c1bc",
   "metadata": {},
   "outputs": [
    {
     "data": {
      "text/plain": [
       "('impute_embarked', SimpleImputer(strategy='most_frequent'), [6])"
      ]
     },
     "execution_count": 22,
     "metadata": {},
     "output_type": "execute_result"
    }
   ],
   "source": [
    "pipe.named_steps['trf1'].transformers_[1]"
   ]
  },
  {
   "cell_type": "code",
   "execution_count": 23,
   "id": "f66b81ac",
   "metadata": {},
   "outputs": [
    {
     "data": {
      "text/html": [
       "<style>#sk-df2e0ca8-b498-4a85-bbe7-72598e689235 {color: black;background-color: white;}#sk-df2e0ca8-b498-4a85-bbe7-72598e689235 pre{padding: 0;}#sk-df2e0ca8-b498-4a85-bbe7-72598e689235 div.sk-toggleable {background-color: white;}#sk-df2e0ca8-b498-4a85-bbe7-72598e689235 label.sk-toggleable__label {cursor: pointer;display: block;width: 100%;margin-bottom: 0;padding: 0.3em;box-sizing: border-box;text-align: center;}#sk-df2e0ca8-b498-4a85-bbe7-72598e689235 label.sk-toggleable__label-arrow:before {content: \"▸\";float: left;margin-right: 0.25em;color: #696969;}#sk-df2e0ca8-b498-4a85-bbe7-72598e689235 label.sk-toggleable__label-arrow:hover:before {color: black;}#sk-df2e0ca8-b498-4a85-bbe7-72598e689235 div.sk-estimator:hover label.sk-toggleable__label-arrow:before {color: black;}#sk-df2e0ca8-b498-4a85-bbe7-72598e689235 div.sk-toggleable__content {max-height: 0;max-width: 0;overflow: hidden;text-align: left;background-color: #f0f8ff;}#sk-df2e0ca8-b498-4a85-bbe7-72598e689235 div.sk-toggleable__content pre {margin: 0.2em;color: black;border-radius: 0.25em;background-color: #f0f8ff;}#sk-df2e0ca8-b498-4a85-bbe7-72598e689235 input.sk-toggleable__control:checked~div.sk-toggleable__content {max-height: 200px;max-width: 100%;overflow: auto;}#sk-df2e0ca8-b498-4a85-bbe7-72598e689235 input.sk-toggleable__control:checked~label.sk-toggleable__label-arrow:before {content: \"▾\";}#sk-df2e0ca8-b498-4a85-bbe7-72598e689235 div.sk-estimator input.sk-toggleable__control:checked~label.sk-toggleable__label {background-color: #d4ebff;}#sk-df2e0ca8-b498-4a85-bbe7-72598e689235 div.sk-label input.sk-toggleable__control:checked~label.sk-toggleable__label {background-color: #d4ebff;}#sk-df2e0ca8-b498-4a85-bbe7-72598e689235 input.sk-hidden--visually {border: 0;clip: rect(1px 1px 1px 1px);clip: rect(1px, 1px, 1px, 1px);height: 1px;margin: -1px;overflow: hidden;padding: 0;position: absolute;width: 1px;}#sk-df2e0ca8-b498-4a85-bbe7-72598e689235 div.sk-estimator {font-family: monospace;background-color: #f0f8ff;border: 1px dotted black;border-radius: 0.25em;box-sizing: border-box;margin-bottom: 0.5em;}#sk-df2e0ca8-b498-4a85-bbe7-72598e689235 div.sk-estimator:hover {background-color: #d4ebff;}#sk-df2e0ca8-b498-4a85-bbe7-72598e689235 div.sk-parallel-item::after {content: \"\";width: 100%;border-bottom: 1px solid gray;flex-grow: 1;}#sk-df2e0ca8-b498-4a85-bbe7-72598e689235 div.sk-label:hover label.sk-toggleable__label {background-color: #d4ebff;}#sk-df2e0ca8-b498-4a85-bbe7-72598e689235 div.sk-serial::before {content: \"\";position: absolute;border-left: 1px solid gray;box-sizing: border-box;top: 2em;bottom: 0;left: 50%;}#sk-df2e0ca8-b498-4a85-bbe7-72598e689235 div.sk-serial {display: flex;flex-direction: column;align-items: center;background-color: white;padding-right: 0.2em;padding-left: 0.2em;}#sk-df2e0ca8-b498-4a85-bbe7-72598e689235 div.sk-item {z-index: 1;}#sk-df2e0ca8-b498-4a85-bbe7-72598e689235 div.sk-parallel {display: flex;align-items: stretch;justify-content: center;background-color: white;}#sk-df2e0ca8-b498-4a85-bbe7-72598e689235 div.sk-parallel::before {content: \"\";position: absolute;border-left: 1px solid gray;box-sizing: border-box;top: 2em;bottom: 0;left: 50%;}#sk-df2e0ca8-b498-4a85-bbe7-72598e689235 div.sk-parallel-item {display: flex;flex-direction: column;position: relative;background-color: white;}#sk-df2e0ca8-b498-4a85-bbe7-72598e689235 div.sk-parallel-item:first-child::after {align-self: flex-end;width: 50%;}#sk-df2e0ca8-b498-4a85-bbe7-72598e689235 div.sk-parallel-item:last-child::after {align-self: flex-start;width: 50%;}#sk-df2e0ca8-b498-4a85-bbe7-72598e689235 div.sk-parallel-item:only-child::after {width: 0;}#sk-df2e0ca8-b498-4a85-bbe7-72598e689235 div.sk-dashed-wrapped {border: 1px dashed gray;margin: 0 0.4em 0.5em 0.4em;box-sizing: border-box;padding-bottom: 0.4em;background-color: white;position: relative;}#sk-df2e0ca8-b498-4a85-bbe7-72598e689235 div.sk-label label {font-family: monospace;font-weight: bold;background-color: white;display: inline-block;line-height: 1.2em;}#sk-df2e0ca8-b498-4a85-bbe7-72598e689235 div.sk-label-container {position: relative;z-index: 2;text-align: center;}#sk-df2e0ca8-b498-4a85-bbe7-72598e689235 div.sk-container {/* jupyter's `normalize.less` sets `[hidden] { display: none; }` but bootstrap.min.css set `[hidden] { display: none !important; }` so we also need the `!important` here to be able to override the default hidden behavior on the sphinx rendered scikit-learn.org. See: https://github.com/scikit-learn/scikit-learn/issues/21755 */display: inline-block !important;position: relative;}#sk-df2e0ca8-b498-4a85-bbe7-72598e689235 div.sk-text-repr-fallback {display: none;}</style><div id=\"sk-df2e0ca8-b498-4a85-bbe7-72598e689235\" class=\"sk-top-container\"><div class=\"sk-text-repr-fallback\"><pre>SimpleImputer(strategy=&#x27;most_frequent&#x27;)</pre><b>Please rerun this cell to show the HTML repr or trust the notebook.</b></div><div class=\"sk-container\" hidden><div class=\"sk-item\"><div class=\"sk-estimator sk-toggleable\"><input class=\"sk-toggleable__control sk-hidden--visually\" id=\"a556c95a-4d73-4482-8853-c59756689a6f\" type=\"checkbox\" checked><label for=\"a556c95a-4d73-4482-8853-c59756689a6f\" class=\"sk-toggleable__label sk-toggleable__label-arrow\">SimpleImputer</label><div class=\"sk-toggleable__content\"><pre>SimpleImputer(strategy=&#x27;most_frequent&#x27;)</pre></div></div></div></div></div>"
      ],
      "text/plain": [
       "SimpleImputer(strategy='most_frequent')"
      ]
     },
     "execution_count": 23,
     "metadata": {},
     "output_type": "execute_result"
    }
   ],
   "source": [
    "pipe.named_steps['trf1'].transformers_[1][1]"
   ]
  },
  {
   "cell_type": "code",
   "execution_count": 24,
   "id": "cf933af1",
   "metadata": {},
   "outputs": [
    {
     "data": {
      "text/plain": [
       "array(['S'], dtype=object)"
      ]
     },
     "execution_count": 24,
     "metadata": {},
     "output_type": "execute_result"
    }
   ],
   "source": [
    "pipe.named_steps['trf1'].transformers_[1][1].statistics_"
   ]
  },
  {
   "cell_type": "code",
   "execution_count": 25,
   "id": "b95588b9",
   "metadata": {},
   "outputs": [],
   "source": [
    "y_pred = pipe.predict(X_test)"
   ]
  },
  {
   "cell_type": "code",
   "execution_count": 26,
   "id": "45def8fe",
   "metadata": {},
   "outputs": [
    {
     "data": {
      "text/plain": [
       "array([1, 0, 0, 0, 1, 0, 0, 0, 0, 0, 0, 0, 0, 1, 0, 0, 0, 0, 0, 0, 0, 0,\n",
       "       0, 0, 0, 0, 1, 0, 0, 0, 0, 0, 1, 0, 0, 1, 0, 0, 1, 0, 0, 0, 0, 0,\n",
       "       1, 0, 0, 0, 0, 1, 1, 0, 0, 0, 0, 0, 0, 1, 0, 0, 0, 0, 0, 0, 0, 0,\n",
       "       0, 0, 1, 1, 0, 1, 1, 1, 0, 0, 0, 1, 0, 0, 0, 0, 1, 0, 1, 1, 1, 1,\n",
       "       0, 0, 0, 0, 0, 0, 0, 0, 0, 0, 0, 0, 0, 0, 1, 0, 0, 0, 0, 0, 0, 1,\n",
       "       0, 0, 1, 0, 0, 0, 1, 1, 0, 0, 0, 1, 0, 0, 0, 1, 0, 1, 1, 0, 0, 1,\n",
       "       0, 0, 1, 1, 1, 0, 0, 0, 0, 0, 0, 0, 0, 0, 0, 0, 1, 0, 1, 0, 0, 0,\n",
       "       0, 0, 0, 0, 0, 0, 1, 0, 0, 1, 0, 1, 0, 0, 0, 0, 1, 0, 0, 1, 0, 1,\n",
       "       0, 0, 0], dtype=int64)"
      ]
     },
     "execution_count": 26,
     "metadata": {},
     "output_type": "execute_result"
    }
   ],
   "source": [
    "y_pred"
   ]
  },
  {
   "cell_type": "code",
   "execution_count": 27,
   "id": "dc9cf738",
   "metadata": {},
   "outputs": [
    {
     "data": {
      "text/plain": [
       "0.6256983240223464"
      ]
     },
     "execution_count": 27,
     "metadata": {},
     "output_type": "execute_result"
    }
   ],
   "source": [
    "from sklearn.metrics import accuracy_score\n",
    "accuracy_score(y_test,y_pred)"
   ]
  },
  {
   "cell_type": "markdown",
   "id": "7dda539e",
   "metadata": {},
   "source": [
    "### <font color=\"brown\">CROSS VALIDATION USING PIPELINE<font color/>"
   ]
  },
  {
   "cell_type": "code",
   "execution_count": 28,
   "id": "51b2faac",
   "metadata": {},
   "outputs": [
    {
     "data": {
      "text/plain": [
       "0.6391214419383433"
      ]
     },
     "execution_count": 28,
     "metadata": {},
     "output_type": "execute_result"
    }
   ],
   "source": [
    "# cross validation using cross_val_score\n",
    "from sklearn.model_selection import cross_val_score\n",
    "cross_val_score(pipe, X_train, y_train, cv=5, scoring='accuracy').mean()"
   ]
  },
  {
   "cell_type": "markdown",
   "id": "0c402968",
   "metadata": {},
   "source": [
    "### <font color=\"brown\">GRID SEARCHCV USING PIPELINE<font color/>"
   ]
  },
  {
   "cell_type": "code",
   "execution_count": 29,
   "id": "f9f00b83",
   "metadata": {},
   "outputs": [],
   "source": [
    "# gridsearchcv\n",
    "params = {\n",
    "    'trf5__max_depth':[1,2,3,4,5,None]\n",
    "}"
   ]
  },
  {
   "cell_type": "code",
   "execution_count": 30,
   "id": "49dfbf33",
   "metadata": {},
   "outputs": [
    {
     "data": {
      "text/html": [
       "<style>#sk-f4962e20-40ae-4021-b18d-dc3ba3804a46 {color: black;background-color: white;}#sk-f4962e20-40ae-4021-b18d-dc3ba3804a46 pre{padding: 0;}#sk-f4962e20-40ae-4021-b18d-dc3ba3804a46 div.sk-toggleable {background-color: white;}#sk-f4962e20-40ae-4021-b18d-dc3ba3804a46 label.sk-toggleable__label {cursor: pointer;display: block;width: 100%;margin-bottom: 0;padding: 0.3em;box-sizing: border-box;text-align: center;}#sk-f4962e20-40ae-4021-b18d-dc3ba3804a46 label.sk-toggleable__label-arrow:before {content: \"▸\";float: left;margin-right: 0.25em;color: #696969;}#sk-f4962e20-40ae-4021-b18d-dc3ba3804a46 label.sk-toggleable__label-arrow:hover:before {color: black;}#sk-f4962e20-40ae-4021-b18d-dc3ba3804a46 div.sk-estimator:hover label.sk-toggleable__label-arrow:before {color: black;}#sk-f4962e20-40ae-4021-b18d-dc3ba3804a46 div.sk-toggleable__content {max-height: 0;max-width: 0;overflow: hidden;text-align: left;background-color: #f0f8ff;}#sk-f4962e20-40ae-4021-b18d-dc3ba3804a46 div.sk-toggleable__content pre {margin: 0.2em;color: black;border-radius: 0.25em;background-color: #f0f8ff;}#sk-f4962e20-40ae-4021-b18d-dc3ba3804a46 input.sk-toggleable__control:checked~div.sk-toggleable__content {max-height: 200px;max-width: 100%;overflow: auto;}#sk-f4962e20-40ae-4021-b18d-dc3ba3804a46 input.sk-toggleable__control:checked~label.sk-toggleable__label-arrow:before {content: \"▾\";}#sk-f4962e20-40ae-4021-b18d-dc3ba3804a46 div.sk-estimator input.sk-toggleable__control:checked~label.sk-toggleable__label {background-color: #d4ebff;}#sk-f4962e20-40ae-4021-b18d-dc3ba3804a46 div.sk-label input.sk-toggleable__control:checked~label.sk-toggleable__label {background-color: #d4ebff;}#sk-f4962e20-40ae-4021-b18d-dc3ba3804a46 input.sk-hidden--visually {border: 0;clip: rect(1px 1px 1px 1px);clip: rect(1px, 1px, 1px, 1px);height: 1px;margin: -1px;overflow: hidden;padding: 0;position: absolute;width: 1px;}#sk-f4962e20-40ae-4021-b18d-dc3ba3804a46 div.sk-estimator {font-family: monospace;background-color: #f0f8ff;border: 1px dotted black;border-radius: 0.25em;box-sizing: border-box;margin-bottom: 0.5em;}#sk-f4962e20-40ae-4021-b18d-dc3ba3804a46 div.sk-estimator:hover {background-color: #d4ebff;}#sk-f4962e20-40ae-4021-b18d-dc3ba3804a46 div.sk-parallel-item::after {content: \"\";width: 100%;border-bottom: 1px solid gray;flex-grow: 1;}#sk-f4962e20-40ae-4021-b18d-dc3ba3804a46 div.sk-label:hover label.sk-toggleable__label {background-color: #d4ebff;}#sk-f4962e20-40ae-4021-b18d-dc3ba3804a46 div.sk-serial::before {content: \"\";position: absolute;border-left: 1px solid gray;box-sizing: border-box;top: 2em;bottom: 0;left: 50%;}#sk-f4962e20-40ae-4021-b18d-dc3ba3804a46 div.sk-serial {display: flex;flex-direction: column;align-items: center;background-color: white;padding-right: 0.2em;padding-left: 0.2em;}#sk-f4962e20-40ae-4021-b18d-dc3ba3804a46 div.sk-item {z-index: 1;}#sk-f4962e20-40ae-4021-b18d-dc3ba3804a46 div.sk-parallel {display: flex;align-items: stretch;justify-content: center;background-color: white;}#sk-f4962e20-40ae-4021-b18d-dc3ba3804a46 div.sk-parallel::before {content: \"\";position: absolute;border-left: 1px solid gray;box-sizing: border-box;top: 2em;bottom: 0;left: 50%;}#sk-f4962e20-40ae-4021-b18d-dc3ba3804a46 div.sk-parallel-item {display: flex;flex-direction: column;position: relative;background-color: white;}#sk-f4962e20-40ae-4021-b18d-dc3ba3804a46 div.sk-parallel-item:first-child::after {align-self: flex-end;width: 50%;}#sk-f4962e20-40ae-4021-b18d-dc3ba3804a46 div.sk-parallel-item:last-child::after {align-self: flex-start;width: 50%;}#sk-f4962e20-40ae-4021-b18d-dc3ba3804a46 div.sk-parallel-item:only-child::after {width: 0;}#sk-f4962e20-40ae-4021-b18d-dc3ba3804a46 div.sk-dashed-wrapped {border: 1px dashed gray;margin: 0 0.4em 0.5em 0.4em;box-sizing: border-box;padding-bottom: 0.4em;background-color: white;position: relative;}#sk-f4962e20-40ae-4021-b18d-dc3ba3804a46 div.sk-label label {font-family: monospace;font-weight: bold;background-color: white;display: inline-block;line-height: 1.2em;}#sk-f4962e20-40ae-4021-b18d-dc3ba3804a46 div.sk-label-container {position: relative;z-index: 2;text-align: center;}#sk-f4962e20-40ae-4021-b18d-dc3ba3804a46 div.sk-container {/* jupyter's `normalize.less` sets `[hidden] { display: none; }` but bootstrap.min.css set `[hidden] { display: none !important; }` so we also need the `!important` here to be able to override the default hidden behavior on the sphinx rendered scikit-learn.org. See: https://github.com/scikit-learn/scikit-learn/issues/21755 */display: inline-block !important;position: relative;}#sk-f4962e20-40ae-4021-b18d-dc3ba3804a46 div.sk-text-repr-fallback {display: none;}</style><div id=\"sk-f4962e20-40ae-4021-b18d-dc3ba3804a46\" class=\"sk-top-container\"><div class=\"sk-text-repr-fallback\"><pre>GridSearchCV(cv=5,\n",
       "             estimator=Pipeline(steps=[(&#x27;trf1&#x27;,\n",
       "                                        ColumnTransformer(remainder=&#x27;passthrough&#x27;,\n",
       "                                                          transformers=[(&#x27;impute_age&#x27;,\n",
       "                                                                         SimpleImputer(),\n",
       "                                                                         [2]),\n",
       "                                                                        (&#x27;impute_embarked&#x27;,\n",
       "                                                                         SimpleImputer(strategy=&#x27;most_frequent&#x27;),\n",
       "                                                                         [6])])),\n",
       "                                       (&#x27;trf2&#x27;,\n",
       "                                        ColumnTransformer(remainder=&#x27;passthrough&#x27;,\n",
       "                                                          transformers=[(&#x27;ohe_sex_embarked&#x27;,\n",
       "                                                                         OneHotEncoder(handle_unknown=&#x27;ignore&#x27;,\n",
       "                                                                                       sparse=False),\n",
       "                                                                         [1,\n",
       "                                                                          6])])),\n",
       "                                       (&#x27;trf3&#x27;,\n",
       "                                        ColumnTransformer(transformers=[(&#x27;scale&#x27;,\n",
       "                                                                         MinMaxScaler(),\n",
       "                                                                         slice(0, 10, None))])),\n",
       "                                       (&#x27;trf4&#x27;,\n",
       "                                        SelectKBest(k=8,\n",
       "                                                    score_func=&lt;function chi2 at 0x000001A4E24C90D0&gt;)),\n",
       "                                       (&#x27;trf5&#x27;, DecisionTreeClassifier())]),\n",
       "             param_grid={&#x27;trf5__max_depth&#x27;: [1, 2, 3, 4, 5, None]},\n",
       "             scoring=&#x27;accuracy&#x27;)</pre><b>Please rerun this cell to show the HTML repr or trust the notebook.</b></div><div class=\"sk-container\" hidden><div class=\"sk-item sk-dashed-wrapped\"><div class=\"sk-label-container\"><div class=\"sk-label sk-toggleable\"><input class=\"sk-toggleable__control sk-hidden--visually\" id=\"62d8a8bb-567d-4cab-97c9-647bab6ec48f\" type=\"checkbox\" ><label for=\"62d8a8bb-567d-4cab-97c9-647bab6ec48f\" class=\"sk-toggleable__label sk-toggleable__label-arrow\">GridSearchCV</label><div class=\"sk-toggleable__content\"><pre>GridSearchCV(cv=5,\n",
       "             estimator=Pipeline(steps=[(&#x27;trf1&#x27;,\n",
       "                                        ColumnTransformer(remainder=&#x27;passthrough&#x27;,\n",
       "                                                          transformers=[(&#x27;impute_age&#x27;,\n",
       "                                                                         SimpleImputer(),\n",
       "                                                                         [2]),\n",
       "                                                                        (&#x27;impute_embarked&#x27;,\n",
       "                                                                         SimpleImputer(strategy=&#x27;most_frequent&#x27;),\n",
       "                                                                         [6])])),\n",
       "                                       (&#x27;trf2&#x27;,\n",
       "                                        ColumnTransformer(remainder=&#x27;passthrough&#x27;,\n",
       "                                                          transformers=[(&#x27;ohe_sex_embarked&#x27;,\n",
       "                                                                         OneHotEncoder(handle_unknown=&#x27;ignore&#x27;,\n",
       "                                                                                       sparse=False),\n",
       "                                                                         [1,\n",
       "                                                                          6])])),\n",
       "                                       (&#x27;trf3&#x27;,\n",
       "                                        ColumnTransformer(transformers=[(&#x27;scale&#x27;,\n",
       "                                                                         MinMaxScaler(),\n",
       "                                                                         slice(0, 10, None))])),\n",
       "                                       (&#x27;trf4&#x27;,\n",
       "                                        SelectKBest(k=8,\n",
       "                                                    score_func=&lt;function chi2 at 0x000001A4E24C90D0&gt;)),\n",
       "                                       (&#x27;trf5&#x27;, DecisionTreeClassifier())]),\n",
       "             param_grid={&#x27;trf5__max_depth&#x27;: [1, 2, 3, 4, 5, None]},\n",
       "             scoring=&#x27;accuracy&#x27;)</pre></div></div></div><div class=\"sk-parallel\"><div class=\"sk-parallel-item\"><div class=\"sk-item\"><div class=\"sk-serial\"><div class=\"sk-item\"><div class=\"sk-serial\"><div class=\"sk-item sk-dashed-wrapped\"><div class=\"sk-label-container\"><div class=\"sk-label sk-toggleable\"><input class=\"sk-toggleable__control sk-hidden--visually\" id=\"c8953606-e5ae-4c39-b3f8-fae1b6af3b75\" type=\"checkbox\" ><label for=\"c8953606-e5ae-4c39-b3f8-fae1b6af3b75\" class=\"sk-toggleable__label sk-toggleable__label-arrow\">trf1: ColumnTransformer</label><div class=\"sk-toggleable__content\"><pre>ColumnTransformer(remainder=&#x27;passthrough&#x27;,\n",
       "                  transformers=[(&#x27;impute_age&#x27;, SimpleImputer(), [2]),\n",
       "                                (&#x27;impute_embarked&#x27;,\n",
       "                                 SimpleImputer(strategy=&#x27;most_frequent&#x27;),\n",
       "                                 [6])])</pre></div></div></div><div class=\"sk-parallel\"><div class=\"sk-parallel-item\"><div class=\"sk-item\"><div class=\"sk-label-container\"><div class=\"sk-label sk-toggleable\"><input class=\"sk-toggleable__control sk-hidden--visually\" id=\"70640e6e-b2e1-40cb-91b0-533ba885813f\" type=\"checkbox\" ><label for=\"70640e6e-b2e1-40cb-91b0-533ba885813f\" class=\"sk-toggleable__label sk-toggleable__label-arrow\">impute_age</label><div class=\"sk-toggleable__content\"><pre>[2]</pre></div></div></div><div class=\"sk-serial\"><div class=\"sk-item\"><div class=\"sk-estimator sk-toggleable\"><input class=\"sk-toggleable__control sk-hidden--visually\" id=\"4736183b-4948-4380-81ec-d816c0f461cc\" type=\"checkbox\" ><label for=\"4736183b-4948-4380-81ec-d816c0f461cc\" class=\"sk-toggleable__label sk-toggleable__label-arrow\">SimpleImputer</label><div class=\"sk-toggleable__content\"><pre>SimpleImputer()</pre></div></div></div></div></div></div><div class=\"sk-parallel-item\"><div class=\"sk-item\"><div class=\"sk-label-container\"><div class=\"sk-label sk-toggleable\"><input class=\"sk-toggleable__control sk-hidden--visually\" id=\"dc84a899-044b-4d18-a85b-d16dee7a048b\" type=\"checkbox\" ><label for=\"dc84a899-044b-4d18-a85b-d16dee7a048b\" class=\"sk-toggleable__label sk-toggleable__label-arrow\">impute_embarked</label><div class=\"sk-toggleable__content\"><pre>[6]</pre></div></div></div><div class=\"sk-serial\"><div class=\"sk-item\"><div class=\"sk-estimator sk-toggleable\"><input class=\"sk-toggleable__control sk-hidden--visually\" id=\"a79d1ea9-47c4-41fa-914a-0aceebec0c80\" type=\"checkbox\" ><label for=\"a79d1ea9-47c4-41fa-914a-0aceebec0c80\" class=\"sk-toggleable__label sk-toggleable__label-arrow\">SimpleImputer</label><div class=\"sk-toggleable__content\"><pre>SimpleImputer(strategy=&#x27;most_frequent&#x27;)</pre></div></div></div></div></div></div><div class=\"sk-parallel-item\"><div class=\"sk-item\"><div class=\"sk-label-container\"><div class=\"sk-label sk-toggleable\"><input class=\"sk-toggleable__control sk-hidden--visually\" id=\"bdd50cd5-9eed-49f7-a9b5-72d622c3e025\" type=\"checkbox\" ><label for=\"bdd50cd5-9eed-49f7-a9b5-72d622c3e025\" class=\"sk-toggleable__label sk-toggleable__label-arrow\">remainder</label><div class=\"sk-toggleable__content\"><pre>[&#x27;Pclass&#x27;, &#x27;Sex&#x27;, &#x27;SibSp&#x27;, &#x27;Parch&#x27;, &#x27;Fare&#x27;]</pre></div></div></div><div class=\"sk-serial\"><div class=\"sk-item\"><div class=\"sk-estimator sk-toggleable\"><input class=\"sk-toggleable__control sk-hidden--visually\" id=\"18515e8d-bcc8-4606-a529-fd2a3a45815f\" type=\"checkbox\" ><label for=\"18515e8d-bcc8-4606-a529-fd2a3a45815f\" class=\"sk-toggleable__label sk-toggleable__label-arrow\">passthrough</label><div class=\"sk-toggleable__content\"><pre>passthrough</pre></div></div></div></div></div></div></div></div><div class=\"sk-item sk-dashed-wrapped\"><div class=\"sk-label-container\"><div class=\"sk-label sk-toggleable\"><input class=\"sk-toggleable__control sk-hidden--visually\" id=\"1469f3e6-ab1e-419a-857f-a5482490c215\" type=\"checkbox\" ><label for=\"1469f3e6-ab1e-419a-857f-a5482490c215\" class=\"sk-toggleable__label sk-toggleable__label-arrow\">trf2: ColumnTransformer</label><div class=\"sk-toggleable__content\"><pre>ColumnTransformer(remainder=&#x27;passthrough&#x27;,\n",
       "                  transformers=[(&#x27;ohe_sex_embarked&#x27;,\n",
       "                                 OneHotEncoder(handle_unknown=&#x27;ignore&#x27;,\n",
       "                                               sparse=False),\n",
       "                                 [1, 6])])</pre></div></div></div><div class=\"sk-parallel\"><div class=\"sk-parallel-item\"><div class=\"sk-item\"><div class=\"sk-label-container\"><div class=\"sk-label sk-toggleable\"><input class=\"sk-toggleable__control sk-hidden--visually\" id=\"f9e1e27a-f2e9-4b76-9ac7-3181aea0e71b\" type=\"checkbox\" ><label for=\"f9e1e27a-f2e9-4b76-9ac7-3181aea0e71b\" class=\"sk-toggleable__label sk-toggleable__label-arrow\">ohe_sex_embarked</label><div class=\"sk-toggleable__content\"><pre>[1, 6]</pre></div></div></div><div class=\"sk-serial\"><div class=\"sk-item\"><div class=\"sk-estimator sk-toggleable\"><input class=\"sk-toggleable__control sk-hidden--visually\" id=\"aa5a8a5e-d396-4e4a-9620-d9a7f8631f8f\" type=\"checkbox\" ><label for=\"aa5a8a5e-d396-4e4a-9620-d9a7f8631f8f\" class=\"sk-toggleable__label sk-toggleable__label-arrow\">OneHotEncoder</label><div class=\"sk-toggleable__content\"><pre>OneHotEncoder(handle_unknown=&#x27;ignore&#x27;, sparse=False)</pre></div></div></div></div></div></div><div class=\"sk-parallel-item\"><div class=\"sk-item\"><div class=\"sk-label-container\"><div class=\"sk-label sk-toggleable\"><input class=\"sk-toggleable__control sk-hidden--visually\" id=\"81623f59-496e-42f3-a4a3-b8be44eb451c\" type=\"checkbox\" ><label for=\"81623f59-496e-42f3-a4a3-b8be44eb451c\" class=\"sk-toggleable__label sk-toggleable__label-arrow\">remainder</label><div class=\"sk-toggleable__content\"><pre>[0, 2, 3, 4, 5]</pre></div></div></div><div class=\"sk-serial\"><div class=\"sk-item\"><div class=\"sk-estimator sk-toggleable\"><input class=\"sk-toggleable__control sk-hidden--visually\" id=\"7f453457-20f9-487a-b223-2cf9b44d4ee5\" type=\"checkbox\" ><label for=\"7f453457-20f9-487a-b223-2cf9b44d4ee5\" class=\"sk-toggleable__label sk-toggleable__label-arrow\">passthrough</label><div class=\"sk-toggleable__content\"><pre>passthrough</pre></div></div></div></div></div></div></div></div><div class=\"sk-item sk-dashed-wrapped\"><div class=\"sk-label-container\"><div class=\"sk-label sk-toggleable\"><input class=\"sk-toggleable__control sk-hidden--visually\" id=\"c519a0fa-3f39-44b0-926c-aca7ce69f283\" type=\"checkbox\" ><label for=\"c519a0fa-3f39-44b0-926c-aca7ce69f283\" class=\"sk-toggleable__label sk-toggleable__label-arrow\">trf3: ColumnTransformer</label><div class=\"sk-toggleable__content\"><pre>ColumnTransformer(transformers=[(&#x27;scale&#x27;, MinMaxScaler(), slice(0, 10, None))])</pre></div></div></div><div class=\"sk-parallel\"><div class=\"sk-parallel-item\"><div class=\"sk-item\"><div class=\"sk-label-container\"><div class=\"sk-label sk-toggleable\"><input class=\"sk-toggleable__control sk-hidden--visually\" id=\"c211b66d-3736-4277-abf9-b9778d71668e\" type=\"checkbox\" ><label for=\"c211b66d-3736-4277-abf9-b9778d71668e\" class=\"sk-toggleable__label sk-toggleable__label-arrow\">scale</label><div class=\"sk-toggleable__content\"><pre>slice(0, 10, None)</pre></div></div></div><div class=\"sk-serial\"><div class=\"sk-item\"><div class=\"sk-estimator sk-toggleable\"><input class=\"sk-toggleable__control sk-hidden--visually\" id=\"45b85d08-8cd9-4436-8fcf-07078b5bc675\" type=\"checkbox\" ><label for=\"45b85d08-8cd9-4436-8fcf-07078b5bc675\" class=\"sk-toggleable__label sk-toggleable__label-arrow\">MinMaxScaler</label><div class=\"sk-toggleable__content\"><pre>MinMaxScaler()</pre></div></div></div></div></div></div></div></div><div class=\"sk-item\"><div class=\"sk-estimator sk-toggleable\"><input class=\"sk-toggleable__control sk-hidden--visually\" id=\"da71d86c-430e-438c-a672-36b7682a17dd\" type=\"checkbox\" ><label for=\"da71d86c-430e-438c-a672-36b7682a17dd\" class=\"sk-toggleable__label sk-toggleable__label-arrow\">SelectKBest</label><div class=\"sk-toggleable__content\"><pre>SelectKBest(k=8, score_func=&lt;function chi2 at 0x000001A4E24C90D0&gt;)</pre></div></div></div><div class=\"sk-item\"><div class=\"sk-estimator sk-toggleable\"><input class=\"sk-toggleable__control sk-hidden--visually\" id=\"ce21b1f5-1b39-4543-8842-dd10e8d57ccc\" type=\"checkbox\" ><label for=\"ce21b1f5-1b39-4543-8842-dd10e8d57ccc\" class=\"sk-toggleable__label sk-toggleable__label-arrow\">DecisionTreeClassifier</label><div class=\"sk-toggleable__content\"><pre>DecisionTreeClassifier()</pre></div></div></div></div></div></div></div></div></div></div></div></div>"
      ],
      "text/plain": [
       "GridSearchCV(cv=5,\n",
       "             estimator=Pipeline(steps=[('trf1',\n",
       "                                        ColumnTransformer(remainder='passthrough',\n",
       "                                                          transformers=[('impute_age',\n",
       "                                                                         SimpleImputer(),\n",
       "                                                                         [2]),\n",
       "                                                                        ('impute_embarked',\n",
       "                                                                         SimpleImputer(strategy='most_frequent'),\n",
       "                                                                         [6])])),\n",
       "                                       ('trf2',\n",
       "                                        ColumnTransformer(remainder='passthrough',\n",
       "                                                          transformers=[('ohe_sex_embarked',\n",
       "                                                                         OneHotEncoder(handle_unknown='ignore',\n",
       "                                                                                       sparse=False),\n",
       "                                                                         [1,\n",
       "                                                                          6])])),\n",
       "                                       ('trf3',\n",
       "                                        ColumnTransformer(transformers=[('scale',\n",
       "                                                                         MinMaxScaler(),\n",
       "                                                                         slice(0, 10, None))])),\n",
       "                                       ('trf4',\n",
       "                                        SelectKBest(k=8,\n",
       "                                                    score_func=<function chi2 at 0x000001A4E24C90D0>)),\n",
       "                                       ('trf5', DecisionTreeClassifier())]),\n",
       "             param_grid={'trf5__max_depth': [1, 2, 3, 4, 5, None]},\n",
       "             scoring='accuracy')"
      ]
     },
     "execution_count": 30,
     "metadata": {},
     "output_type": "execute_result"
    }
   ],
   "source": [
    "from sklearn.model_selection import GridSearchCV\n",
    "grid = GridSearchCV(pipe, params, cv=5, scoring='accuracy')\n",
    "grid.fit(X_train, y_train)"
   ]
  },
  {
   "cell_type": "code",
   "execution_count": 31,
   "id": "7ce88d1d",
   "metadata": {},
   "outputs": [
    {
     "data": {
      "text/plain": [
       "0.6391214419383433"
      ]
     },
     "execution_count": 31,
     "metadata": {},
     "output_type": "execute_result"
    }
   ],
   "source": [
    "grid.best_score_"
   ]
  },
  {
   "cell_type": "code",
   "execution_count": 32,
   "id": "3cc59958",
   "metadata": {},
   "outputs": [
    {
     "data": {
      "text/plain": [
       "{'trf5__max_depth': 2}"
      ]
     },
     "execution_count": 32,
     "metadata": {},
     "output_type": "execute_result"
    }
   ],
   "source": [
    "grid.best_params_"
   ]
  },
  {
   "cell_type": "markdown",
   "id": "2c873a8a",
   "metadata": {},
   "source": [
    "### <font color=\"brown\">EXPORTING PIPELINE<font color/>"
   ]
  },
  {
   "cell_type": "code",
   "execution_count": 33,
   "id": "4b90f647",
   "metadata": {},
   "outputs": [],
   "source": [
    "# export \n",
    "import pickle\n",
    "pickle.dump(pipe,open(r\"D:\\DUDUL DS\\CAMPUSX\\ML\\8. ADVANCE TECHNIQUES\\2. SKLEARN PIPELINES\\pipe.pkl\",'wb'))"
   ]
  }
 ],
 "metadata": {
  "kernelspec": {
   "display_name": "Python 3 (ipykernel)",
   "language": "python",
   "name": "python3"
  },
  "language_info": {
   "codemirror_mode": {
    "name": "ipython",
    "version": 3
   },
   "file_extension": ".py",
   "mimetype": "text/x-python",
   "name": "python",
   "nbconvert_exporter": "python",
   "pygments_lexer": "ipython3",
   "version": "3.9.13"
  }
 },
 "nbformat": 4,
 "nbformat_minor": 5
}
