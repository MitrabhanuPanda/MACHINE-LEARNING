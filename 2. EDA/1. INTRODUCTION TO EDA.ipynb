{
 "cells": [
  {
   "cell_type": "markdown",
   "id": "64df8b2d",
   "metadata": {},
   "source": [
    "<h1 style=\"text-align : center\"> <font color=\"red\" size=7>INTRODUCTION TO EDA </h1>"
   ]
  },
  {
   "cell_type": "markdown",
   "id": "60d8501b",
   "metadata": {},
   "source": [
    "## <font color=\"dark blue\">WHAT IS EDA?<font color/>\n",
    "- It is an approach to analys the data using visual techniques. It is used to discover trends, patterns, or to check assumptions with the help of statistical summary & graphical representations.\n",
    "- EDA is the foundation stone, a very vital step before begin with data analysis.\n",
    "- EDA is like an investigation carried out by a detective.\n",
    "- The better you know your data(have more clues), the better is your analysis(case outcome).\n",
    "\n",
    "## <font color=\"dark blue\">OBJECTIVE OF EDA<font color/>\n",
    "- Confirm if the data is making sense in the context of the bussines problem.\n",
    "- Uncover & resolve data quality issues.\n",
    "- Get information about the data summary.\n",
    "- Detect outliers & anomalies(Many times some values lie far away from standard set of values, these are called Anomalies).\n",
    "- Understand data patterns & correlations between variables.\n",
    "- Drop unwanted columns & derive new variables.\n",
    "\n",
    "## <font color=\"dark blue\">TYPES OF EDA<font color/>\n",
    "### <font color=\"blue\">1. UNVARIATE ANALYSIS:<font color/>\n",
    "- If we take one feature at a time & analysis it, then it is called as Univariate Analysis.\n",
    "- The main purpose of Univariate analysis is to detect the Outliers, Null values, Normally distributed or not.\n",
    "\n",
    "> __CATEGORICAL DATA TYPE__:\n",
    "> - If the feature is Categorical then we use Bar Chart, Pie chart for the visualization.\n",
    "> - If the feature is Categorical then we use frequency table for the non-visualization.\n",
    "<br> \n",
    " \n",
    "> __NUMERICAL DATA TYPE__:\n",
    "> - If the feature is Numerical then we use Box plot for outlier detection, Histogram to see which type of Distribution is it.\n",
    "> If the feature is Numerical then we use Percentile for Outlier detection.\n",
    "\n",
    "    \n",
    "### <font color=\"blue\">2. BIVARIATE ANALYSIS:<font color/>\n",
    "- If we take two features at a time & analysis it, then it is called as Bivariate Analysis.\n",
    "- The main purpose of Bivariate analysis is to check the relationship between two features.\n",
    "   \n",
    "> __NUMERIC vs NUMERIC DATA TYPE__:\n",
    "> - If the two features are Numerical then we use Scatter plot to see the relationship between them.\n",
    "<br>   \n",
    "\n",
    "> __NUMERIC vs CATEGORICAL DATA TYPE__:\n",
    "> - If the one feature is Numeric & another is Categorical then we use Box plot to see the relationship between them.\n",
    "<br>\n",
    " \n",
    "> __CATEGORICAL vs CATEGORICAL DATA TYPE__:\n",
    "> - If the two features are CATEGORICAL then we use Stacked Bar Plot/ Grouped Bar Plot to see the relationship between them."
   ]
  }
 ],
 "metadata": {
  "kernelspec": {
   "display_name": "Python 3 (ipykernel)",
   "language": "python",
   "name": "python3"
  },
  "language_info": {
   "codemirror_mode": {
    "name": "ipython",
    "version": 3
   },
   "file_extension": ".py",
   "mimetype": "text/x-python",
   "name": "python",
   "nbconvert_exporter": "python",
   "pygments_lexer": "ipython3",
   "version": "3.9.13"
  }
 },
 "nbformat": 4,
 "nbformat_minor": 5
}
