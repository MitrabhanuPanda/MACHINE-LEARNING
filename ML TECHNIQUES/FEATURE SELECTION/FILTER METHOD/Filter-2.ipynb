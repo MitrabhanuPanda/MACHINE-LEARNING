{
 "cells": [
  {
   "cell_type": "code",
   "execution_count": 1,
   "id": "713223f4",
   "metadata": {},
   "outputs": [],
   "source": [
    "import matplotlib.pyplot as plt\n",
    "%matplotlib inline\n",
    "import seaborn as sns\n",
    "import pandas as pd\n",
    "import numpy as np"
   ]
  },
  {
   "cell_type": "code",
   "execution_count": 2,
   "id": "e591a559",
   "metadata": {},
   "outputs": [],
   "source": [
    "from sklearn.datasets import load_iris\n",
    "data=load_iris()"
   ]
  },
  {
   "cell_type": "code",
   "execution_count": 3,
   "id": "5a05b963",
   "metadata": {},
   "outputs": [],
   "source": [
    "x=data.data\n",
    "y=data.target"
   ]
  },
  {
   "cell_type": "code",
   "execution_count": 4,
   "id": "31cf0ce6",
   "metadata": {},
   "outputs": [],
   "source": [
    "from sklearn.feature_selection import SelectKBest  \n",
    "from sklearn.feature_selection import SelectPercentile\n",
    "from sklearn.feature_selection import chi2              # Chi Square\n",
    "from sklearn.feature_selection import f_classif         # Anova F-Test"
   ]
  },
  {
   "cell_type": "markdown",
   "id": "31531513",
   "metadata": {},
   "source": [
    "###  Chi Square"
   ]
  },
  {
   "cell_type": "code",
   "execution_count": 5,
   "id": "2ed4eafc",
   "metadata": {},
   "outputs": [],
   "source": [
    "chi2_selector=SelectKBest(chi2,k=2)\n",
    "kbest=chi2_selector.fit_transform(x,y)"
   ]
  },
  {
   "cell_type": "code",
   "execution_count": 6,
   "id": "d2f0841d",
   "metadata": {},
   "outputs": [
    {
     "name": "stdout",
     "output_type": "stream",
     "text": [
      "Shape of orginal features : (150, 4)\n",
      "Shape of reduced features : (150, 2)\n"
     ]
    }
   ],
   "source": [
    "print(\"Shape of orginal features :\",x.shape)  \n",
    "print(\"Shape of reduced features :\",kbest.shape)"
   ]
  },
  {
   "cell_type": "code",
   "execution_count": 7,
   "id": "7c1471df",
   "metadata": {},
   "outputs": [
    {
     "data": {
      "text/html": [
       "<div>\n",
       "<style scoped>\n",
       "    .dataframe tbody tr th:only-of-type {\n",
       "        vertical-align: middle;\n",
       "    }\n",
       "\n",
       "    .dataframe tbody tr th {\n",
       "        vertical-align: top;\n",
       "    }\n",
       "\n",
       "    .dataframe thead th {\n",
       "        text-align: right;\n",
       "    }\n",
       "</style>\n",
       "<table border=\"1\" class=\"dataframe\">\n",
       "  <thead>\n",
       "    <tr style=\"text-align: right;\">\n",
       "      <th></th>\n",
       "      <th>Feature_Name</th>\n",
       "      <th>Score</th>\n",
       "    </tr>\n",
       "  </thead>\n",
       "  <tbody>\n",
       "    <tr>\n",
       "      <th>0</th>\n",
       "      <td>sepal length (cm)</td>\n",
       "      <td>10.817821</td>\n",
       "    </tr>\n",
       "    <tr>\n",
       "      <th>1</th>\n",
       "      <td>sepal width (cm)</td>\n",
       "      <td>3.710728</td>\n",
       "    </tr>\n",
       "    <tr>\n",
       "      <th>2</th>\n",
       "      <td>petal length (cm)</td>\n",
       "      <td>116.312613</td>\n",
       "    </tr>\n",
       "    <tr>\n",
       "      <th>3</th>\n",
       "      <td>petal width (cm)</td>\n",
       "      <td>67.048360</td>\n",
       "    </tr>\n",
       "  </tbody>\n",
       "</table>\n",
       "</div>"
      ],
      "text/plain": [
       "        Feature_Name       Score\n",
       "0  sepal length (cm)   10.817821\n",
       "1   sepal width (cm)    3.710728\n",
       "2  petal length (cm)  116.312613\n",
       "3   petal width (cm)   67.048360"
      ]
     },
     "execution_count": 7,
     "metadata": {},
     "output_type": "execute_result"
    }
   ],
   "source": [
    "chi2_scores=pd.DataFrame(list(zip(data.feature_names,chi2_selector.scores_)),columns=[\"Feature_Name\",\"Score\"])\n",
    "chi2_scores  # SCores of all the Features"
   ]
  },
  {
   "cell_type": "code",
   "execution_count": 8,
   "id": "8ad1065e",
   "metadata": {},
   "outputs": [
    {
     "data": {
      "text/plain": [
       "array(['petal length (cm)', 'petal width (cm)'], dtype='<U17')"
      ]
     },
     "execution_count": 8,
     "metadata": {},
     "output_type": "execute_result"
    }
   ],
   "source": [
    "np.asarray(data.feature_names)[chi2_selector.get_support()]  # After filtering,the name of the features."
   ]
  },
  {
   "cell_type": "markdown",
   "id": "3a32d8e5",
   "metadata": {},
   "source": [
    "### "
   ]
  },
  {
   "cell_type": "markdown",
   "id": "d50636f5",
   "metadata": {},
   "source": [
    "### Simplify Chi Square & F-test "
   ]
  },
  {
   "cell_type": "code",
   "execution_count": 9,
   "id": "01ae41b8",
   "metadata": {},
   "outputs": [
    {
     "data": {
      "text/plain": [
       "(array([ 10.81782088,   3.7107283 , 116.31261309,  67.0483602 ]),\n",
       " array([4.47651499e-03, 1.56395980e-01, 5.53397228e-26, 2.75824965e-15]))"
      ]
     },
     "execution_count": 9,
     "metadata": {},
     "output_type": "execute_result"
    }
   ],
   "source": [
    "chi2(x,y) # It show the values of chi_square.. "
   ]
  },
  {
   "cell_type": "code",
   "execution_count": 10,
   "id": "063317df",
   "metadata": {},
   "outputs": [],
   "source": [
    "chi_scores=chi2(x,y) # Store the values in a variable."
   ]
  },
  {
   "cell_type": "code",
   "execution_count": 11,
   "id": "20d21ece",
   "metadata": {},
   "outputs": [
    {
     "data": {
      "text/html": [
       "<div>\n",
       "<style scoped>\n",
       "    .dataframe tbody tr th:only-of-type {\n",
       "        vertical-align: middle;\n",
       "    }\n",
       "\n",
       "    .dataframe tbody tr th {\n",
       "        vertical-align: top;\n",
       "    }\n",
       "\n",
       "    .dataframe thead th {\n",
       "        text-align: right;\n",
       "    }\n",
       "</style>\n",
       "<table border=\"1\" class=\"dataframe\">\n",
       "  <thead>\n",
       "    <tr style=\"text-align: right;\">\n",
       "      <th></th>\n",
       "      <th>Feature_Name</th>\n",
       "      <th>Score</th>\n",
       "    </tr>\n",
       "  </thead>\n",
       "  <tbody>\n",
       "    <tr>\n",
       "      <th>0</th>\n",
       "      <td>sepal length (cm)</td>\n",
       "      <td>10.817821</td>\n",
       "    </tr>\n",
       "    <tr>\n",
       "      <th>1</th>\n",
       "      <td>sepal width (cm)</td>\n",
       "      <td>3.710728</td>\n",
       "    </tr>\n",
       "    <tr>\n",
       "      <th>2</th>\n",
       "      <td>petal length (cm)</td>\n",
       "      <td>116.312613</td>\n",
       "    </tr>\n",
       "    <tr>\n",
       "      <th>3</th>\n",
       "      <td>petal width (cm)</td>\n",
       "      <td>67.048360</td>\n",
       "    </tr>\n",
       "  </tbody>\n",
       "</table>\n",
       "</div>"
      ],
      "text/plain": [
       "        Feature_Name       Score\n",
       "0  sepal length (cm)   10.817821\n",
       "1   sepal width (cm)    3.710728\n",
       "2  petal length (cm)  116.312613\n",
       "3   petal width (cm)   67.048360"
      ]
     },
     "execution_count": 11,
     "metadata": {},
     "output_type": "execute_result"
    }
   ],
   "source": [
    "chi_value=ft_scores=pd.DataFrame(list(zip(data.feature_names,chi_scores[0])),columns=[\"Feature_Name\",\"Score\"])\n",
    "ft_scores  # SCores of all the Features"
   ]
  },
  {
   "cell_type": "code",
   "execution_count": 12,
   "id": "821b39c3",
   "metadata": {},
   "outputs": [
    {
     "data": {
      "text/plain": [
       "<AxesSubplot:>"
      ]
     },
     "execution_count": 12,
     "metadata": {},
     "output_type": "execute_result"
    },
    {
     "data": {
      "image/png": "[encoded data removed]",
      "text/plain": [
       "<Figure size 640x480 with 1 Axes>"
      ]
     },
     "metadata": {},
     "output_type": "display_data"
    }
   ],
   "source": [
    "chi_values=pd.Series(chi_scores[0],index=data.feature_names)\n",
    "chi_values.sort_values(ascending=False,inplace=True)\n",
    "chi_values.plot.bar()"
   ]
  },
  {
   "cell_type": "markdown",
   "id": "e366fb17",
   "metadata": {},
   "source": [
    "### F-Test "
   ]
  },
  {
   "cell_type": "code",
   "execution_count": 13,
   "id": "a22b2e6e",
   "metadata": {},
   "outputs": [],
   "source": [
    "ft_selector=SelectPercentile(f_classif,percentile=10)\n",
    "per=ft_selector.fit_transform(x,y)"
   ]
  },
  {
   "cell_type": "code",
   "execution_count": 14,
   "id": "ac970424",
   "metadata": {},
   "outputs": [
    {
     "name": "stdout",
     "output_type": "stream",
     "text": [
      "Shape of orginal features : (150, 4)\n",
      "Shape of reduced features : (150, 1)\n"
     ]
    }
   ],
   "source": [
    "print(\"Shape of orginal features :\",x.shape)  \n",
    "print(\"Shape of reduced features :\",per.shape)"
   ]
  },
  {
   "cell_type": "code",
   "execution_count": 15,
   "id": "26812991",
   "metadata": {},
   "outputs": [
    {
     "data": {
      "text/html": [
       "<div>\n",
       "<style scoped>\n",
       "    .dataframe tbody tr th:only-of-type {\n",
       "        vertical-align: middle;\n",
       "    }\n",
       "\n",
       "    .dataframe tbody tr th {\n",
       "        vertical-align: top;\n",
       "    }\n",
       "\n",
       "    .dataframe thead th {\n",
       "        text-align: right;\n",
       "    }\n",
       "</style>\n",
       "<table border=\"1\" class=\"dataframe\">\n",
       "  <thead>\n",
       "    <tr style=\"text-align: right;\">\n",
       "      <th></th>\n",
       "      <th>Feature_Name</th>\n",
       "      <th>Score</th>\n",
       "    </tr>\n",
       "  </thead>\n",
       "  <tbody>\n",
       "    <tr>\n",
       "      <th>0</th>\n",
       "      <td>sepal length (cm)</td>\n",
       "      <td>119.264502</td>\n",
       "    </tr>\n",
       "    <tr>\n",
       "      <th>1</th>\n",
       "      <td>sepal width (cm)</td>\n",
       "      <td>49.160040</td>\n",
       "    </tr>\n",
       "    <tr>\n",
       "      <th>2</th>\n",
       "      <td>petal length (cm)</td>\n",
       "      <td>1180.161182</td>\n",
       "    </tr>\n",
       "    <tr>\n",
       "      <th>3</th>\n",
       "      <td>petal width (cm)</td>\n",
       "      <td>960.007147</td>\n",
       "    </tr>\n",
       "  </tbody>\n",
       "</table>\n",
       "</div>"
      ],
      "text/plain": [
       "        Feature_Name        Score\n",
       "0  sepal length (cm)   119.264502\n",
       "1   sepal width (cm)    49.160040\n",
       "2  petal length (cm)  1180.161182\n",
       "3   petal width (cm)   960.007147"
      ]
     },
     "execution_count": 15,
     "metadata": {},
     "output_type": "execute_result"
    }
   ],
   "source": [
    "ft_scores=pd.DataFrame(list(zip(data.feature_names,ft_selector.scores_)),columns=[\"Feature_Name\",\"Score\"])\n",
    "ft_scores  # SCores of all the Features"
   ]
  },
  {
   "cell_type": "code",
   "execution_count": 16,
   "id": "70600b01",
   "metadata": {},
   "outputs": [
    {
     "data": {
      "text/plain": [
       "array(['petal length (cm)'], dtype='<U17')"
      ]
     },
     "execution_count": 16,
     "metadata": {},
     "output_type": "execute_result"
    }
   ],
   "source": [
    "np.asarray(data.feature_names)[ft_selector.get_support()]"
   ]
  },
  {
   "cell_type": "code",
   "execution_count": null,
   "id": "df26a800",
   "metadata": {},
   "outputs": [],
   "source": []
  }
 ],
 "metadata": {
  "kernelspec": {
   "display_name": "Python 3 (ipykernel)",
   "language": "python",
   "name": "python3"
  },
  "language_info": {
   "codemirror_mode": {
    "name": "ipython",
    "version": 3
   },
   "file_extension": ".py",
   "mimetype": "text/x-python",
   "name": "python",
   "nbconvert_exporter": "python",
   "pygments_lexer": "ipython3",
   "version": "3.9.13"
  }
 },
 "nbformat": 4,
 "nbformat_minor": 5
}
