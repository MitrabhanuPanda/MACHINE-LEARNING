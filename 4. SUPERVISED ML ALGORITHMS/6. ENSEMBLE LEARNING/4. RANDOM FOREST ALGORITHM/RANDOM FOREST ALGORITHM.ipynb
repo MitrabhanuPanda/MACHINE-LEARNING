{
 "cells": [
  {
   "cell_type": "markdown",
   "id": "4479b171",
   "metadata": {},
   "source": [
    "<h1 style=\"text-align : center\"> <font color=\"red\" size=8>RANDOM FOREST ALGORITHM</h1>"
   ]
  },
  {
   "cell_type": "markdown",
   "id": "d9bc6a60",
   "metadata": {},
   "source": [
    "## <font color=\"dark blue\">WHAT IS RANDOM FOREST ALGORITHM?\n",
    "- It is a type of Bagging algorithm.\n",
    "- A Random Forest is a powerful ensemble learning method that combines multiple decision trees to improve prediction accuracy and reduce overfitting. It's a popular choice for both classification and regression tasks.\n",
    "    \n",
    "    \n",
    "- Random Forest algorithm is a powerful tree learning technique in Machine Learning. It works by creating a number of Decision Trees during the training phase. Each tree is constructed using a random subset of the dataset to measure a random subset of features in each partition. This randomness introduces variability among individual trees, reducing the risk of overfitting and improving overall prediction performance.\n",
    "    \n",
    "    \n",
    "- It is developed by __Leo Breiman and Adele Cutler__."
   ]
  },
  {
   "cell_type": "markdown",
   "id": "28236132",
   "metadata": {},
   "source": [
    "## <font color=\"dark blue\">HOW RANDOM FOREST ALGORITHM WORKS?\n",
    "- __Ensemble of Decision Trees__: Random Forest leverages the power of ensemble learning by constructing an army of Decision Trees. These trees are like individual experts, each specializing in a particular aspect of the data. Importantly, they operate independently, minimizing the risk of the model being overly influenced by the nuances of a single tree.\n",
    "    \n",
    "    \n",
    "- __Random Feature Selection__: To ensure that each decision tree in the ensemble brings a unique perspective, Random Forest employs random feature selection. During the training of each tree, a random subset of features is chosen. This randomness ensures that each tree focuses on different aspects of the data, fostering a diverse set of predictors within the ensemble.\n",
    "    \n",
    "    - At each node of the tree, a random subset of features is considered for splitting. This helps to reduce correlation between trees and improve diversity\n",
    "    \n",
    "    \n",
    "- __Bootstrap Aggregating or Bagging__: The technique of bagging is a cornerstone of Random Forest's training strategy which involves creating multiple bootstrap samples from the original dataset, allowing instances to be sampled with replacement. This results in different subsets of data for each decision tree, introducing variability in the training process and making the model more robust.\n",
    "    \n",
    "    \n",
    "- __Decision Making and Voting__: When it comes to making predictions, each decision tree in the Random Forest casts its vote. For classification tasks, the final prediction is determined by the mode (most frequent prediction) across all the trees. In regression tasks, the average of the individual tree predictions is taken. This internal voting mechanism ensures a balanced and collective decision-making process."
   ]
  },
  {
   "attachments": {
    "random-forest-algorithm.png": {
     "image/png": "[encoded data removed]"
    }
   },
   "cell_type": "markdown",
   "id": "0ecc92d9",
   "metadata": {},
   "source": [
    "![random-forest-algorithm.png](attachment:random-forest-algorithm.png)"
   ]
  },
  {
   "cell_type": "markdown",
   "id": "d7410af1",
   "metadata": {},
   "source": [
    "## <font color=\"dark blue\">KEY FEATURES OF RANDOM FOREST ALGORITHM\n",
    "- Reduced Overfitting\n",
    "- High Accuracy\n",
    "- Feature Importance\n",
    "- Handles Missing Values\n",
    "- Handles Imbalanced Datasets"
   ]
  },
  {
   "cell_type": "markdown",
   "id": "19f361af",
   "metadata": {},
   "source": [
    "## <font color=\"dark blue\">WHY USE RANDOM FOREST ALGORITHM?\n",
    "- It takes less training time as compared to other algorithms.\n",
    "- It predicts output with high accuracy, even for the large dataset it runs efficiently.\n",
    "- It can also maintain accuracy when a large proportion of data is missing."
   ]
  },
  {
   "cell_type": "markdown",
   "id": "aac646e4",
   "metadata": {},
   "source": [
    "## <font color=\"blue\">CODE FOR RANDOM FOREST ALGORITHM"
   ]
  },
  {
   "cell_type": "markdown",
   "id": "1e18020b",
   "metadata": {},
   "source": [
    "### <font color=\"orange\">a. CODE FOR RANDOM FOREST CLASSIFIER"
   ]
  },
  {
   "cell_type": "code",
   "execution_count": 4,
   "id": "b82f86bb",
   "metadata": {},
   "outputs": [
    {
     "name": "stdout",
     "output_type": "stream",
     "text": [
      "Accuracy Of the Model 0.7988826815642458\n",
      "\n",
      "              precision    recall  f1-score   support\n",
      "\n",
      "           0       0.82      0.85      0.83       105\n",
      "           1       0.77      0.73      0.75        74\n",
      "\n",
      "    accuracy                           0.80       179\n",
      "   macro avg       0.79      0.79      0.79       179\n",
      "weighted avg       0.80      0.80      0.80       179\n",
      "\n"
     ]
    }
   ],
   "source": [
    "# Import necessary libraries\n",
    "import pandas as pd\n",
    "from sklearn.model_selection import train_test_split\n",
    "from sklearn.ensemble import RandomForestClassifier\n",
    "from sklearn.metrics import accuracy_score, classification_report\n",
    "import warnings\n",
    "warnings.filterwarnings('ignore')\n",
    "# Load the Titanic dataset\n",
    "url = \"https://raw.githubusercontent.com/datasciencedojo/datasets/master/titanic.csv\"\n",
    "titanic_data = pd.read_csv(url)\n",
    "\n",
    "# Drop rows with missing target values\n",
    "titanic_data = titanic_data.dropna(subset=['Survived'])\n",
    "\n",
    "# Select relevant features and target variable\n",
    "X = titanic_data[['Pclass', 'Sex', 'Age', 'SibSp', 'Parch', 'Fare']]\n",
    "y = titanic_data['Survived']\n",
    "\n",
    "# Convert categorical variable 'Sex' to numerical using .loc\n",
    "X.loc[:, 'Sex'] = X['Sex'].map({'female': 0, 'male': 1})\n",
    "\n",
    "# Handle missing values in the 'Age' column using .loc\n",
    "X.loc[:, 'Age'].fillna(X['Age'].median(), inplace=True)\n",
    "\n",
    "# Split the dataset into training and testing sets\n",
    "X_train, X_test, y_train, y_test = train_test_split(X, y, test_size=0.2, random_state=42)\n",
    "\n",
    "# Create a Random Forest Classifier\n",
    "rf_classifier = RandomForestClassifier(n_estimators=100, random_state=42)\n",
    "\n",
    "# Train the classifier\n",
    "rf_classifier.fit(X_train, y_train)\n",
    "\n",
    "# Make predictions on the test set\n",
    "y_pred = rf_classifier.predict(X_test)\n",
    "\n",
    "# Evaluate the model\n",
    "accuracy = accuracy_score(y_test, y_pred)\n",
    "classification_rep = classification_report(y_test, y_pred)\n",
    "\n",
    "# Print the results\n",
    "print(\"Accuracy Of the Model\",accuracy)\n",
    "print()\n",
    "print(classification_rep)"
   ]
  },
  {
   "cell_type": "markdown",
   "id": "2207b13a",
   "metadata": {},
   "source": [
    "### <font color=\"orange\">b. CODE FOR RANDOM FOREST REGRESSOR"
   ]
  },
  {
   "cell_type": "code",
   "execution_count": 5,
   "id": "312fe998",
   "metadata": {},
   "outputs": [
    {
     "name": "stdout",
     "output_type": "stream",
     "text": [
      "Mean Squared Error of the Model 0.2553684927247781\n",
      "\n",
      "R2-Score of the Model 0.8051230593157366\n"
     ]
    }
   ],
   "source": [
    "# Import necessary libraries\n",
    "import pandas as pd\n",
    "from sklearn.datasets import fetch_california_housing\n",
    "from sklearn.model_selection import train_test_split\n",
    "from sklearn.ensemble import RandomForestRegressor\n",
    "from sklearn.metrics import mean_squared_error, r2_score\n",
    "\n",
    "# Load the California Housing dataset\n",
    "california_housing = fetch_california_housing()\n",
    "california_data = pd.DataFrame(california_housing.data, columns=california_housing.feature_names)\n",
    "california_data['MEDV'] = california_housing.target\n",
    "\n",
    "# Select relevant features and target variable\n",
    "X = california_data.drop('MEDV', axis=1)\n",
    "y = california_data['MEDV']\n",
    "\n",
    "# Split the dataset into training and testing sets\n",
    "X_train, X_test, y_train, y_test = train_test_split(X, y, test_size=0.2, random_state=42)\n",
    "\n",
    "# Create a Random Forest Regressor\n",
    "rf_regressor = RandomForestRegressor(n_estimators=100, random_state=42)\n",
    "\n",
    "# Train the regressor\n",
    "rf_regressor.fit(X_train, y_train)\n",
    "\n",
    "# Make predictions on the test set\n",
    "y_pred = rf_regressor.predict(X_test)\n",
    "\n",
    "# Evaluate the model\n",
    "mse = mean_squared_error(y_test, y_pred)\n",
    "r2 = r2_score(y_test, y_pred)\n",
    "\n",
    "# Print the results\n",
    "print(\"Mean Squared Error of the Model\", mse)\n",
    "print()\n",
    "print(\"R2-Score of the Model\",r2)"
   ]
  },
  {
   "cell_type": "markdown",
   "id": "27f5ac79",
   "metadata": {},
   "source": [
    "## <font color=\"purple\">PARAMETERS OF RANDOM FOREST CLASS\n",
    "\n",
    "__1. n_estimators__:\n",
    "- The number of decision trees in the forest. More trees generally lead to better performance, but also increase computational cost.\n",
    "\n",
    "__2. criterion__:\n",
    "- The function used to measure the quality of a split. Common options are \"gini\" and \"entropy\".\n",
    "\n",
    "__3. max_depth__:\n",
    "- The maximum depth of each tree. A deeper tree can capture more complex patterns, but it also increases the risk of overfitting.\n",
    "\n",
    "__4. min_samples_split__:\n",
    "- The minimum number of samples required to split an internal node.\n",
    "\n",
    "__5. min_samples_leaf__:\n",
    "- The minimum number of samples required to be at a leaf node.   \n",
    "\n",
    "__6. max_features__:\n",
    "- The number of features to consider when looking for the best split.\n",
    "    - __sqrt__: The square root of the number of features.\n",
    "    - __log2__: The base-2 logarithm of the number of features.\n",
    "\n",
    "__7. bootstrap__:\n",
    "- Whether to use bootstrap sampling to create different subsets of the training data for each tree.\n",
    "\n",
    "__8. oob_score__:\n",
    "- Whether to compute the out-of-bag (OOB) score. The OOB score is the accuracy of the model on samples that were not used to train a particular tree.\n",
    "\n",
    "__9. n_jobs__:\n",
    "- The number of CPU cores to use for parallel processing. A higher value can speed up training.\n",
    "\n",
    "__10. random_state__:\n",
    "- The seed used by the random number generator. This can be useful for reproducibility.\n",
    "\n",
    "__11. class_weight__:\n",
    "- Weights associated with classes in the form {class_label: weight}. This can be useful for imbalanced datasets.\n",
    "\n",
    "__12. ccp_alpha__:\n",
    "- Complexity parameter used for pruning.\n",
    "\n",
    "__13. max_samples__:\n",
    "- The maximum number of samples to draw from the training set for each base estimator.\n",
    "\n",
    "__14. monotonic_cst__:\n",
    "- Constraints on monotonic relationships between features and the target variable."
   ]
  },
  {
   "cell_type": "markdown",
   "id": "37d4801b",
   "metadata": {},
   "source": [
    "## <font color=\"dark blue\">DIFFERENCE BETWEEN RANDOM FOREST & BAGGING"
   ]
  },
  {
   "cell_type": "markdown",
   "id": "b23cce72",
   "metadata": {},
   "source": [
    "FEATURES | RANDOM FOREST | BAGGING\n",
    "--------- | ------------- | --------\n",
    "__Base Models___ | Decision Trees Only | Different\n",
    "__Feature Selection__ | Random subset of features | All features is considered\n",
    "__Bias-Variance Trade-off__ | Reduces both bias and variance | Reduces variance\n",
    "__Spliting criteria__ | Node base Spliting | Tree base Spliting"
   ]
  }
 ],
 "metadata": {
  "kernelspec": {
   "display_name": "Python 3 (ipykernel)",
   "language": "python",
   "name": "python3"
  },
  "language_info": {
   "codemirror_mode": {
    "name": "ipython",
    "version": 3
   },
   "file_extension": ".py",
   "mimetype": "text/x-python",
   "name": "python",
   "nbconvert_exporter": "python",
   "pygments_lexer": "ipython3",
   "version": "3.12.3"
  }
 },
 "nbformat": 4,
 "nbformat_minor": 5
}
