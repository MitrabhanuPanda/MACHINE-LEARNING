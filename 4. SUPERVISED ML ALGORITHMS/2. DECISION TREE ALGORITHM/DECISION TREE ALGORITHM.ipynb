{
 "cells": [
  {
   "cell_type": "markdown",
   "id": "c3535fa9",
   "metadata": {},
   "source": [
    "<h1 style=\"text-align : center\"> <font color=\"red\" size=8>DECISION TREE ALGORITHM</h1>"
   ]
  },
  {
   "cell_type": "markdown",
   "id": "4a8096f5",
   "metadata": {},
   "source": [
    "## <font color=\"dark blue\">WHAT IS DECISION TREE?\n",
    "- It is a __Supervised Learning__.\n",
    " \n",
    "- It is a __Rule Based Approach__.\n",
    "       \n",
    "- It is a ML Algorithm used for both classification & regression task.\n",
    "       \n",
    "- It provides a clear and intuitive way to make decisions based on data by modeling the relationships between different variables.\n",
    "    \n",
    "    \n",
    "- A decision tree is a flowchart-like structure used to make decisions or predictions. It consists of nodes representing decisions or tests on attributes, branches representing the outcome of these decisions, and leaf nodes representing final outcomes or predictions. Each internal node corresponds to a test on an attribute, each branch corresponds to the result of the test, and each leaf node corresponds to a class label or a continuous value"
   ]
  },
  {
   "cell_type": "markdown",
   "id": "1db0f5c7",
   "metadata": {},
   "source": [
    "## <font color=\"dark blue\">HOW DECISION TREE WORKS?\n",
    "- Makes the split in such a way that impurity of new partition is reduced. (i.e. try to get Homogeneous node)"
   ]
  },
  {
   "cell_type": "markdown",
   "id": "55b13249",
   "metadata": {},
   "source": [
    "## <font color=\"green\">TREE\n",
    "- It is a data structure where nodes are connected with edges.\n",
    "- No cycle should form.\n",
    "- There should be exactly one path to reach any node in the tree."
   ]
  },
  {
   "attachments": {
    "decision-tree-classification-algorithm.png": {
     "image/png": "[encoded data removed]"
    }
   },
   "cell_type": "markdown",
   "id": "a23c5fc0",
   "metadata": {},
   "source": [
    "![decision-tree-classification-algorithm.png](attachment:decision-tree-classification-algorithm.png)"
   ]
  },
  {
   "cell_type": "markdown",
   "id": "6a7e933e",
   "metadata": {},
   "source": [
    "## <font color=\"green\">UNDERSTANDING THE TREE STRUCTURE\n",
    "- __Root Node__: Represents the entire dataset and the initial decision to be made.\n",
    "    \n",
    "    \n",
    "- __Internal Nodes__: Represent decisions or tests on attributes. Each internal node has one or more branches.\n",
    "    \n",
    "    \n",
    "- __Branches__: Represent the outcome of a decision or test, leading to another node.\n",
    "    \n",
    "    \n",
    "- __Leaf Nodes__: Represent the final decision or prediction. No further splits occur at these nodes."
   ]
  },
  {
   "cell_type": "markdown",
   "id": "f70c51be",
   "metadata": {},
   "source": [
    "## <font color=\"dark blue\">HOW DECISION TREE WORKS?\n",
    "\n",
    "- __Selecting the Best Attribute__: Using a metric like Gini impurity, entropy, or information gain, the best attribute to split the data is selected.\n",
    "    \n",
    "    \n",
    "- __Splitting the Dataset__: The dataset is split into subsets based on the selected attribute.\n",
    "    \n",
    "    \n",
    "- __Repeating the Process__: The process is repeated recursively for each subset, creating a new internal node or leaf node until a stopping criterion is met (e.g., all instances in a node belong to the same class or a predefined depth is reached)"
   ]
  },
  {
   "cell_type": "markdown",
   "id": "be9de9c3",
   "metadata": {},
   "source": [
    "## <font color=\"blue\">ENTROPY\n",
    "- It is used to Measure of impurity / randomness.\n",
    "- Max the entropy, harder it to draw the conclusion.\n",
    "$$ \\large H(Target) = -\\sum_{i=1}^{c} p_i \\log_2(p_i) $$\n",
    "    \n",
    "$$ \\large c \\rightarrow Number \\ of \\ Classes $$\n",
    "    \n",
    "$$ \\large 0 \\le H(Y) \\le 1  $$"
   ]
  },
  {
   "cell_type": "markdown",
   "id": "f4cb64bb",
   "metadata": {},
   "source": [
    "## <font color=\"blue\">INFORMATION GAIN\n",
    "- It measures how much information a particular feature provides about the target variable. \n",
    "    \n",
    "- In simpler terms, it quantifies the reduction in uncertainty or impurity in the dataset after a split on a specific feature.\n",
    "    \n",
    "$$  IG(Input Feature, Target) = H(Target) -\\sum_{i=1}^{p} \\frac{|D_i|}{|D|} * H_Di(Y) $$\n",
    "    \n",
    "$$ P \\rightarrow Total \\ Number \\ of \\ Partitions  $$\n",
    "    \n",
    "$$ |D_i| \\rightarrow No. \\ of \\ datapoints \\ in \\ each \\ Partition  $$\n",
    "    \n",
    "$$ |D| \\rightarrow No. \\ of \\ datapoints \\ before \\ Partition  $$\n",
    "    \n",
    "$$ H(Y) \\rightarrow Entropy \\ before \\ Partition  $$\n",
    " \n",
    "$$ H_Di(Y) \\rightarrow Entropy \\ of \\ D_i th \\ Partition  $$\n",
    "   \n",
    "- We have `r` possibility to split the data,out of all the possibilities, __Choose the one which contributes the high Information Gain__.\n",
    "    \n",
    "    \n",
    "- Information Gain is used to split the node / partitioning.\n",
    "    \n",
    "$$  \\large IG(Rule) = Entropy \\ Before \\ Partition - sum(Weighted \\ Entropy \\ of \\ each \\ partition) $$"
   ]
  },
  {
   "cell_type": "markdown",
   "id": "1a30217e",
   "metadata": {},
   "source": [
    "## <font color=\"blue\">GINI IMPURITY\n",
    "- It measures the probability of incorrectly classifying a randomly chosen element.\n",
    "\n",
    "\n",
    "- Measures the likelihood of an incorrect classification of a new instance if it was randomly classified according to the distribution of classes in the dataset.\n",
    "\n",
    "$$ \\large I_G(Target) = 1- \\sum_{i=1}^{c}(p(y_i))^2 $$ \n",
    "    \n",
    " $$ 0 \\le I_G(Y) \\le 1- \\frac{1}{c} $$ "
   ]
  },
  {
   "attachments": {
    "Gini-Impurity-vs-Entropy.png": {
     "image/png": "[encoded data removed]"
    }
   },
   "cell_type": "markdown",
   "id": "aef20ec8",
   "metadata": {},
   "source": [
    "![Gini-Impurity-vs-Entropy.png](attachment:Gini-Impurity-vs-Entropy.png)"
   ]
  },
  {
   "cell_type": "markdown",
   "id": "86e430e8",
   "metadata": {},
   "source": [
    "## <font color=\"green\">PRUNING\n",
    "- To overcome overfitting, pruning techniques are used. Pruning reduces the size of the tree by removing nodes that provide little power in classifying instances. There are two main types of pruning:\n",
    "\n",
    "    - __Pre-pruning (Early Stopping)__: Stops the tree from growing once it meets certain criteria (e.g., maximum depth, minimum number of samples per leaf).\n",
    "    - __Post-pruning__: Removes branches from a fully grown tree that do not provide significant power."
   ]
  },
  {
   "cell_type": "markdown",
   "id": "c6851713",
   "metadata": {},
   "source": [
    "## <font color=\"blue\">WAYS TO CREATE DECISION TREES\n",
    "    \n",
    "### 1. ID3(Iterative Dichotomiser 3)\n",
    "- Only for classification task on categorical data.\n",
    "    \n",
    "- For Classification $ \\rightarrow $(Entropy, Information Gain)\n",
    "    \n",
    "### 2. C4.5\n",
    "- Handles both Categorical as well as Numerical Data.\n",
    " \n",
    "- For Classification $ \\rightarrow $(Entropy, Information Gain Ratio)\n",
    "\n",
    "- For Regression $ \\rightarrow $(MSE, Minimize the sum of weighted MSE)\n",
    "    \n",
    "### 3. C5.0 (Commercial)\n",
    "\n",
    "### 4. SLIQ & SPRINT ( If the data is not on a single disk [Big Data])\n",
    " \n",
    "### 5. CART\n",
    "- It stands for Classification & Regression Task. $ \\rightarrow $ sklearn implementation\n",
    "    \n",
    "- For Classification $ \\rightarrow $(Gini Index, Minimize the sum of weighted Gini Index)\n",
    "    \n",
    "- For Regression $ \\rightarrow $(MSE, Minimize the sum of weighted MSe)"
   ]
  },
  {
   "cell_type": "markdown",
   "id": "8e101bd7",
   "metadata": {},
   "source": [
    "## <font color=\"blue\">ADVANTAGES\n",
    "- Simple to interpret.\n",
    "- Require little data preparation. \n",
    "    - Numerical Feature $ \\rightarrow $ No scaling require \n",
    "    - Categorical Feature $ \\rightarrow $ Label Encoding\n",
    "- Very fast for prediction on query datapoint.\n",
    "- Can handle multi-class problem.\n",
    "- Provides feature importance.\n",
    "- Learns non-linear patterns."
   ]
  },
  {
   "cell_type": "markdown",
   "id": "5ac0b67d",
   "metadata": {},
   "source": [
    "## <font color=\"blue\">DISADVANTAGES\n",
    "- Prone to Overfitting & are unstable.\n",
    "- Prone to imbalanced data. Biased towards classes which dominates.\n",
    "- Prediction from decision tree are piece wise constant approximations. (for regression)\n",
    "- Training time is more if lots of numerical features exist in input."
   ]
  },
  {
   "cell_type": "markdown",
   "id": "cee3cacc",
   "metadata": {},
   "source": [
    "## <font color=\"orange\">CODE FOR DECISION TREE CLASSIFIER"
   ]
  },
  {
   "cell_type": "code",
   "execution_count": 3,
   "id": "efff85b4",
   "metadata": {},
   "outputs": [],
   "source": [
    "from sklearn.datasets import load_iris\n",
    "from sklearn import tree\n",
    "iris = load_iris()\n",
    "X, y = iris.data, iris.target\n",
    "clf = tree.DecisionTreeClassifier()\n",
    "clf = clf.fit(X, y)"
   ]
  },
  {
   "cell_type": "code",
   "execution_count": 4,
   "id": "d2f06d41",
   "metadata": {},
   "outputs": [
    {
     "data": {
      "text/plain": [
       "[Text(0.5, 0.9166666666666666, 'X[3] <= 0.8\\ngini = 0.667\\nsamples = 150\\nvalue = [50, 50, 50]'),\n",
       " Text(0.4230769230769231, 0.75, 'gini = 0.0\\nsamples = 50\\nvalue = [50, 0, 0]'),\n",
       " Text(0.5769230769230769, 0.75, 'X[3] <= 1.75\\ngini = 0.5\\nsamples = 100\\nvalue = [0, 50, 50]'),\n",
       " Text(0.3076923076923077, 0.5833333333333334, 'X[2] <= 4.95\\ngini = 0.168\\nsamples = 54\\nvalue = [0, 49, 5]'),\n",
       " Text(0.15384615384615385, 0.4166666666666667, 'X[3] <= 1.65\\ngini = 0.041\\nsamples = 48\\nvalue = [0, 47, 1]'),\n",
       " Text(0.07692307692307693, 0.25, 'gini = 0.0\\nsamples = 47\\nvalue = [0, 47, 0]'),\n",
       " Text(0.23076923076923078, 0.25, 'gini = 0.0\\nsamples = 1\\nvalue = [0, 0, 1]'),\n",
       " Text(0.46153846153846156, 0.4166666666666667, 'X[3] <= 1.55\\ngini = 0.444\\nsamples = 6\\nvalue = [0, 2, 4]'),\n",
       " Text(0.38461538461538464, 0.25, 'gini = 0.0\\nsamples = 3\\nvalue = [0, 0, 3]'),\n",
       " Text(0.5384615384615384, 0.25, 'X[0] <= 6.95\\ngini = 0.444\\nsamples = 3\\nvalue = [0, 2, 1]'),\n",
       " Text(0.46153846153846156, 0.08333333333333333, 'gini = 0.0\\nsamples = 2\\nvalue = [0, 2, 0]'),\n",
       " Text(0.6153846153846154, 0.08333333333333333, 'gini = 0.0\\nsamples = 1\\nvalue = [0, 0, 1]'),\n",
       " Text(0.8461538461538461, 0.5833333333333334, 'X[2] <= 4.85\\ngini = 0.043\\nsamples = 46\\nvalue = [0, 1, 45]'),\n",
       " Text(0.7692307692307693, 0.4166666666666667, 'X[0] <= 5.95\\ngini = 0.444\\nsamples = 3\\nvalue = [0, 1, 2]'),\n",
       " Text(0.6923076923076923, 0.25, 'gini = 0.0\\nsamples = 1\\nvalue = [0, 1, 0]'),\n",
       " Text(0.8461538461538461, 0.25, 'gini = 0.0\\nsamples = 2\\nvalue = [0, 0, 2]'),\n",
       " Text(0.9230769230769231, 0.4166666666666667, 'gini = 0.0\\nsamples = 43\\nvalue = [0, 0, 43]')]"
      ]
     },
     "execution_count": 4,
     "metadata": {},
     "output_type": "execute_result"
    },
    {
     "data": {
      "image/png": "[encoded data removed]",
      "text/plain": [
       "<Figure size 640x480 with 1 Axes>"
      ]
     },
     "metadata": {},
     "output_type": "display_data"
    }
   ],
   "source": [
    "tree.plot_tree(clf)"
   ]
  },
  {
   "cell_type": "markdown",
   "id": "02421eee",
   "metadata": {},
   "source": [
    "## <font color=\"orange\">CODE FOR DECISION TREE REGRESSOR"
   ]
  },
  {
   "cell_type": "code",
   "execution_count": 5,
   "id": "a8847469",
   "metadata": {},
   "outputs": [
    {
     "data": {
      "text/plain": [
       "array([0.5])"
      ]
     },
     "execution_count": 5,
     "metadata": {},
     "output_type": "execute_result"
    }
   ],
   "source": [
    "from sklearn import tree\n",
    "X = [[0, 0], [2, 2]]\n",
    "y = [0.5, 2.5]\n",
    "clf = tree.DecisionTreeRegressor()\n",
    "clf = clf.fit(X, y)\n",
    "clf.predict([[1, 1]])"
   ]
  },
  {
   "cell_type": "markdown",
   "id": "dc7b3ea8",
   "metadata": {},
   "source": [
    "## <font color=\"purple\">PARAMETERS OF DECISION TREE CLASS\n",
    "\n",
    "__1. criterion__:\n",
    "- __gini__: Measures the impurity of a node. A lower Gini impurity indicates a purer node.\n",
    "- __entropy__: Measures the uncertainty of a node. A lower entropy indicates a purer node.\n",
    "\n",
    "__2. splitter__:\n",
    "- __best__: Chooses the best split based on the criterion (Gini or entropy).\n",
    "- __random__: Chooses the best split from a random subset of features.\n",
    "\n",
    "__3. max_depth__:\n",
    "- The maximum depth of the tree. A deeper tree can capture more complex patterns but is more prone to overfitting.\n",
    "\n",
    "__4. min_samples_split__:\n",
    "- The minimum number of samples required to split an internal node.\n",
    "\n",
    "__5. min_samples_leaf__:\n",
    "- The minimum number of samples required to be at a leaf node.   \n",
    "\n",
    "__6. max_features__:\n",
    "- The number of features to consider when looking for the best split.\n",
    "    - __None__: Consider all features.\n",
    "    - __log2__: Consider log2(n_features) features.\n",
    "    - __sqrt__: Consider sqrt(n_features) features.\n",
    "\n",
    "__7. random_state__:\n",
    "- The seed used by the random number generator. This ensures reproducibility.\n",
    "\n",
    "__8. max_leaf_nodes__:\n",
    "- The maximum number of leaf nodes.\n",
    "\n",
    "__9. min_impurity_decrease__:\n",
    "- A node will only be split if this split induces a decrease in the impurity greater than or equal to this value.\n",
    "\n",
    "__10. class_weight__:\n",
    "- Weights associated with classes in the form {class_label: weight}. This can be useful for imbalanced datasets.\n",
    "\n",
    "__11. ccp_alpha__:\n",
    "- Complexity parameter used for pruning.\n",
    "\n",
    "__12. monotonic_cst__:\n",
    "- Constraints on monotonic relationships between features and the target variable."
   ]
  }
 ],
 "metadata": {
  "kernelspec": {
   "display_name": "Python 3 (ipykernel)",
   "language": "python",
   "name": "python3"
  },
  "language_info": {
   "codemirror_mode": {
    "name": "ipython",
    "version": 3
   },
   "file_extension": ".py",
   "mimetype": "text/x-python",
   "name": "python",
   "nbconvert_exporter": "python",
   "pygments_lexer": "ipython3",
   "version": "3.12.3"
  }
 },
 "nbformat": 4,
 "nbformat_minor": 5
}
