{
 "cells": [
  {
   "cell_type": "code",
   "execution_count": 1,
   "id": "567d4975",
   "metadata": {
    "execution": {
     "iopub.execute_input": "2021-12-11T14:59:18.929933Z",
     "iopub.status.busy": "2021-12-11T14:59:18.928772Z",
     "iopub.status.idle": "2021-12-11T14:59:19.965429Z",
     "shell.execute_reply": "2021-12-11T14:59:19.964763Z",
     "shell.execute_reply.started": "2021-12-11T14:58:51.035072Z"
    },
    "papermill": {
     "duration": 1.057916,
     "end_time": "2021-12-11T14:59:19.965598",
     "exception": false,
     "start_time": "2021-12-11T14:59:18.907682",
     "status": "completed"
    },
    "tags": []
   },
   "outputs": [],
   "source": [
    "import numpy as np\n",
    "import pandas as pd\n",
    "import matplotlib.pyplot as plt\n",
    "import seaborn as sns\n",
    "import warnings #  for avoid unwanted warnings\n",
    "warnings.filterwarnings('ignore')\n",
    "from IPython.core.display import display, HTML # for HTMl tag use in python"
   ]
  },
  {
   "cell_type": "code",
   "execution_count": 5,
   "id": "5bc387e0",
   "metadata": {
    "execution": {
     "iopub.execute_input": "2021-12-11T14:59:20.094395Z",
     "iopub.status.busy": "2021-12-11T14:59:20.093497Z",
     "iopub.status.idle": "2021-12-11T14:59:20.248296Z",
     "shell.execute_reply": "2021-12-11T14:59:20.247734Z",
     "shell.execute_reply.started": "2021-12-11T14:58:51.074974Z"
    },
    "papermill": {
     "duration": 0.175238,
     "end_time": "2021-12-11T14:59:20.248440",
     "exception": false,
     "start_time": "2021-12-11T14:59:20.073202",
     "status": "completed"
    },
    "tags": []
   },
   "outputs": [],
   "source": [
    "data = pd.read_csv('play_tennis.csv')"
   ]
  },
  {
   "cell_type": "code",
   "execution_count": 6,
   "id": "1b68a2cc",
   "metadata": {
    "execution": {
     "iopub.execute_input": "2021-12-11T14:59:20.285645Z",
     "iopub.status.busy": "2021-12-11T14:59:20.284730Z",
     "iopub.status.idle": "2021-12-11T14:59:20.301689Z",
     "shell.execute_reply": "2021-12-11T14:59:20.301220Z",
     "shell.execute_reply.started": "2021-12-11T14:58:51.220667Z"
    },
    "papermill": {
     "duration": 0.036644,
     "end_time": "2021-12-11T14:59:20.301824",
     "exception": false,
     "start_time": "2021-12-11T14:59:20.265180",
     "status": "completed"
    },
    "tags": []
   },
   "outputs": [
    {
     "data": {
      "text/html": [
       "<div>\n",
       "<style scoped>\n",
       "    .dataframe tbody tr th:only-of-type {\n",
       "        vertical-align: middle;\n",
       "    }\n",
       "\n",
       "    .dataframe tbody tr th {\n",
       "        vertical-align: top;\n",
       "    }\n",
       "\n",
       "    .dataframe thead th {\n",
       "        text-align: right;\n",
       "    }\n",
       "</style>\n",
       "<table border=\"1\" class=\"dataframe\">\n",
       "  <thead>\n",
       "    <tr style=\"text-align: right;\">\n",
       "      <th></th>\n",
       "      <th>day</th>\n",
       "      <th>outlook</th>\n",
       "      <th>temp</th>\n",
       "      <th>humidity</th>\n",
       "      <th>wind</th>\n",
       "      <th>play</th>\n",
       "    </tr>\n",
       "  </thead>\n",
       "  <tbody>\n",
       "    <tr>\n",
       "      <th>0</th>\n",
       "      <td>D1</td>\n",
       "      <td>Sunny</td>\n",
       "      <td>Hot</td>\n",
       "      <td>High</td>\n",
       "      <td>Weak</td>\n",
       "      <td>No</td>\n",
       "    </tr>\n",
       "    <tr>\n",
       "      <th>1</th>\n",
       "      <td>D2</td>\n",
       "      <td>Sunny</td>\n",
       "      <td>Hot</td>\n",
       "      <td>High</td>\n",
       "      <td>Strong</td>\n",
       "      <td>No</td>\n",
       "    </tr>\n",
       "    <tr>\n",
       "      <th>2</th>\n",
       "      <td>D3</td>\n",
       "      <td>Overcast</td>\n",
       "      <td>Hot</td>\n",
       "      <td>High</td>\n",
       "      <td>Weak</td>\n",
       "      <td>Yes</td>\n",
       "    </tr>\n",
       "    <tr>\n",
       "      <th>3</th>\n",
       "      <td>D4</td>\n",
       "      <td>Rain</td>\n",
       "      <td>Mild</td>\n",
       "      <td>High</td>\n",
       "      <td>Weak</td>\n",
       "      <td>Yes</td>\n",
       "    </tr>\n",
       "    <tr>\n",
       "      <th>4</th>\n",
       "      <td>D5</td>\n",
       "      <td>Rain</td>\n",
       "      <td>Cool</td>\n",
       "      <td>Normal</td>\n",
       "      <td>Weak</td>\n",
       "      <td>Yes</td>\n",
       "    </tr>\n",
       "    <tr>\n",
       "      <th>5</th>\n",
       "      <td>D6</td>\n",
       "      <td>Rain</td>\n",
       "      <td>Cool</td>\n",
       "      <td>Normal</td>\n",
       "      <td>Strong</td>\n",
       "      <td>No</td>\n",
       "    </tr>\n",
       "    <tr>\n",
       "      <th>6</th>\n",
       "      <td>D7</td>\n",
       "      <td>Overcast</td>\n",
       "      <td>Cool</td>\n",
       "      <td>Normal</td>\n",
       "      <td>Strong</td>\n",
       "      <td>Yes</td>\n",
       "    </tr>\n",
       "    <tr>\n",
       "      <th>7</th>\n",
       "      <td>D8</td>\n",
       "      <td>Sunny</td>\n",
       "      <td>Mild</td>\n",
       "      <td>High</td>\n",
       "      <td>Weak</td>\n",
       "      <td>No</td>\n",
       "    </tr>\n",
       "    <tr>\n",
       "      <th>8</th>\n",
       "      <td>D9</td>\n",
       "      <td>Sunny</td>\n",
       "      <td>Cool</td>\n",
       "      <td>Normal</td>\n",
       "      <td>Weak</td>\n",
       "      <td>Yes</td>\n",
       "    </tr>\n",
       "    <tr>\n",
       "      <th>9</th>\n",
       "      <td>D10</td>\n",
       "      <td>Rain</td>\n",
       "      <td>Mild</td>\n",
       "      <td>Normal</td>\n",
       "      <td>Weak</td>\n",
       "      <td>Yes</td>\n",
       "    </tr>\n",
       "    <tr>\n",
       "      <th>10</th>\n",
       "      <td>D11</td>\n",
       "      <td>Sunny</td>\n",
       "      <td>Mild</td>\n",
       "      <td>Normal</td>\n",
       "      <td>Strong</td>\n",
       "      <td>Yes</td>\n",
       "    </tr>\n",
       "    <tr>\n",
       "      <th>11</th>\n",
       "      <td>D12</td>\n",
       "      <td>Overcast</td>\n",
       "      <td>Mild</td>\n",
       "      <td>High</td>\n",
       "      <td>Strong</td>\n",
       "      <td>Yes</td>\n",
       "    </tr>\n",
       "    <tr>\n",
       "      <th>12</th>\n",
       "      <td>D13</td>\n",
       "      <td>Overcast</td>\n",
       "      <td>Hot</td>\n",
       "      <td>Normal</td>\n",
       "      <td>Weak</td>\n",
       "      <td>Yes</td>\n",
       "    </tr>\n",
       "    <tr>\n",
       "      <th>13</th>\n",
       "      <td>D14</td>\n",
       "      <td>Rain</td>\n",
       "      <td>Mild</td>\n",
       "      <td>High</td>\n",
       "      <td>Strong</td>\n",
       "      <td>No</td>\n",
       "    </tr>\n",
       "  </tbody>\n",
       "</table>\n",
       "</div>"
      ],
      "text/plain": [
       "    day   outlook  temp humidity    wind play\n",
       "0    D1     Sunny   Hot     High    Weak   No\n",
       "1    D2     Sunny   Hot     High  Strong   No\n",
       "2    D3  Overcast   Hot     High    Weak  Yes\n",
       "3    D4      Rain  Mild     High    Weak  Yes\n",
       "4    D5      Rain  Cool   Normal    Weak  Yes\n",
       "5    D6      Rain  Cool   Normal  Strong   No\n",
       "6    D7  Overcast  Cool   Normal  Strong  Yes\n",
       "7    D8     Sunny  Mild     High    Weak   No\n",
       "8    D9     Sunny  Cool   Normal    Weak  Yes\n",
       "9   D10      Rain  Mild   Normal    Weak  Yes\n",
       "10  D11     Sunny  Mild   Normal  Strong  Yes\n",
       "11  D12  Overcast  Mild     High  Strong  Yes\n",
       "12  D13  Overcast   Hot   Normal    Weak  Yes\n",
       "13  D14      Rain  Mild     High  Strong   No"
      ]
     },
     "execution_count": 6,
     "metadata": {},
     "output_type": "execute_result"
    }
   ],
   "source": [
    "data"
   ]
  },
  {
   "cell_type": "code",
   "execution_count": 8,
   "id": "e8070bac",
   "metadata": {},
   "outputs": [],
   "source": [
    "data.drop(columns=[\"day\"],inplace=True)"
   ]
  },
  {
   "cell_type": "code",
   "execution_count": 9,
   "id": "fc11c50c",
   "metadata": {
    "execution": {
     "iopub.execute_input": "2021-12-11T14:59:20.341867Z",
     "iopub.status.busy": "2021-12-11T14:59:20.341024Z",
     "iopub.status.idle": "2021-12-11T14:59:20.482203Z",
     "shell.execute_reply": "2021-12-11T14:59:20.481621Z",
     "shell.execute_reply.started": "2021-12-11T14:58:51.237760Z"
    },
    "papermill": {
     "duration": 0.163178,
     "end_time": "2021-12-11T14:59:20.482352",
     "exception": false,
     "start_time": "2021-12-11T14:59:20.319174",
     "status": "completed"
    },
    "tags": []
   },
   "outputs": [],
   "source": [
    "#convert string to 0,1,2.... numric values\n",
    "from sklearn import preprocessing\n",
    "\n",
    "encoder = preprocessing.LabelEncoder()\n",
    "\n",
    "for i in data.columns:\n",
    "    if isinstance(data[i][0], str):\n",
    "            data[i] = encoder.fit_transform(data[i])"
   ]
  },
  {
   "cell_type": "code",
   "execution_count": 10,
   "id": "3f63eef2",
   "metadata": {
    "execution": {
     "iopub.execute_input": "2021-12-11T14:59:20.524060Z",
     "iopub.status.busy": "2021-12-11T14:59:20.523428Z",
     "iopub.status.idle": "2021-12-11T14:59:20.525242Z",
     "shell.execute_reply": "2021-12-11T14:59:20.525686Z",
     "shell.execute_reply.started": "2021-12-11T14:58:51.254163Z"
    },
    "papermill": {
     "duration": 0.0262,
     "end_time": "2021-12-11T14:59:20.525846",
     "exception": false,
     "start_time": "2021-12-11T14:59:20.499646",
     "status": "completed"
    },
    "tags": []
   },
   "outputs": [],
   "source": [
    "y = data.iloc[:,[-1]]\n",
    "x = data.iloc[:,:-1]"
   ]
  },
  {
   "cell_type": "code",
   "execution_count": 11,
   "id": "8ce18bfe",
   "metadata": {
    "execution": {
     "iopub.execute_input": "2021-12-11T14:59:20.570958Z",
     "iopub.status.busy": "2021-12-11T14:59:20.570135Z",
     "iopub.status.idle": "2021-12-11T14:59:20.573960Z",
     "shell.execute_reply": "2021-12-11T14:59:20.573494Z",
     "shell.execute_reply.started": "2021-12-11T14:58:51.266028Z"
    },
    "papermill": {
     "duration": 0.030684,
     "end_time": "2021-12-11T14:59:20.574115",
     "exception": false,
     "start_time": "2021-12-11T14:59:20.543431",
     "status": "completed"
    },
    "tags": []
   },
   "outputs": [
    {
     "data": {
      "text/html": [
       "<div>\n",
       "<style scoped>\n",
       "    .dataframe tbody tr th:only-of-type {\n",
       "        vertical-align: middle;\n",
       "    }\n",
       "\n",
       "    .dataframe tbody tr th {\n",
       "        vertical-align: top;\n",
       "    }\n",
       "\n",
       "    .dataframe thead th {\n",
       "        text-align: right;\n",
       "    }\n",
       "</style>\n",
       "<table border=\"1\" class=\"dataframe\">\n",
       "  <thead>\n",
       "    <tr style=\"text-align: right;\">\n",
       "      <th></th>\n",
       "      <th>outlook</th>\n",
       "      <th>temp</th>\n",
       "      <th>humidity</th>\n",
       "      <th>wind</th>\n",
       "      <th>play</th>\n",
       "    </tr>\n",
       "  </thead>\n",
       "  <tbody>\n",
       "    <tr>\n",
       "      <th>0</th>\n",
       "      <td>2</td>\n",
       "      <td>1</td>\n",
       "      <td>0</td>\n",
       "      <td>1</td>\n",
       "      <td>0</td>\n",
       "    </tr>\n",
       "    <tr>\n",
       "      <th>1</th>\n",
       "      <td>2</td>\n",
       "      <td>1</td>\n",
       "      <td>0</td>\n",
       "      <td>0</td>\n",
       "      <td>0</td>\n",
       "    </tr>\n",
       "    <tr>\n",
       "      <th>2</th>\n",
       "      <td>0</td>\n",
       "      <td>1</td>\n",
       "      <td>0</td>\n",
       "      <td>1</td>\n",
       "      <td>1</td>\n",
       "    </tr>\n",
       "    <tr>\n",
       "      <th>3</th>\n",
       "      <td>1</td>\n",
       "      <td>2</td>\n",
       "      <td>0</td>\n",
       "      <td>1</td>\n",
       "      <td>1</td>\n",
       "    </tr>\n",
       "    <tr>\n",
       "      <th>4</th>\n",
       "      <td>1</td>\n",
       "      <td>0</td>\n",
       "      <td>1</td>\n",
       "      <td>1</td>\n",
       "      <td>1</td>\n",
       "    </tr>\n",
       "    <tr>\n",
       "      <th>5</th>\n",
       "      <td>1</td>\n",
       "      <td>0</td>\n",
       "      <td>1</td>\n",
       "      <td>0</td>\n",
       "      <td>0</td>\n",
       "    </tr>\n",
       "    <tr>\n",
       "      <th>6</th>\n",
       "      <td>0</td>\n",
       "      <td>0</td>\n",
       "      <td>1</td>\n",
       "      <td>0</td>\n",
       "      <td>1</td>\n",
       "    </tr>\n",
       "    <tr>\n",
       "      <th>7</th>\n",
       "      <td>2</td>\n",
       "      <td>2</td>\n",
       "      <td>0</td>\n",
       "      <td>1</td>\n",
       "      <td>0</td>\n",
       "    </tr>\n",
       "    <tr>\n",
       "      <th>8</th>\n",
       "      <td>2</td>\n",
       "      <td>0</td>\n",
       "      <td>1</td>\n",
       "      <td>1</td>\n",
       "      <td>1</td>\n",
       "    </tr>\n",
       "    <tr>\n",
       "      <th>9</th>\n",
       "      <td>1</td>\n",
       "      <td>2</td>\n",
       "      <td>1</td>\n",
       "      <td>1</td>\n",
       "      <td>1</td>\n",
       "    </tr>\n",
       "    <tr>\n",
       "      <th>10</th>\n",
       "      <td>2</td>\n",
       "      <td>2</td>\n",
       "      <td>1</td>\n",
       "      <td>0</td>\n",
       "      <td>1</td>\n",
       "    </tr>\n",
       "    <tr>\n",
       "      <th>11</th>\n",
       "      <td>0</td>\n",
       "      <td>2</td>\n",
       "      <td>0</td>\n",
       "      <td>0</td>\n",
       "      <td>1</td>\n",
       "    </tr>\n",
       "    <tr>\n",
       "      <th>12</th>\n",
       "      <td>0</td>\n",
       "      <td>1</td>\n",
       "      <td>1</td>\n",
       "      <td>1</td>\n",
       "      <td>1</td>\n",
       "    </tr>\n",
       "    <tr>\n",
       "      <th>13</th>\n",
       "      <td>1</td>\n",
       "      <td>2</td>\n",
       "      <td>0</td>\n",
       "      <td>0</td>\n",
       "      <td>0</td>\n",
       "    </tr>\n",
       "  </tbody>\n",
       "</table>\n",
       "</div>"
      ],
      "text/plain": [
       "    outlook  temp  humidity  wind  play\n",
       "0         2     1         0     1     0\n",
       "1         2     1         0     0     0\n",
       "2         0     1         0     1     1\n",
       "3         1     2         0     1     1\n",
       "4         1     0         1     1     1\n",
       "5         1     0         1     0     0\n",
       "6         0     0         1     0     1\n",
       "7         2     2         0     1     0\n",
       "8         2     0         1     1     1\n",
       "9         1     2         1     1     1\n",
       "10        2     2         1     0     1\n",
       "11        0     2         0     0     1\n",
       "12        0     1         1     1     1\n",
       "13        1     2         0     0     0"
      ]
     },
     "execution_count": 11,
     "metadata": {},
     "output_type": "execute_result"
    }
   ],
   "source": [
    "data"
   ]
  },
  {
   "cell_type": "code",
   "execution_count": 12,
   "id": "854d653b",
   "metadata": {
    "execution": {
     "iopub.execute_input": "2021-12-11T14:59:20.614724Z",
     "iopub.status.busy": "2021-12-11T14:59:20.613960Z",
     "iopub.status.idle": "2021-12-11T14:59:20.678324Z",
     "shell.execute_reply": "2021-12-11T14:59:20.677764Z",
     "shell.execute_reply.started": "2021-12-11T14:58:51.284080Z"
    },
    "papermill": {
     "duration": 0.086235,
     "end_time": "2021-12-11T14:59:20.678480",
     "exception": false,
     "start_time": "2021-12-11T14:59:20.592245",
     "status": "completed"
    },
    "tags": []
   },
   "outputs": [],
   "source": [
    "from sklearn.model_selection import train_test_split\n",
    "x_train, x_test, y_train, y_test = train_test_split(x,y,random_state=3,test_size=0.3)"
   ]
  },
  {
   "cell_type": "code",
   "execution_count": 13,
   "id": "17a40ba0",
   "metadata": {
    "execution": {
     "iopub.execute_input": "2021-12-11T14:59:20.721747Z",
     "iopub.status.busy": "2021-12-11T14:59:20.720922Z",
     "iopub.status.idle": "2021-12-11T14:59:20.724698Z",
     "shell.execute_reply": "2021-12-11T14:59:20.724226Z",
     "shell.execute_reply.started": "2021-12-11T14:58:51.297280Z"
    },
    "papermill": {
     "duration": 0.027921,
     "end_time": "2021-12-11T14:59:20.724832",
     "exception": false,
     "start_time": "2021-12-11T14:59:20.696911",
     "status": "completed"
    },
    "tags": []
   },
   "outputs": [
    {
     "data": {
      "text/plain": [
       "((9, 4), (9, 1), (5, 4), (5, 1))"
      ]
     },
     "execution_count": 13,
     "metadata": {},
     "output_type": "execute_result"
    }
   ],
   "source": [
    "x_train.shape, y_train.shape, x_test.shape, y_test.shape"
   ]
  },
  {
   "cell_type": "code",
   "execution_count": 14,
   "id": "2dc5ca2c",
   "metadata": {
    "execution": {
     "iopub.execute_input": "2021-12-11T14:59:20.768319Z",
     "iopub.status.busy": "2021-12-11T14:59:20.767546Z",
     "iopub.status.idle": "2021-12-11T14:59:20.770962Z",
     "shell.execute_reply": "2021-12-11T14:59:20.770484Z",
     "shell.execute_reply.started": "2021-12-11T14:58:51.458629Z"
    },
    "papermill": {
     "duration": 0.028402,
     "end_time": "2021-12-11T14:59:20.771108",
     "exception": false,
     "start_time": "2021-12-11T14:59:20.742706",
     "status": "completed"
    },
    "tags": []
   },
   "outputs": [
    {
     "data": {
      "text/plain": [
       "outlook     3\n",
       "temp        3\n",
       "humidity    2\n",
       "wind        2\n",
       "dtype: int64"
      ]
     },
     "execution_count": 14,
     "metadata": {},
     "output_type": "execute_result"
    }
   ],
   "source": [
    "x.nunique()"
   ]
  },
  {
   "cell_type": "markdown",
   "id": "09b649ea",
   "metadata": {
    "papermill": {
     "duration": 0.018479,
     "end_time": "2021-12-11T14:59:20.808186",
     "exception": false,
     "start_time": "2021-12-11T14:59:20.789707",
     "status": "completed"
    },
    "tags": []
   },
   "source": [
    "# Train Naive Bayes Algorithm"
   ]
  },
  {
   "cell_type": "code",
   "execution_count": 15,
   "id": "ebfdc633",
   "metadata": {
    "execution": {
     "iopub.execute_input": "2021-12-11T14:59:20.849152Z",
     "iopub.status.busy": "2021-12-11T14:59:20.848171Z",
     "iopub.status.idle": "2021-12-11T14:59:20.852383Z",
     "shell.execute_reply": "2021-12-11T14:59:20.852777Z",
     "shell.execute_reply.started": "2021-12-11T14:58:51.472858Z"
    },
    "papermill": {
     "duration": 0.026489,
     "end_time": "2021-12-11T14:59:20.852942",
     "exception": false,
     "start_time": "2021-12-11T14:59:20.826453",
     "status": "completed"
    },
    "tags": []
   },
   "outputs": [],
   "source": [
    "from sklearn.naive_bayes import GaussianNB"
   ]
  },
  {
   "cell_type": "code",
   "execution_count": 16,
   "id": "43c3aa73",
   "metadata": {
    "execution": {
     "iopub.execute_input": "2021-12-11T14:59:20.892682Z",
     "iopub.status.busy": "2021-12-11T14:59:20.891747Z",
     "iopub.status.idle": "2021-12-11T14:59:20.901331Z",
     "shell.execute_reply": "2021-12-11T14:59:20.901771Z",
     "shell.execute_reply.started": "2021-12-11T14:58:51.482300Z"
    },
    "papermill": {
     "duration": 0.0311,
     "end_time": "2021-12-11T14:59:20.901940",
     "exception": false,
     "start_time": "2021-12-11T14:59:20.870840",
     "status": "completed"
    },
    "tags": []
   },
   "outputs": [
    {
     "data": {
      "text/plain": [
       "GaussianNB()"
      ]
     },
     "execution_count": 16,
     "metadata": {},
     "output_type": "execute_result"
    }
   ],
   "source": [
    "# train classifer\n",
    "classifier = GaussianNB()\n",
    "classifier.fit(x_train,y_train)"
   ]
  },
  {
   "cell_type": "code",
   "execution_count": 17,
   "id": "7b1eeca6",
   "metadata": {
    "execution": {
     "iopub.execute_input": "2021-12-11T14:59:20.943485Z",
     "iopub.status.busy": "2021-12-11T14:59:20.942588Z",
     "iopub.status.idle": "2021-12-11T14:59:20.950111Z",
     "shell.execute_reply": "2021-12-11T14:59:20.950566Z",
     "shell.execute_reply.started": "2021-12-11T14:58:51.499385Z"
    },
    "papermill": {
     "duration": 0.030031,
     "end_time": "2021-12-11T14:59:20.950730",
     "exception": false,
     "start_time": "2021-12-11T14:59:20.920699",
     "status": "completed"
    },
    "tags": []
   },
   "outputs": [
    {
     "data": {
      "text/html": [
       "Model Accuracy : <b>60.0%</b>"
      ],
      "text/plain": [
       "<IPython.core.display.HTML object>"
      ]
     },
     "execution_count": 17,
     "metadata": {},
     "output_type": "execute_result"
    }
   ],
   "source": [
    "model_accuracy=round((classifier.score(x_test,y_test)*100),2)\n",
    "HTML(f'Model Accuracy : <b>{ model_accuracy }%</b>')"
   ]
  },
  {
   "cell_type": "code",
   "execution_count": 18,
   "id": "b6e22540",
   "metadata": {
    "execution": {
     "iopub.execute_input": "2021-12-11T14:59:20.992965Z",
     "iopub.status.busy": "2021-12-11T14:59:20.991939Z",
     "iopub.status.idle": "2021-12-11T14:59:21.004136Z",
     "shell.execute_reply": "2021-12-11T14:59:21.004574Z",
     "shell.execute_reply.started": "2021-12-11T14:58:51.516336Z"
    },
    "papermill": {
     "duration": 0.035559,
     "end_time": "2021-12-11T14:59:21.004743",
     "exception": false,
     "start_time": "2021-12-11T14:59:20.969184",
     "status": "completed"
    },
    "tags": []
   },
   "outputs": [
    {
     "data": {
      "text/html": [
       "Predicted score : <b>60.0%</b>"
      ],
      "text/plain": [
       "<IPython.core.display.HTML object>"
      ]
     },
     "metadata": {},
     "output_type": "display_data"
    },
    {
     "name": "stdout",
     "output_type": "stream",
     "text": [
      "              precision    recall  f1-score   support\n",
      "\n",
      "           0       1.00      0.33      0.50         3\n",
      "           1       0.50      1.00      0.67         2\n",
      "\n",
      "    accuracy                           0.60         5\n",
      "   macro avg       0.75      0.67      0.58         5\n",
      "weighted avg       0.80      0.60      0.57         5\n",
      "\n"
     ]
    }
   ],
   "source": [
    "#predict model for our test data\n",
    "from sklearn import metrics \n",
    "\n",
    "y_predict=classifier.predict(x_test)\n",
    "display(HTML(f'Predicted score : <b>{model_accuracy}%</b>'))\n",
    "\n",
    "from sklearn.metrics import classification_report\n",
    "print(classification_report(y_test, y_predict))"
   ]
  },
  {
   "cell_type": "markdown",
   "id": "11a352a4",
   "metadata": {
    "papermill": {
     "duration": 0.019636,
     "end_time": "2021-12-11T14:59:21.044424",
     "exception": false,
     "start_time": "2021-12-11T14:59:21.024788",
     "status": "completed"
    },
    "tags": []
   },
   "source": [
    "# Check manual data"
   ]
  },
  {
   "cell_type": "code",
   "execution_count": 19,
   "id": "c5a46fe0",
   "metadata": {
    "execution": {
     "iopub.execute_input": "2021-12-11T14:59:21.086810Z",
     "iopub.status.busy": "2021-12-11T14:59:21.085861Z",
     "iopub.status.idle": "2021-12-11T14:59:21.095813Z",
     "shell.execute_reply": "2021-12-11T14:59:21.095240Z",
     "shell.execute_reply.started": "2021-12-11T14:58:51.535628Z"
    },
    "papermill": {
     "duration": 0.031857,
     "end_time": "2021-12-11T14:59:21.095945",
     "exception": false,
     "start_time": "2021-12-11T14:59:21.064088",
     "status": "completed"
    },
    "tags": []
   },
   "outputs": [
    {
     "data": {
      "text/html": [
       "I am <b>60.0%</b> Sure, that match will be <b>Playing</b> "
      ],
      "text/plain": [
       "<IPython.core.display.HTML object>"
      ]
     },
     "metadata": {},
     "output_type": "display_data"
    }
   ],
   "source": [
    "x_checkdata=np.array([data.iloc[11,0:-1].values]) # take a data in array from for all indepent variable or x\n",
    "y_checkdata=np.array([data.iloc[11,[-1]].values]) # take a data ina array from for depenet variable or y \n",
    "\n",
    "# data.iloc[4,0:-1].values ------ it means all row 4th all data expect last one  \n",
    "\n",
    "y_predict_checkdata=classifier.predict(x_checkdata)\n",
    "\n",
    "if y_predict_checkdata == 0:\n",
    "    display(HTML(f'I am <b>{model_accuracy}%</b> Sure, that match will be <b>Cancel</b>'))\n",
    "else:\n",
    "    display(HTML(f'I am <b>{model_accuracy}%</b> Sure, that match will be <b>Playing</b> '))\n",
    "    "
   ]
  },
  {
   "cell_type": "markdown",
   "id": "e1acfd58",
   "metadata": {
    "papermill": {
     "duration": 0.019898,
     "end_time": "2021-12-11T14:59:21.135656",
     "exception": false,
     "start_time": "2021-12-11T14:59:21.115758",
     "status": "completed"
    },
    "tags": []
   },
   "source": [
    "# Cross verification our manual data is correct or not ?"
   ]
  },
  {
   "cell_type": "code",
   "execution_count": 26,
   "id": "f10f7ccc",
   "metadata": {
    "execution": {
     "iopub.execute_input": "2021-12-11T14:59:21.178585Z",
     "iopub.status.busy": "2021-12-11T14:59:21.178002Z",
     "iopub.status.idle": "2021-12-11T14:59:21.183480Z",
     "shell.execute_reply": "2021-12-11T14:59:21.182891Z",
     "shell.execute_reply.started": "2021-12-11T14:58:51.547987Z"
    },
    "papermill": {
     "duration": 0.0284,
     "end_time": "2021-12-11T14:59:21.183613",
     "exception": false,
     "start_time": "2021-12-11T14:59:21.155213",
     "status": "completed"
    },
    "tags": []
   },
   "outputs": [
    {
     "data": {
      "text/html": [
       "Our Above Prediction is <b>Correct</b>"
      ],
      "text/plain": [
       "<IPython.core.display.HTML object>"
      ]
     },
     "metadata": {},
     "output_type": "display_data"
    }
   ],
   "source": [
    "# display(HTML(f'Our Above Prediction is <b>{round(metrics.accuracy_score(y_checkdata,y_predict),4)*100}%</b> Correct'))\n",
    "if y_checkdata == y_predict_checkdata:\n",
    "    display(HTML(f'Our Above Prediction is <b>Correct</b>'))\n",
    "else:\n",
    "    display(HTML(f'Our Above Prediction is <b>Wrong</b> coz, data is small'))"
   ]
  },
  {
   "cell_type": "code",
   "execution_count": 20,
   "id": "e0952e98",
   "metadata": {
    "execution": {
     "iopub.execute_input": "2021-12-11T14:59:21.231558Z",
     "iopub.status.busy": "2021-12-11T14:59:21.230882Z",
     "iopub.status.idle": "2021-12-11T14:59:21.234085Z",
     "shell.execute_reply": "2021-12-11T14:59:21.233530Z",
     "shell.execute_reply.started": "2021-12-11T14:58:51.558535Z"
    },
    "papermill": {
     "duration": 0.030506,
     "end_time": "2021-12-11T14:59:21.234218",
     "exception": false,
     "start_time": "2021-12-11T14:59:21.203712",
     "status": "completed"
    },
    "tags": []
   },
   "outputs": [
    {
     "data": {
      "text/plain": [
       "array([[1, 2],\n",
       "       [0, 2]], dtype=int64)"
      ]
     },
     "execution_count": 20,
     "metadata": {},
     "output_type": "execute_result"
    }
   ],
   "source": [
    "from sklearn.metrics import confusion_matrix \n",
    "cm=confusion_matrix(y_test,y_predict)\n",
    "cm"
   ]
  },
  {
   "cell_type": "code",
   "execution_count": 21,
   "id": "fa34a6b6",
   "metadata": {
    "execution": {
     "iopub.execute_input": "2021-12-11T14:59:21.279258Z",
     "iopub.status.busy": "2021-12-11T14:59:21.278663Z",
     "iopub.status.idle": "2021-12-11T14:59:21.565260Z",
     "shell.execute_reply": "2021-12-11T14:59:21.565711Z",
     "shell.execute_reply.started": "2021-12-11T14:58:51.573197Z"
    },
    "papermill": {
     "duration": 0.310833,
     "end_time": "2021-12-11T14:59:21.565873",
     "exception": false,
     "start_time": "2021-12-11T14:59:21.255040",
     "status": "completed"
    },
    "tags": []
   },
   "outputs": [
    {
     "data": {
      "image/png": "[encoded data removed]",
      "text/plain": [
       "<Figure size 900x700 with 2 Axes>"
      ]
     },
     "metadata": {},
     "output_type": "display_data"
    }
   ],
   "source": [
    "conf_matrix=pd.DataFrame(data=cm,columns=['Playing','No_Playing'],index=['Playing','No_Playing'])\n",
    "# conf_matrix=pd.DataFrame(data=cm,columns=['Predicted: Playing','Predicted: No_Playing'],index=['Actual: Playing','Actual: No_Playing'])\n",
    "plt.figure(figsize = (9,7))\n",
    "sns.heatmap(conf_matrix, annot=True,fmt='d',cmap=\"YlGnBu\");\n",
    "plt.xlabel('------------------------ Predicted values ------------------------')\n",
    "plt.ylabel('------------------------ Actual values ---------------------------')\n",
    "plt.rcParams.update({'font.size': 18})"
   ]
  },
  {
   "cell_type": "markdown",
   "id": "e8c38be6",
   "metadata": {
    "papermill": {
     "duration": 0.020793,
     "end_time": "2021-12-11T14:59:21.607596",
     "exception": false,
     "start_time": "2021-12-11T14:59:21.586803",
     "status": "completed"
    },
    "tags": []
   },
   "source": [
    "## <font color='red'>why we should take gaussianNB not multinomialNB and BernouliNB ?"
   ]
  },
  {
   "cell_type": "code",
   "execution_count": 22,
   "id": "a71a6e2e",
   "metadata": {
    "execution": {
     "iopub.execute_input": "2021-12-11T14:59:21.653800Z",
     "iopub.status.busy": "2021-12-11T14:59:21.653001Z",
     "iopub.status.idle": "2021-12-11T14:59:21.655293Z",
     "shell.execute_reply": "2021-12-11T14:59:21.654817Z",
     "shell.execute_reply.started": "2021-12-11T14:58:51.858671Z"
    },
    "papermill": {
     "duration": 0.027039,
     "end_time": "2021-12-11T14:59:21.655442",
     "exception": false,
     "start_time": "2021-12-11T14:59:21.628403",
     "status": "completed"
    },
    "tags": []
   },
   "outputs": [],
   "source": [
    "from sklearn.naive_bayes import MultinomialNB"
   ]
  },
  {
   "cell_type": "code",
   "execution_count": 23,
   "id": "dca832d5",
   "metadata": {
    "execution": {
     "iopub.execute_input": "2021-12-11T14:59:21.703517Z",
     "iopub.status.busy": "2021-12-11T14:59:21.702863Z",
     "iopub.status.idle": "2021-12-11T14:59:21.707741Z",
     "shell.execute_reply": "2021-12-11T14:59:21.708237Z",
     "shell.execute_reply.started": "2021-12-11T14:58:51.863061Z"
    },
    "papermill": {
     "duration": 0.031996,
     "end_time": "2021-12-11T14:59:21.708405",
     "exception": false,
     "start_time": "2021-12-11T14:59:21.676409",
     "status": "completed"
    },
    "tags": []
   },
   "outputs": [
    {
     "data": {
      "text/html": [
       "MultinomialNB Model accuracy is <b>40.0</b>%"
      ],
      "text/plain": [
       "<IPython.core.display.HTML object>"
      ]
     },
     "metadata": {},
     "output_type": "display_data"
    }
   ],
   "source": [
    "classifier_Multi = MultinomialNB()\n",
    "classifier_Multi.fit(x_train,y_train)\n",
    "display(HTML(f'MultinomialNB Model accuracy is <b>{round((classifier_Multi.score(x_test,y_test))*100,2)}</b>%'))"
   ]
  },
  {
   "cell_type": "code",
   "execution_count": 24,
   "id": "7157e278",
   "metadata": {
    "execution": {
     "iopub.execute_input": "2021-12-11T14:59:21.755938Z",
     "iopub.status.busy": "2021-12-11T14:59:21.755048Z",
     "iopub.status.idle": "2021-12-11T14:59:21.757264Z",
     "shell.execute_reply": "2021-12-11T14:59:21.757657Z",
     "shell.execute_reply.started": "2021-12-11T14:58:51.882564Z"
    },
    "papermill": {
     "duration": 0.028116,
     "end_time": "2021-12-11T14:59:21.757817",
     "exception": false,
     "start_time": "2021-12-11T14:59:21.729701",
     "status": "completed"
    },
    "tags": []
   },
   "outputs": [],
   "source": [
    "from sklearn.naive_bayes import BernoulliNB"
   ]
  },
  {
   "cell_type": "code",
   "execution_count": 25,
   "id": "b232a56d",
   "metadata": {
    "execution": {
     "iopub.execute_input": "2021-12-11T14:59:21.804997Z",
     "iopub.status.busy": "2021-12-11T14:59:21.804381Z",
     "iopub.status.idle": "2021-12-11T14:59:21.813437Z",
     "shell.execute_reply": "2021-12-11T14:59:21.812850Z",
     "shell.execute_reply.started": "2021-12-11T14:58:51.890039Z"
    },
    "papermill": {
     "duration": 0.03337,
     "end_time": "2021-12-11T14:59:21.813568",
     "exception": false,
     "start_time": "2021-12-11T14:59:21.780198",
     "status": "completed"
    },
    "tags": []
   },
   "outputs": [
    {
     "data": {
      "text/html": [
       "BernoulliNB Model accuracy is <b>40.0</b>%"
      ],
      "text/plain": [
       "<IPython.core.display.HTML object>"
      ]
     },
     "metadata": {},
     "output_type": "display_data"
    }
   ],
   "source": [
    "classifier_Bernaouli = BernoulliNB()\n",
    "classifier_Bernaouli.fit(x_train,y_train)\n",
    "display(HTML(f'BernoulliNB Model accuracy is <b>{round((classifier_Bernaouli.score(x_test,y_test))*100,2)}</b>%')) "
   ]
  },
  {
   "cell_type": "markdown",
   "id": "db73064c",
   "metadata": {
    "papermill": {
     "duration": 0.022078,
     "end_time": "2021-12-11T14:59:21.857388",
     "exception": false,
     "start_time": "2021-12-11T14:59:21.835310",
     "status": "completed"
    },
    "tags": []
   },
   "source": [
    "# GaussinaNb have more accurate then multinomial and bernoauli "
   ]
  },
  {
   "cell_type": "code",
   "execution_count": null,
   "id": "cd4d5c45",
   "metadata": {
    "papermill": {
     "duration": 0.021385,
     "end_time": "2021-12-11T14:59:21.900746",
     "exception": false,
     "start_time": "2021-12-11T14:59:21.879361",
     "status": "completed"
    },
    "tags": []
   },
   "outputs": [],
   "source": []
  }
 ],
 "metadata": {
  "kernelspec": {
   "display_name": "Python 3 (ipykernel)",
   "language": "python",
   "name": "python3"
  },
  "language_info": {
   "codemirror_mode": {
    "name": "ipython",
    "version": 3
   },
   "file_extension": ".py",
   "mimetype": "text/x-python",
   "name": "python",
   "nbconvert_exporter": "python",
   "pygments_lexer": "ipython3",
   "version": "3.9.13"
  },
  "papermill": {
   "default_parameters": {},
   "duration": 12.482645,
   "end_time": "2021-12-11T14:59:22.634896",
   "environment_variables": {},
   "exception": null,
   "input_path": "__notebook__.ipynb",
   "output_path": "__notebook__.ipynb",
   "parameters": {},
   "start_time": "2021-12-11T14:59:10.152251",
   "version": "2.3.3"
  }
 },
 "nbformat": 4,
 "nbformat_minor": 5
}
