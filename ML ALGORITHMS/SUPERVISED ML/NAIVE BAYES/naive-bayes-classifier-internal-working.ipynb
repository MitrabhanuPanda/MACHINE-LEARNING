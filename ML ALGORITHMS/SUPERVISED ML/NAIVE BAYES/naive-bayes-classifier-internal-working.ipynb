{
 "cells": [
  {
   "cell_type": "code",
   "execution_count": 2,
   "id": "4806b420",
   "metadata": {
    "execution": {
     "iopub.execute_input": "2022-08-05T20:40:12.646973Z",
     "iopub.status.busy": "2022-08-05T20:40:12.645920Z",
     "iopub.status.idle": "2022-08-05T20:40:12.660352Z",
     "shell.execute_reply": "2022-08-05T20:40:12.659006Z"
    },
    "papermill": {
     "duration": 0.024387,
     "end_time": "2022-08-05T20:40:12.663091",
     "exception": false,
     "start_time": "2022-08-05T20:40:12.638704",
     "status": "completed"
    },
    "tags": []
   },
   "outputs": [],
   "source": [
    "df = pd.read_csv(\"play_tennis.csv\")"
   ]
  },
  {
   "cell_type": "code",
   "execution_count": 3,
   "id": "42b66eff",
   "metadata": {
    "execution": {
     "iopub.execute_input": "2022-08-05T20:40:12.677126Z",
     "iopub.status.busy": "2022-08-05T20:40:12.676701Z",
     "iopub.status.idle": "2022-08-05T20:40:12.702546Z",
     "shell.execute_reply": "2022-08-05T20:40:12.701127Z"
    },
    "papermill": {
     "duration": 0.035865,
     "end_time": "2022-08-05T20:40:12.705187",
     "exception": false,
     "start_time": "2022-08-05T20:40:12.669322",
     "status": "completed"
    },
    "tags": []
   },
   "outputs": [
    {
     "data": {
      "text/html": [
       "<div>\n",
       "<style scoped>\n",
       "    .dataframe tbody tr th:only-of-type {\n",
       "        vertical-align: middle;\n",
       "    }\n",
       "\n",
       "    .dataframe tbody tr th {\n",
       "        vertical-align: top;\n",
       "    }\n",
       "\n",
       "    .dataframe thead th {\n",
       "        text-align: right;\n",
       "    }\n",
       "</style>\n",
       "<table border=\"1\" class=\"dataframe\">\n",
       "  <thead>\n",
       "    <tr style=\"text-align: right;\">\n",
       "      <th></th>\n",
       "      <th>day</th>\n",
       "      <th>outlook</th>\n",
       "      <th>temp</th>\n",
       "      <th>humidity</th>\n",
       "      <th>wind</th>\n",
       "      <th>play</th>\n",
       "    </tr>\n",
       "  </thead>\n",
       "  <tbody>\n",
       "    <tr>\n",
       "      <th>0</th>\n",
       "      <td>D1</td>\n",
       "      <td>Sunny</td>\n",
       "      <td>Hot</td>\n",
       "      <td>High</td>\n",
       "      <td>Weak</td>\n",
       "      <td>No</td>\n",
       "    </tr>\n",
       "    <tr>\n",
       "      <th>1</th>\n",
       "      <td>D2</td>\n",
       "      <td>Sunny</td>\n",
       "      <td>Hot</td>\n",
       "      <td>High</td>\n",
       "      <td>Strong</td>\n",
       "      <td>No</td>\n",
       "    </tr>\n",
       "    <tr>\n",
       "      <th>2</th>\n",
       "      <td>D3</td>\n",
       "      <td>Overcast</td>\n",
       "      <td>Hot</td>\n",
       "      <td>High</td>\n",
       "      <td>Weak</td>\n",
       "      <td>Yes</td>\n",
       "    </tr>\n",
       "    <tr>\n",
       "      <th>3</th>\n",
       "      <td>D4</td>\n",
       "      <td>Rain</td>\n",
       "      <td>Mild</td>\n",
       "      <td>High</td>\n",
       "      <td>Weak</td>\n",
       "      <td>Yes</td>\n",
       "    </tr>\n",
       "    <tr>\n",
       "      <th>4</th>\n",
       "      <td>D5</td>\n",
       "      <td>Rain</td>\n",
       "      <td>Cool</td>\n",
       "      <td>Normal</td>\n",
       "      <td>Weak</td>\n",
       "      <td>Yes</td>\n",
       "    </tr>\n",
       "    <tr>\n",
       "      <th>5</th>\n",
       "      <td>D6</td>\n",
       "      <td>Rain</td>\n",
       "      <td>Cool</td>\n",
       "      <td>Normal</td>\n",
       "      <td>Strong</td>\n",
       "      <td>No</td>\n",
       "    </tr>\n",
       "    <tr>\n",
       "      <th>6</th>\n",
       "      <td>D7</td>\n",
       "      <td>Overcast</td>\n",
       "      <td>Cool</td>\n",
       "      <td>Normal</td>\n",
       "      <td>Strong</td>\n",
       "      <td>Yes</td>\n",
       "    </tr>\n",
       "    <tr>\n",
       "      <th>7</th>\n",
       "      <td>D8</td>\n",
       "      <td>Sunny</td>\n",
       "      <td>Mild</td>\n",
       "      <td>High</td>\n",
       "      <td>Weak</td>\n",
       "      <td>No</td>\n",
       "    </tr>\n",
       "    <tr>\n",
       "      <th>8</th>\n",
       "      <td>D9</td>\n",
       "      <td>Sunny</td>\n",
       "      <td>Cool</td>\n",
       "      <td>Normal</td>\n",
       "      <td>Weak</td>\n",
       "      <td>Yes</td>\n",
       "    </tr>\n",
       "    <tr>\n",
       "      <th>9</th>\n",
       "      <td>D10</td>\n",
       "      <td>Rain</td>\n",
       "      <td>Mild</td>\n",
       "      <td>Normal</td>\n",
       "      <td>Weak</td>\n",
       "      <td>Yes</td>\n",
       "    </tr>\n",
       "    <tr>\n",
       "      <th>10</th>\n",
       "      <td>D11</td>\n",
       "      <td>Sunny</td>\n",
       "      <td>Mild</td>\n",
       "      <td>Normal</td>\n",
       "      <td>Strong</td>\n",
       "      <td>Yes</td>\n",
       "    </tr>\n",
       "    <tr>\n",
       "      <th>11</th>\n",
       "      <td>D12</td>\n",
       "      <td>Overcast</td>\n",
       "      <td>Mild</td>\n",
       "      <td>High</td>\n",
       "      <td>Strong</td>\n",
       "      <td>Yes</td>\n",
       "    </tr>\n",
       "    <tr>\n",
       "      <th>12</th>\n",
       "      <td>D13</td>\n",
       "      <td>Overcast</td>\n",
       "      <td>Hot</td>\n",
       "      <td>Normal</td>\n",
       "      <td>Weak</td>\n",
       "      <td>Yes</td>\n",
       "    </tr>\n",
       "    <tr>\n",
       "      <th>13</th>\n",
       "      <td>D14</td>\n",
       "      <td>Rain</td>\n",
       "      <td>Mild</td>\n",
       "      <td>High</td>\n",
       "      <td>Strong</td>\n",
       "      <td>No</td>\n",
       "    </tr>\n",
       "  </tbody>\n",
       "</table>\n",
       "</div>"
      ],
      "text/plain": [
       "    day   outlook  temp humidity    wind play\n",
       "0    D1     Sunny   Hot     High    Weak   No\n",
       "1    D2     Sunny   Hot     High  Strong   No\n",
       "2    D3  Overcast   Hot     High    Weak  Yes\n",
       "3    D4      Rain  Mild     High    Weak  Yes\n",
       "4    D5      Rain  Cool   Normal    Weak  Yes\n",
       "5    D6      Rain  Cool   Normal  Strong   No\n",
       "6    D7  Overcast  Cool   Normal  Strong  Yes\n",
       "7    D8     Sunny  Mild     High    Weak   No\n",
       "8    D9     Sunny  Cool   Normal    Weak  Yes\n",
       "9   D10      Rain  Mild   Normal    Weak  Yes\n",
       "10  D11     Sunny  Mild   Normal  Strong  Yes\n",
       "11  D12  Overcast  Mild     High  Strong  Yes\n",
       "12  D13  Overcast   Hot   Normal    Weak  Yes\n",
       "13  D14      Rain  Mild     High  Strong   No"
      ]
     },
     "execution_count": 3,
     "metadata": {},
     "output_type": "execute_result"
    }
   ],
   "source": [
    "df"
   ]
  },
  {
   "cell_type": "code",
   "execution_count": 4,
   "id": "8d03894c",
   "metadata": {
    "execution": {
     "iopub.execute_input": "2022-08-05T20:40:12.720007Z",
     "iopub.status.busy": "2022-08-05T20:40:12.719174Z",
     "iopub.status.idle": "2022-08-05T20:40:12.731688Z",
     "shell.execute_reply": "2022-08-05T20:40:12.730671Z"
    },
    "papermill": {
     "duration": 0.022449,
     "end_time": "2022-08-05T20:40:12.734102",
     "exception": false,
     "start_time": "2022-08-05T20:40:12.711653",
     "status": "completed"
    },
    "tags": []
   },
   "outputs": [],
   "source": [
    "df.drop(columns=[\"day\"],inplace=True)"
   ]
  },
  {
   "cell_type": "markdown",
   "id": "48b8d1ab",
   "metadata": {
    "execution": {
     "iopub.execute_input": "2022-08-05T20:40:12.749545Z",
     "iopub.status.busy": "2022-08-05T20:40:12.748909Z",
     "iopub.status.idle": "2022-08-05T20:40:12.753373Z",
     "shell.execute_reply": "2022-08-05T20:40:12.752287Z"
    },
    "papermill": {
     "duration": 0.015361,
     "end_time": "2022-08-05T20:40:12.755880",
     "exception": false,
     "start_time": "2022-08-05T20:40:12.740519",
     "status": "completed"
    },
    "tags": []
   },
   "source": [
    "## <font color='red'>PROBLEM/QUERY:\n",
    "\n",
    "### outlook=Sunny ,Temp=Hot ,Humididty=High ,Wind=Weak\n",
    "### play or not??"
   ]
  },
  {
   "cell_type": "markdown",
   "id": "37da27de",
   "metadata": {
    "execution": {
     "iopub.execute_input": "2022-08-05T20:40:12.771716Z",
     "iopub.status.busy": "2022-08-05T20:40:12.770442Z",
     "iopub.status.idle": "2022-08-05T20:40:12.775206Z",
     "shell.execute_reply": "2022-08-05T20:40:12.774355Z"
    },
    "papermill": {
     "duration": 0.014775,
     "end_time": "2022-08-05T20:40:12.777419",
     "exception": false,
     "start_time": "2022-08-05T20:40:12.762644",
     "status": "completed"
    },
    "tags": []
   },
   "source": [
    "## <font color='blue'>SOLUTION:\n",
    "\n",
    "#### p(Yes | Suuny,Hot,High, Weak) = p(Sunny|Yes) * p(Hot|Yes) * p(High|Yes) * p(Weak|Yes) * p(Yes)\n",
    "\n",
    "#### p(No | Suuny,Hot,High, Weak) = p(Sunny|No) * p(Hot|No) * p(High|No) * p(Weak|No) * p(No)\n",
    "\n",
    "#### compare and decide using the maximum a posteriori rule above "
   ]
  },
  {
   "cell_type": "markdown",
   "id": "629ef5eb",
   "metadata": {},
   "source": [
    "## "
   ]
  },
  {
   "cell_type": "markdown",
   "id": "c80873c8",
   "metadata": {
    "execution": {
     "iopub.execute_input": "2022-08-05T20:40:12.792699Z",
     "iopub.status.busy": "2022-08-05T20:40:12.791723Z",
     "iopub.status.idle": "2022-08-05T20:40:12.797046Z",
     "shell.execute_reply": "2022-08-05T20:40:12.796000Z"
    },
    "papermill": {
     "duration": 0.015335,
     "end_time": "2022-08-05T20:40:12.799325",
     "exception": false,
     "start_time": "2022-08-05T20:40:12.783990",
     "status": "completed"
    },
    "tags": []
   },
   "source": [
    "### <font color='brown'>MANUAL PROCEDURE:\n",
    "### Training\n",
    "\n",
    "### lookup table to store all required probabilities.\n",
    "\n",
    "### Testing"
   ]
  },
  {
   "cell_type": "code",
   "execution_count": 8,
   "id": "ebecc9e6",
   "metadata": {
    "execution": {
     "iopub.execute_input": "2022-08-05T20:40:12.814817Z",
     "iopub.status.busy": "2022-08-05T20:40:12.813513Z",
     "iopub.status.idle": "2022-08-05T20:40:12.826498Z",
     "shell.execute_reply": "2022-08-05T20:40:12.825574Z"
    },
    "papermill": {
     "duration": 0.0233,
     "end_time": "2022-08-05T20:40:12.829059",
     "exception": false,
     "start_time": "2022-08-05T20:40:12.805759",
     "status": "completed"
    },
    "tags": []
   },
   "outputs": [
    {
     "data": {
      "text/plain": [
       "Yes    9\n",
       "No     5\n",
       "Name: play, dtype: int64"
      ]
     },
     "execution_count": 8,
     "metadata": {},
     "output_type": "execute_result"
    }
   ],
   "source": [
    "# P(Yes)\n",
    "# p(No)\n",
    "df['play'].value_counts()"
   ]
  },
  {
   "cell_type": "code",
   "execution_count": 9,
   "id": "6d3afe0c",
   "metadata": {
    "execution": {
     "iopub.execute_input": "2022-08-05T20:40:12.845461Z",
     "iopub.status.busy": "2022-08-05T20:40:12.845051Z",
     "iopub.status.idle": "2022-08-05T20:40:12.851053Z",
     "shell.execute_reply": "2022-08-05T20:40:12.849849Z"
    },
    "papermill": {
     "duration": 0.016842,
     "end_time": "2022-08-05T20:40:12.853553",
     "exception": false,
     "start_time": "2022-08-05T20:40:12.836711",
     "status": "completed"
    },
    "tags": []
   },
   "outputs": [
    {
     "name": "stdout",
     "output_type": "stream",
     "text": [
      "0.6428571428571429\n",
      "0.35714285714285715\n"
     ]
    }
   ],
   "source": [
    "py = 9/14\n",
    "pn = 5/14\n",
    "print(py)\n",
    "print(pn)"
   ]
  },
  {
   "cell_type": "code",
   "execution_count": 10,
   "id": "f8695d9c",
   "metadata": {
    "execution": {
     "iopub.execute_input": "2022-08-05T20:40:12.867289Z",
     "iopub.status.busy": "2022-08-05T20:40:12.866907Z",
     "iopub.status.idle": "2022-08-05T20:40:12.899032Z",
     "shell.execute_reply": "2022-08-05T20:40:12.897951Z"
    },
    "papermill": {
     "duration": 0.041986,
     "end_time": "2022-08-05T20:40:12.901524",
     "exception": false,
     "start_time": "2022-08-05T20:40:12.859538",
     "status": "completed"
    },
    "tags": []
   },
   "outputs": [
    {
     "data": {
      "text/html": [
       "<div>\n",
       "<style scoped>\n",
       "    .dataframe tbody tr th:only-of-type {\n",
       "        vertical-align: middle;\n",
       "    }\n",
       "\n",
       "    .dataframe tbody tr th {\n",
       "        vertical-align: top;\n",
       "    }\n",
       "\n",
       "    .dataframe thead th {\n",
       "        text-align: right;\n",
       "    }\n",
       "</style>\n",
       "<table border=\"1\" class=\"dataframe\">\n",
       "  <thead>\n",
       "    <tr style=\"text-align: right;\">\n",
       "      <th>play</th>\n",
       "      <th>No</th>\n",
       "      <th>Yes</th>\n",
       "    </tr>\n",
       "    <tr>\n",
       "      <th>outlook</th>\n",
       "      <th></th>\n",
       "      <th></th>\n",
       "    </tr>\n",
       "  </thead>\n",
       "  <tbody>\n",
       "    <tr>\n",
       "      <th>Overcast</th>\n",
       "      <td>0</td>\n",
       "      <td>4</td>\n",
       "    </tr>\n",
       "    <tr>\n",
       "      <th>Rain</th>\n",
       "      <td>2</td>\n",
       "      <td>3</td>\n",
       "    </tr>\n",
       "    <tr>\n",
       "      <th>Sunny</th>\n",
       "      <td>3</td>\n",
       "      <td>2</td>\n",
       "    </tr>\n",
       "  </tbody>\n",
       "</table>\n",
       "</div>"
      ],
      "text/plain": [
       "play      No  Yes\n",
       "outlook          \n",
       "Overcast   0    4\n",
       "Rain       2    3\n",
       "Sunny      3    2"
      ]
     },
     "execution_count": 10,
     "metadata": {},
     "output_type": "execute_result"
    }
   ],
   "source": [
    "# Outlook columns\n",
    "\n",
    "pd.crosstab(df['outlook'],df['play'])"
   ]
  },
  {
   "cell_type": "code",
   "execution_count": 11,
   "id": "5a7205d2",
   "metadata": {
    "execution": {
     "iopub.execute_input": "2022-08-05T20:40:12.917750Z",
     "iopub.status.busy": "2022-08-05T20:40:12.916937Z",
     "iopub.status.idle": "2022-08-05T20:40:12.923123Z",
     "shell.execute_reply": "2022-08-05T20:40:12.921828Z"
    },
    "papermill": {
     "duration": 0.016736,
     "end_time": "2022-08-05T20:40:12.925476",
     "exception": false,
     "start_time": "2022-08-05T20:40:12.908740",
     "status": "completed"
    },
    "tags": []
   },
   "outputs": [],
   "source": [
    "# No \n",
    "pon = 0\n",
    "prn = 2/5\n",
    "psn = 3/5\n",
    "\n",
    "# Yes\n",
    "poy = 4/9\n",
    "pry = 3/9\n",
    "psy= 2/9"
   ]
  },
  {
   "cell_type": "code",
   "execution_count": 12,
   "id": "39bbda6c",
   "metadata": {
    "execution": {
     "iopub.execute_input": "2022-08-05T20:40:12.940010Z",
     "iopub.status.busy": "2022-08-05T20:40:12.939352Z",
     "iopub.status.idle": "2022-08-05T20:40:12.959121Z",
     "shell.execute_reply": "2022-08-05T20:40:12.957861Z"
    },
    "papermill": {
     "duration": 0.029351,
     "end_time": "2022-08-05T20:40:12.961405",
     "exception": false,
     "start_time": "2022-08-05T20:40:12.932054",
     "status": "completed"
    },
    "tags": []
   },
   "outputs": [
    {
     "data": {
      "text/html": [
       "<div>\n",
       "<style scoped>\n",
       "    .dataframe tbody tr th:only-of-type {\n",
       "        vertical-align: middle;\n",
       "    }\n",
       "\n",
       "    .dataframe tbody tr th {\n",
       "        vertical-align: top;\n",
       "    }\n",
       "\n",
       "    .dataframe thead th {\n",
       "        text-align: right;\n",
       "    }\n",
       "</style>\n",
       "<table border=\"1\" class=\"dataframe\">\n",
       "  <thead>\n",
       "    <tr style=\"text-align: right;\">\n",
       "      <th>play</th>\n",
       "      <th>No</th>\n",
       "      <th>Yes</th>\n",
       "    </tr>\n",
       "    <tr>\n",
       "      <th>temp</th>\n",
       "      <th></th>\n",
       "      <th></th>\n",
       "    </tr>\n",
       "  </thead>\n",
       "  <tbody>\n",
       "    <tr>\n",
       "      <th>Cool</th>\n",
       "      <td>1</td>\n",
       "      <td>3</td>\n",
       "    </tr>\n",
       "    <tr>\n",
       "      <th>Hot</th>\n",
       "      <td>2</td>\n",
       "      <td>2</td>\n",
       "    </tr>\n",
       "    <tr>\n",
       "      <th>Mild</th>\n",
       "      <td>2</td>\n",
       "      <td>4</td>\n",
       "    </tr>\n",
       "  </tbody>\n",
       "</table>\n",
       "</div>"
      ],
      "text/plain": [
       "play  No  Yes\n",
       "temp         \n",
       "Cool   1    3\n",
       "Hot    2    2\n",
       "Mild   2    4"
      ]
     },
     "execution_count": 12,
     "metadata": {},
     "output_type": "execute_result"
    }
   ],
   "source": [
    "pd.crosstab(df['temp'],df['play'])"
   ]
  },
  {
   "cell_type": "code",
   "execution_count": 13,
   "id": "5e83db43",
   "metadata": {
    "execution": {
     "iopub.execute_input": "2022-08-05T20:40:12.976715Z",
     "iopub.status.busy": "2022-08-05T20:40:12.975340Z",
     "iopub.status.idle": "2022-08-05T20:40:12.981825Z",
     "shell.execute_reply": "2022-08-05T20:40:12.980862Z"
    },
    "papermill": {
     "duration": 0.016477,
     "end_time": "2022-08-05T20:40:12.984097",
     "exception": false,
     "start_time": "2022-08-05T20:40:12.967620",
     "status": "completed"
    },
    "tags": []
   },
   "outputs": [],
   "source": [
    "# No \n",
    "pcooln = 1/5\n",
    "photn = 2/5\n",
    "pmildn = 2/5\n",
    "\n",
    "# Yes\n",
    "pcooly = 3/9\n",
    "photy = 2/9\n",
    "pmildy= 4/9"
   ]
  },
  {
   "cell_type": "code",
   "execution_count": 14,
   "id": "67b53b7a",
   "metadata": {
    "execution": {
     "iopub.execute_input": "2022-08-05T20:40:12.998960Z",
     "iopub.status.busy": "2022-08-05T20:40:12.998306Z",
     "iopub.status.idle": "2022-08-05T20:40:13.017795Z",
     "shell.execute_reply": "2022-08-05T20:40:13.016334Z"
    },
    "papermill": {
     "duration": 0.029495,
     "end_time": "2022-08-05T20:40:13.020111",
     "exception": false,
     "start_time": "2022-08-05T20:40:12.990616",
     "status": "completed"
    },
    "tags": []
   },
   "outputs": [
    {
     "data": {
      "text/html": [
       "<div>\n",
       "<style scoped>\n",
       "    .dataframe tbody tr th:only-of-type {\n",
       "        vertical-align: middle;\n",
       "    }\n",
       "\n",
       "    .dataframe tbody tr th {\n",
       "        vertical-align: top;\n",
       "    }\n",
       "\n",
       "    .dataframe thead th {\n",
       "        text-align: right;\n",
       "    }\n",
       "</style>\n",
       "<table border=\"1\" class=\"dataframe\">\n",
       "  <thead>\n",
       "    <tr style=\"text-align: right;\">\n",
       "      <th>play</th>\n",
       "      <th>No</th>\n",
       "      <th>Yes</th>\n",
       "    </tr>\n",
       "    <tr>\n",
       "      <th>humidity</th>\n",
       "      <th></th>\n",
       "      <th></th>\n",
       "    </tr>\n",
       "  </thead>\n",
       "  <tbody>\n",
       "    <tr>\n",
       "      <th>High</th>\n",
       "      <td>4</td>\n",
       "      <td>3</td>\n",
       "    </tr>\n",
       "    <tr>\n",
       "      <th>Normal</th>\n",
       "      <td>1</td>\n",
       "      <td>6</td>\n",
       "    </tr>\n",
       "  </tbody>\n",
       "</table>\n",
       "</div>"
      ],
      "text/plain": [
       "play      No  Yes\n",
       "humidity         \n",
       "High       4    3\n",
       "Normal     1    6"
      ]
     },
     "execution_count": 14,
     "metadata": {},
     "output_type": "execute_result"
    }
   ],
   "source": [
    "pd.crosstab(df['humidity'],df['play'])"
   ]
  },
  {
   "cell_type": "code",
   "execution_count": 15,
   "id": "dfa22962",
   "metadata": {
    "execution": {
     "iopub.execute_input": "2022-08-05T20:40:13.037003Z",
     "iopub.status.busy": "2022-08-05T20:40:13.036120Z",
     "iopub.status.idle": "2022-08-05T20:40:13.050158Z",
     "shell.execute_reply": "2022-08-05T20:40:13.048833Z"
    },
    "papermill": {
     "duration": 0.025477,
     "end_time": "2022-08-05T20:40:13.052810",
     "exception": false,
     "start_time": "2022-08-05T20:40:13.027333",
     "status": "completed"
    },
    "tags": []
   },
   "outputs": [],
   "source": [
    "# No \n",
    "phighn = 4/5\n",
    "pnormaln = 1/5\n",
    "\n",
    "# Yes\n",
    "phighy = 3/9\n",
    "pnormaly = 6/9\n"
   ]
  },
  {
   "cell_type": "code",
   "execution_count": 16,
   "id": "60f2edf6",
   "metadata": {
    "execution": {
     "iopub.execute_input": "2022-08-05T20:40:13.069799Z",
     "iopub.status.busy": "2022-08-05T20:40:13.069071Z",
     "iopub.status.idle": "2022-08-05T20:40:13.088333Z",
     "shell.execute_reply": "2022-08-05T20:40:13.086821Z"
    },
    "papermill": {
     "duration": 0.031177,
     "end_time": "2022-08-05T20:40:13.091100",
     "exception": false,
     "start_time": "2022-08-05T20:40:13.059923",
     "status": "completed"
    },
    "tags": []
   },
   "outputs": [
    {
     "data": {
      "text/html": [
       "<div>\n",
       "<style scoped>\n",
       "    .dataframe tbody tr th:only-of-type {\n",
       "        vertical-align: middle;\n",
       "    }\n",
       "\n",
       "    .dataframe tbody tr th {\n",
       "        vertical-align: top;\n",
       "    }\n",
       "\n",
       "    .dataframe thead th {\n",
       "        text-align: right;\n",
       "    }\n",
       "</style>\n",
       "<table border=\"1\" class=\"dataframe\">\n",
       "  <thead>\n",
       "    <tr style=\"text-align: right;\">\n",
       "      <th>play</th>\n",
       "      <th>No</th>\n",
       "      <th>Yes</th>\n",
       "    </tr>\n",
       "    <tr>\n",
       "      <th>wind</th>\n",
       "      <th></th>\n",
       "      <th></th>\n",
       "    </tr>\n",
       "  </thead>\n",
       "  <tbody>\n",
       "    <tr>\n",
       "      <th>Strong</th>\n",
       "      <td>3</td>\n",
       "      <td>3</td>\n",
       "    </tr>\n",
       "    <tr>\n",
       "      <th>Weak</th>\n",
       "      <td>2</td>\n",
       "      <td>6</td>\n",
       "    </tr>\n",
       "  </tbody>\n",
       "</table>\n",
       "</div>"
      ],
      "text/plain": [
       "play    No  Yes\n",
       "wind           \n",
       "Strong   3    3\n",
       "Weak     2    6"
      ]
     },
     "execution_count": 16,
     "metadata": {},
     "output_type": "execute_result"
    }
   ],
   "source": [
    "pd.crosstab(df['wind'],df['play'])"
   ]
  },
  {
   "cell_type": "code",
   "execution_count": 17,
   "id": "943cdddb",
   "metadata": {
    "execution": {
     "iopub.execute_input": "2022-08-05T20:40:13.107889Z",
     "iopub.status.busy": "2022-08-05T20:40:13.107458Z",
     "iopub.status.idle": "2022-08-05T20:40:13.113265Z",
     "shell.execute_reply": "2022-08-05T20:40:13.111743Z"
    },
    "papermill": {
     "duration": 0.017441,
     "end_time": "2022-08-05T20:40:13.115542",
     "exception": false,
     "start_time": "2022-08-05T20:40:13.098101",
     "status": "completed"
    },
    "tags": []
   },
   "outputs": [],
   "source": [
    "# No \n",
    "pstrongn = 3/5\n",
    "pweakn = 2/5\n",
    "\n",
    "# Yes\n",
    "pstrongy = 3/9\n",
    "pweaky = 6/9\n"
   ]
  },
  {
   "attachments": {
    "f936a04ed9ff39ee17b12b68d8782b78016efe44.png": {
     "image/png": "[encoded data removed]"
    }
   },
   "cell_type": "markdown",
   "id": "804710c5",
   "metadata": {},
   "source": [
    "![f936a04ed9ff39ee17b12b68d8782b78016efe44.png](attachment:f936a04ed9ff39ee17b12b68d8782b78016efe44.png)"
   ]
  },
  {
   "cell_type": "markdown",
   "id": "b19ff040",
   "metadata": {},
   "source": [
    "#### Now find the probability of yes by the formaula from above\n",
    "### <font color='green'>outlook=Sunny ,Temp=Hot ,Humididty=High ,Wind=Weak\n"
   ]
  },
  {
   "cell_type": "code",
   "execution_count": 18,
   "id": "92362420",
   "metadata": {
    "execution": {
     "iopub.execute_input": "2022-08-05T20:40:13.132327Z",
     "iopub.status.busy": "2022-08-05T20:40:13.131553Z",
     "iopub.status.idle": "2022-08-05T20:40:13.138345Z",
     "shell.execute_reply": "2022-08-05T20:40:13.137184Z"
    },
    "papermill": {
     "duration": 0.01871,
     "end_time": "2022-08-05T20:40:13.141056",
     "exception": false,
     "start_time": "2022-08-05T20:40:13.122346",
     "status": "completed"
    },
    "tags": []
   },
   "outputs": [
    {
     "data": {
      "text/plain": [
       "0.031746031746031744"
      ]
     },
     "execution_count": 18,
     "metadata": {},
     "output_type": "execute_result"
    }
   ],
   "source": [
    "pyes = py * photy * phighy * pweaky \n",
    "pyes"
   ]
  },
  {
   "cell_type": "markdown",
   "id": "b32b2d58",
   "metadata": {},
   "source": [
    "#### Now find the probability of yes by the formaula from above\n",
    "### <font color='green'>outlook=Sunny ,Temp=Hot ,Humididty=High ,Wind=Weak"
   ]
  },
  {
   "cell_type": "code",
   "execution_count": 19,
   "id": "ef21aa10",
   "metadata": {
    "execution": {
     "iopub.execute_input": "2022-08-05T20:40:13.158861Z",
     "iopub.status.busy": "2022-08-05T20:40:13.157919Z",
     "iopub.status.idle": "2022-08-05T20:40:13.166061Z",
     "shell.execute_reply": "2022-08-05T20:40:13.165009Z"
    },
    "papermill": {
     "duration": 0.019698,
     "end_time": "2022-08-05T20:40:13.168499",
     "exception": false,
     "start_time": "2022-08-05T20:40:13.148801",
     "status": "completed"
    },
    "tags": []
   },
   "outputs": [
    {
     "data": {
      "text/plain": [
       "0.04571428571428573"
      ]
     },
     "execution_count": 19,
     "metadata": {},
     "output_type": "execute_result"
    }
   ],
   "source": [
    "# No\n",
    "pno = pn * photn * phighn * pweakn \n",
    "pno"
   ]
  },
  {
   "cell_type": "markdown",
   "id": "35f72453",
   "metadata": {
    "execution": {
     "iopub.execute_input": "2022-08-05T20:40:13.186666Z",
     "iopub.status.busy": "2022-08-05T20:40:13.185722Z",
     "iopub.status.idle": "2022-08-05T20:40:13.191246Z",
     "shell.execute_reply": "2022-08-05T20:40:13.190236Z"
    },
    "papermill": {
     "duration": 0.017507,
     "end_time": "2022-08-05T20:40:13.193888",
     "exception": false,
     "start_time": "2022-08-05T20:40:13.176381",
     "status": "completed"
    },
    "tags": []
   },
   "source": [
    "#### so we cosider the maximum probability which is no  as output.\n",
    "#### This is how internally naive bayes classifier works."
   ]
  },
  {
   "cell_type": "code",
   "execution_count": 21,
   "id": "14655aa6",
   "metadata": {
    "execution": {
     "iopub.execute_input": "2022-08-05T20:40:13.211376Z",
     "iopub.status.busy": "2022-08-05T20:40:13.210978Z",
     "iopub.status.idle": "2022-08-05T20:40:13.216298Z",
     "shell.execute_reply": "2022-08-05T20:40:13.214916Z"
    },
    "papermill": {
     "duration": 0.017673,
     "end_time": "2022-08-05T20:40:13.219165",
     "exception": false,
     "start_time": "2022-08-05T20:40:13.201492",
     "status": "completed"
    },
    "tags": []
   },
   "outputs": [],
   "source": []
  }
 ],
 "metadata": {
  "kernelspec": {
   "display_name": "Python 3 (ipykernel)",
   "language": "python",
   "name": "python3"
  },
  "language_info": {
   "codemirror_mode": {
    "name": "ipython",
    "version": 3
   },
   "file_extension": ".py",
   "mimetype": "text/x-python",
   "name": "python",
   "nbconvert_exporter": "python",
   "pygments_lexer": "ipython3",
   "version": "3.9.13"
  },
  "papermill": {
   "default_parameters": {},
   "duration": 11.789379,
   "end_time": "2022-08-05T20:40:13.948883",
   "environment_variables": {},
   "exception": null,
   "input_path": "__notebook__.ipynb",
   "output_path": "__notebook__.ipynb",
   "parameters": {},
   "start_time": "2022-08-05T20:40:02.159504",
   "version": "2.3.4"
  }
 },
 "nbformat": 4,
 "nbformat_minor": 5
}
