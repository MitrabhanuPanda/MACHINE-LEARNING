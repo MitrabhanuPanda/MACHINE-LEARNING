{
 "cells": [
  {
   "cell_type": "markdown",
   "id": "06e3052b",
   "metadata": {},
   "source": [
    "<h1 style=\"text-align : center\"> <font color=\"red\" size=8>HYPERPARAMETER TUNING </h1>"
   ]
  },
  {
   "cell_type": "markdown",
   "id": "740f3bb5",
   "metadata": {},
   "source": [
    "## <font color=\"dark blue\">WHAT IS HYPERPARAMETER?\n",
    "- Hyperparameters are configuration variables that set before the the training process of model begins.\n",
    "- They control the learning process rather than learn from data.\n",
    "- eg:\n",
    "    \n",
    "> - Imagine you are baking a cake. You have a recipe with ingredients like flour, sugar, eggs, & milk. These are like the __Parameters__ in a machine learning model, which the model learns from the data.\n",
    "    \n",
    "> - Now, you also have choices to make the oven temperature, baking time, & the type of pan. These are the __Hyperparameters__. You set these before baking, & they influence how the cake turns out.\n",
    "    \n",
    "> - Similarly, in machine learning, hyperparameters are setting that you, as the machine learning engineer, choose before training a model. They control how the model learns from the data.\n",
    "    \n",
    "> - Choosing the right hyperparameters is crucial for getting the best performance from your model. It's like finding the perfect recipe for your machine learning cake!"
   ]
  },
  {
   "cell_type": "markdown",
   "id": "f3ccb75e",
   "metadata": {},
   "source": [
    "## <font color=\"dark blue\">WHAT IS HYPERPARAMETER TUNING?\n",
    "- When you are training machine learning models, each dataset & model needs a different set of hyperparameters, which are a kind of variable. The only way to determine these through multiple experiments, where you pick a set of hyperparameters & run them through your model. This is called __Hyperparameter Tuning__.\n",
    "- eg:\n",
    "    \n",
    "> - Imagine you are baking a cake again. You have got a basic recipe, but you are not sure about the exact oven temperature or baking time.So, you try different combinations: high temperature for a short time, low temperature for a long time, and so on. You are essentially tuning the hyperparameters (over temperature and time) to find the best combination for a delicious cake.\n",
    "    \n",
    "> - In machine learning, Hyperparameter tuning is the process of adjusting these setting to get the best performance from your model. It's like experimenting with different ingredients & techniques to find the perfect recipe for your machine learning model.\n",
    "    "
   ]
  },
  {
   "cell_type": "markdown",
   "id": "fe6bfcd5",
   "metadata": {},
   "source": [
    "## <font color=\"dark blue\">WHAT ARE THE HYPERPARAMETER TUNING TECHNIQUES?\n",
    "- a. GRID SEARCH\n",
    "- b. RANDOM SEARCH"
   ]
  },
  {
   "cell_type": "markdown",
   "id": "7fa25bda",
   "metadata": {},
   "source": [
    "## <font color=\"blue\">a. GRID SEARCH:\n",
    "- With Grid Search, you specify a list of hyperparameters & a performance metrics, & the algorithm works through all possible combinations to determine the best fit.\n",
    "    \n",
    "    \n",
    "- Grid Search works well, but it's relatively tedious & computationally intensive, especially with large numbers of hyperparameters."
   ]
  },
  {
   "cell_type": "markdown",
   "id": "a15e0a3c",
   "metadata": {},
   "source": [
    "## <font color=\"olive\">WHY GRIDSEARCHCV CALLED AS GRID?\n",
    "- It systematicaly explores a grid of Hyperparameter values.\n",
    "> - Imagine a grid with each axis representing a different hyperparameter.\n",
    "> - Each point on this Grid corresponds to a specific combinantion of hyperparameter values.\n",
    "> - Grid SearchCV evaluates the model's performance at each point on this grid. Hence the name."
   ]
  },
  {
   "cell_type": "markdown",
   "id": "329e0112",
   "metadata": {},
   "source": [
    "## <font color=\"orange\">a1.CODING FOR GRID SEARCH:\n",
    "- In the coding, we have several steps:\n",
    "    > 1. Importing all the specific libraries.\n",
    "    > 2. Importing the dataset, Preprocess it, clean it, doing EDA.\n",
    "    > 3. Create variable of our Model Class.\n",
    "    > 4. Create a dictionary of Hyperparameters of our Model with different hyperparameter's values.\n",
    "    > 5. Pass the Model variable, Parameters list to the Function.\n",
    "    > 6. Train the Model.\n",
    "    > 7. See Best Hyperparameter Value with Best Score."
   ]
  },
  {
   "cell_type": "markdown",
   "id": "137bbf63",
   "metadata": {},
   "source": [
    "### <font color=\"green\">IMPORTING THE LIBRARIES"
   ]
  },
  {
   "cell_type": "code",
   "execution_count": 1,
   "id": "3d4b8282",
   "metadata": {},
   "outputs": [],
   "source": [
    "import pandas as pd\n",
    "import numpy as np\n",
    "\n",
    "from sklearn.datasets import make_classification\n",
    "\n",
    "from sklearn.linear_model import LogisticRegression\n",
    "from sklearn.model_selection import GridSearchCV"
   ]
  },
  {
   "cell_type": "markdown",
   "id": "7138f9bc",
   "metadata": {},
   "source": [
    "### <font color=\"green\"> CREATE A DATASET & SPLIT INTO X & y."
   ]
  },
  {
   "cell_type": "code",
   "execution_count": 2,
   "id": "86a6c6b0",
   "metadata": {},
   "outputs": [],
   "source": [
    "X, y = make_classification(\n",
    "    n_samples=1000, n_features=20, n_informative=10, n_classes=2, random_state=42)\n",
    " "
   ]
  },
  {
   "cell_type": "markdown",
   "id": "63664893",
   "metadata": {},
   "source": [
    "### <font color=\"green\"> CREATE MODEL VARIABLE"
   ]
  },
  {
   "cell_type": "code",
   "execution_count": 3,
   "id": "c8b27f25",
   "metadata": {},
   "outputs": [],
   "source": [
    "log=LogisticRegression()"
   ]
  },
  {
   "cell_type": "markdown",
   "id": "85557d1a",
   "metadata": {},
   "source": [
    "### <font color=\"green\"> CREATE MODEL'S PARAMETER LIST"
   ]
  },
  {
   "cell_type": "code",
   "execution_count": 4,
   "id": "4097fa4a",
   "metadata": {},
   "outputs": [],
   "source": [
    "c_space = np.logspace(-5, 8, 15)"
   ]
  },
  {
   "cell_type": "code",
   "execution_count": 5,
   "id": "113fe688",
   "metadata": {},
   "outputs": [],
   "source": [
    "param_grid={\"C\":c_space}"
   ]
  },
  {
   "cell_type": "code",
   "execution_count": 6,
   "id": "ccbbbf9a",
   "metadata": {},
   "outputs": [
    {
     "data": {
      "text/plain": [
       "(15,)"
      ]
     },
     "execution_count": 6,
     "metadata": {},
     "output_type": "execute_result"
    }
   ],
   "source": [
    "c_space.shape"
   ]
  },
  {
   "cell_type": "markdown",
   "id": "0bc268e5",
   "metadata": {},
   "source": [
    "### <font color=\"green\"> PASS MODEL VARIABLE & PARAMETER LIST INTO THE GRIDSERACH FUNCTION"
   ]
  },
  {
   "cell_type": "code",
   "execution_count": 7,
   "id": "eb3511c4",
   "metadata": {},
   "outputs": [],
   "source": [
    "grid=GridSearchCV(log,param_grid,cv=5,verbose=1)"
   ]
  },
  {
   "cell_type": "code",
   "execution_count": 8,
   "id": "8ab62a72",
   "metadata": {},
   "outputs": [],
   "source": [
    "grid1=GridSearchCV(log,param_grid,cv=6,verbose=1)"
   ]
  },
  {
   "cell_type": "markdown",
   "id": "33089cb1",
   "metadata": {},
   "source": [
    "### <font color=\"green\"> TRAIN THE ALGORITHM IN HISTORICAL DATA"
   ]
  },
  {
   "cell_type": "code",
   "execution_count": 9,
   "id": "17a8639a",
   "metadata": {},
   "outputs": [
    {
     "name": "stdout",
     "output_type": "stream",
     "text": [
      "Fitting 5 folds for each of 15 candidates, totalling 75 fits\n"
     ]
    },
    {
     "data": {
      "text/plain": [
       "GridSearchCV(cv=5, estimator=LogisticRegression(),\n",
       "             param_grid={'C': array([1.00000000e-05, 8.48342898e-05, 7.19685673e-04, 6.10540230e-03,\n",
       "       5.17947468e-02, 4.39397056e-01, 3.72759372e+00, 3.16227766e+01,\n",
       "       2.68269580e+02, 2.27584593e+03, 1.93069773e+04, 1.63789371e+05,\n",
       "       1.38949549e+06, 1.17876863e+07, 1.00000000e+08])},\n",
       "             verbose=1)"
      ]
     },
     "execution_count": 9,
     "metadata": {},
     "output_type": "execute_result"
    }
   ],
   "source": [
    "grid.fit(X,y)"
   ]
  },
  {
   "cell_type": "code",
   "execution_count": 10,
   "id": "70d0c1e6",
   "metadata": {},
   "outputs": [
    {
     "name": "stdout",
     "output_type": "stream",
     "text": [
      "Fitting 6 folds for each of 15 candidates, totalling 90 fits\n"
     ]
    },
    {
     "data": {
      "text/plain": [
       "GridSearchCV(cv=6, estimator=LogisticRegression(),\n",
       "             param_grid={'C': array([1.00000000e-05, 8.48342898e-05, 7.19685673e-04, 6.10540230e-03,\n",
       "       5.17947468e-02, 4.39397056e-01, 3.72759372e+00, 3.16227766e+01,\n",
       "       2.68269580e+02, 2.27584593e+03, 1.93069773e+04, 1.63789371e+05,\n",
       "       1.38949549e+06, 1.17876863e+07, 1.00000000e+08])},\n",
       "             verbose=1)"
      ]
     },
     "execution_count": 10,
     "metadata": {},
     "output_type": "execute_result"
    }
   ],
   "source": [
    "grid1.fit(X,y)"
   ]
  },
  {
   "cell_type": "markdown",
   "id": "42f85696",
   "metadata": {},
   "source": [
    "### <font color=\"green\"> SEE BEST HYPERPARAMETER VALUE WITH BEST SCORE"
   ]
  },
  {
   "cell_type": "code",
   "execution_count": 11,
   "id": "04d93801",
   "metadata": {},
   "outputs": [
    {
     "name": "stdout",
     "output_type": "stream",
     "text": [
      "Tuned Logistic Regression Parameters: {'C': 0.006105402296585327}\n",
      "Best score is 0.853\n"
     ]
    }
   ],
   "source": [
    "print(\"Tuned Logistic Regression Parameters: {}\".format(grid.best_params_))\n",
    "print(\"Best score is {}\".format(grid.best_score_))"
   ]
  },
  {
   "cell_type": "code",
   "execution_count": 12,
   "id": "8cee3d2c",
   "metadata": {},
   "outputs": [
    {
     "name": "stdout",
     "output_type": "stream",
     "text": [
      "Tuned Logistic Regression Parameters: {'C': 0.006105402296585327}\n",
      "Best score is 0.8509968015775677\n"
     ]
    }
   ],
   "source": [
    "print(\"Tuned Logistic Regression Parameters: {}\".format(grid1.best_params_))\n",
    "print(\"Best score is {}\".format(grid1.best_score_))"
   ]
  },
  {
   "cell_type": "markdown",
   "id": "ec91dea8",
   "metadata": {},
   "source": [
    "## <font color=\"blue\">a2. UNDERSTANDING GRIDSEARCHCV PARAMETERS:\n",
    "### __1. estimator:__\n",
    "- This is the machine learning model you want to tune. It could be a decision tree, a logistic regression or any other model.\n",
    "    \n",
    "### __2. param_grid:__\n",
    "- A dictionary specifying the different hyperparameter values to try.\n",
    "- eg: If you are tuning a decision tree, you might specify different values for `max_depth`,`min_sample_split` & `min_sample_leaf`.\n",
    "\n",
    "### __3. scoring:__\n",
    "- The metric used to evaluate the performance of the model.\n",
    "- Common metrics include accuracy, precision, recall, & mean squared error.\n",
    "\n",
    "### __4. n_jobs:__\n",
    "- The number of CPU cores to use for parallel processing.\n",
    "- Setting this to a higher value can speed up the tuning process.\n",
    "\n",
    "### __5. refit:__\n",
    "- Whether to fit the best performing model on the entire dataset after tuning.\n",
    "- This is usually set to __`True`__ to obtain the final model.\n",
    " \n",
    "### __6. cv:__\n",
    "- The cross-validation strategy to use.\n",
    "- Common options include __`k-fold`__ cross validation & __`StratifiedKFold`__ for imbalanced datasets.\n",
    "    \n",
    "    \n",
    "### __7. verbose:__\n",
    "- Controls the verbosity of the output.\n",
    "- Setting it to a highes value provides more detailed information about the tuning process.\n",
    "\n",
    "\n",
    "### __8. pre_dispatch:__\n",
    "- Controls the number of jobs dispatched to the executor.\n",
    "- This parameter is used to balance the overhead of job scheduling with the benefits of parallel processing.\n",
    "    \n",
    "\n",
    "### __9. error_score:__\n",
    "- The value to assign to a failed model.\n",
    "- This is useful for handling cased where a model fails to train or predict.\n",
    "\n",
    "### __10. return_train_score:__\n",
    "- Whether to return training scores along with test scores.\n",
    "- This can be helpful for understanding overfitting & underfitting."
   ]
  },
  {
   "cell_type": "markdown",
   "id": "1258a415",
   "metadata": {},
   "source": [
    "### "
   ]
  },
  {
   "cell_type": "markdown",
   "id": "45eced15",
   "metadata": {},
   "source": [
    "## <font color=\"blue\">b. RANDOM SEARCH:\n",
    "- The principle as grid search is same in this, but it randomly select groups of hyperparameters on each iteration to train the model.\n",
    "    \n",
    "\n",
    "- In layman language, Random Search randomly selects a certain number of combinations to try. This can be more efficient, especially when you have many hyperparameters to tune."
   ]
  },
  {
   "cell_type": "markdown",
   "id": "0271f0eb",
   "metadata": {},
   "source": [
    "## <font color=\"orange\">b1.CODING FOR RANDOM SEARCH:"
   ]
  },
  {
   "cell_type": "markdown",
   "id": "3091edb6",
   "metadata": {},
   "source": [
    "### <font color=\"green\">IMPORTING THE LIBRARIES"
   ]
  },
  {
   "cell_type": "code",
   "execution_count": 13,
   "id": "a7a950cf",
   "metadata": {},
   "outputs": [],
   "source": [
    "from sklearn.tree import DecisionTreeClassifier\n",
    "from sklearn.model_selection import RandomizedSearchCV"
   ]
  },
  {
   "cell_type": "markdown",
   "id": "7e8a450b",
   "metadata": {},
   "source": [
    "### <font color=\"green\"> CREATE MODEL VARIABLE"
   ]
  },
  {
   "cell_type": "code",
   "execution_count": 14,
   "id": "0c44a86d",
   "metadata": {},
   "outputs": [],
   "source": [
    "dc=DecisionTreeClassifier()"
   ]
  },
  {
   "cell_type": "markdown",
   "id": "56ae58c2",
   "metadata": {},
   "source": [
    "### <font color=\"green\"> CREATE MODEL'S PARAMETER LIST / PARAMETER DISTRIBUTION"
   ]
  },
  {
   "cell_type": "code",
   "execution_count": 15,
   "id": "08bb2f69",
   "metadata": {},
   "outputs": [],
   "source": [
    "param_dist = {\n",
    "    \"max_depth\": [3, None],\n",
    "    \"max_features\": [1,2,4,6],\n",
    "    \"min_samples_leaf\": [2,4,5,6,7],\n",
    "    \"criterion\": [\"gini\", \"entropy\"]\n",
    "}"
   ]
  },
  {
   "cell_type": "markdown",
   "id": "017fcbc0",
   "metadata": {},
   "source": [
    "### <font color=\"green\"> PASS MODEL VARIABLE & PARAMETER LIST INTO THE GRIDSERACH FUNCTION"
   ]
  },
  {
   "cell_type": "code",
   "execution_count": 16,
   "id": "5a745963",
   "metadata": {},
   "outputs": [],
   "source": [
    "rndc=RandomizedSearchCV(dc,param_dist,cv=5,verbose=1)"
   ]
  },
  {
   "cell_type": "code",
   "execution_count": 17,
   "id": "929c3b22",
   "metadata": {},
   "outputs": [],
   "source": [
    "rndc1=RandomizedSearchCV(dc,param_dist,cv=5,verbose=1,n_iter=50)"
   ]
  },
  {
   "cell_type": "markdown",
   "id": "e48a42a6",
   "metadata": {},
   "source": [
    "### <font color=\"green\"> TRAIN THE ALGORITHM IN HISTORICAL DATA"
   ]
  },
  {
   "cell_type": "code",
   "execution_count": 18,
   "id": "bbc8f460",
   "metadata": {},
   "outputs": [
    {
     "name": "stdout",
     "output_type": "stream",
     "text": [
      "Fitting 5 folds for each of 10 candidates, totalling 50 fits\n"
     ]
    },
    {
     "data": {
      "text/plain": [
       "RandomizedSearchCV(cv=5, estimator=DecisionTreeClassifier(),\n",
       "                   param_distributions={'criterion': ['gini', 'entropy'],\n",
       "                                        'max_depth': [3, None],\n",
       "                                        'max_features': [1, 2, 4, 6],\n",
       "                                        'min_samples_leaf': [2, 4, 5, 6, 7]},\n",
       "                   verbose=1)"
      ]
     },
     "execution_count": 18,
     "metadata": {},
     "output_type": "execute_result"
    }
   ],
   "source": [
    "rndc.fit(X,y)"
   ]
  },
  {
   "cell_type": "code",
   "execution_count": 19,
   "id": "74932e33",
   "metadata": {},
   "outputs": [
    {
     "name": "stdout",
     "output_type": "stream",
     "text": [
      "Fitting 5 folds for each of 50 candidates, totalling 250 fits\n"
     ]
    },
    {
     "data": {
      "text/plain": [
       "RandomizedSearchCV(cv=5, estimator=DecisionTreeClassifier(), n_iter=50,\n",
       "                   param_distributions={'criterion': ['gini', 'entropy'],\n",
       "                                        'max_depth': [3, None],\n",
       "                                        'max_features': [1, 2, 4, 6],\n",
       "                                        'min_samples_leaf': [2, 4, 5, 6, 7]},\n",
       "                   verbose=1)"
      ]
     },
     "execution_count": 19,
     "metadata": {},
     "output_type": "execute_result"
    }
   ],
   "source": [
    "rndc1.fit(X,y)"
   ]
  },
  {
   "cell_type": "markdown",
   "id": "1654eb2c",
   "metadata": {},
   "source": [
    "### <font color=\"green\"> SEE BEST HYPERPARAMETER VALUE WITH BEST SCORE"
   ]
  },
  {
   "cell_type": "code",
   "execution_count": 20,
   "id": "9e33f75c",
   "metadata": {},
   "outputs": [
    {
     "name": "stdout",
     "output_type": "stream",
     "text": [
      "Tuned Decision Tree Parameters: {'min_samples_leaf': 6, 'max_features': 4, 'max_depth': None, 'criterion': 'gini'}\n",
      "Best score is 0.768\n"
     ]
    }
   ],
   "source": [
    "print(\"Tuned Decision Tree Parameters: {}\".format(rndc.best_params_))\n",
    "print(\"Best score is {}\".format(rndc.best_score_))"
   ]
  },
  {
   "cell_type": "code",
   "execution_count": 21,
   "id": "7e28f78b",
   "metadata": {},
   "outputs": [
    {
     "name": "stdout",
     "output_type": "stream",
     "text": [
      "Tuned Decision Tree Parameters: {'min_samples_leaf': 6, 'max_features': 4, 'max_depth': None, 'criterion': 'gini'}\n",
      "Best score is 0.828\n"
     ]
    }
   ],
   "source": [
    "print(\"Tuned Decision Tree Parameters: {}\".format(rndc1.best_params_))\n",
    "print(\"Best score is {}\".format(rndc1.best_score_))"
   ]
  },
  {
   "cell_type": "markdown",
   "id": "ba3d3912",
   "metadata": {},
   "source": [
    "## <font color=\"orange\">a2. UNDERSTANDING GRIDSEARCHCV PARAMETERS:\n",
    "### __1. estimator:__\n",
    "- This is the machine learning model you want to tune. It could be a decision treem a logistic regression or any other model.\n",
    "    \n",
    "### __2. param_distributions:__\n",
    "- A dictionary specifying the possible values for each hyperparameter.\n",
    "- Unlike GridSearchCV, this dictionary specifies distribution (eg: Uniform, log-Uniform) rather than fixed value.\n",
    "\n",
    "### __3. n_iter:__\n",
    "- The number of parameter setting that are sampled.\n",
    "- High value means more combinations are tried, but it also takes longer.\n",
    "\n",
    "\n",
    "### __4. scoring:__\n",
    "- The metric used to evaluate the performance of the model.\n",
    "- Common metrics include accuracy, precision, recall, & mean squared error.\n",
    "\n",
    "### __5. n_jobs:__\n",
    "- The number of CPU cores to use for parallel processing.\n",
    "- Setting this to a higher value can speed up the tuning process.\n",
    "\n",
    "### __6. refit:__\n",
    "- Whether to fit the best performing model on the entire dataset after tuning.\n",
    "- This is usually set to __`True`__ to obtain the final model.\n",
    " \n",
    "### __7. cv:__\n",
    "- The cross-validation strategy to use.\n",
    "- Common options include __`k-fold`__ cross validation & __`StratifiedKFold`__ for imbalanced datasets.\n",
    "    \n",
    "    \n",
    "### __8. verbose:__\n",
    "- Controls the verbosity of the output.\n",
    "- Setting it to a highes value provides more detailed information about the tuning process.\n",
    "\n",
    "\n",
    "### __9. pre_dispatch:__\n",
    "- Controls the number of jobs dispatched to the executor.\n",
    "- This parameter is used to balance the overhead of job scheduling with the benefits of parallel processing.\n",
    "\n",
    "\n",
    "### __10. random_state:__\n",
    "- The seed used by random number generator.\n",
    "- Setting a fixed value ensures reproducibility of the results.\n",
    "\n",
    "\n",
    "### __11. error_score:__\n",
    "- The value to assign to a failed model.\n",
    "- This is useful for handling cased where a model fails to train or predict.\n",
    "\n",
    "### __12. return_train_score:__\n",
    "- Whether to return training scores along with test scores.\n",
    "- This can be helpful for understanding overfitting & underfitting.\n",
    "\n",
    "\n"
   ]
  },
  {
   "cell_type": "markdown",
   "id": "121dc0ca",
   "metadata": {},
   "source": [
    "## <font color=\"dark blue\">DIFFERENCE BETWEEN GRIDSEARCH & RANDOMSEARCH"
   ]
  },
  {
   "attachments": {
    "1.png": {
     "image/png": "[encoded data removed]"
    }
   },
   "cell_type": "markdown",
   "id": "f5a28b7c",
   "metadata": {},
   "source": [
    "![1.png](attachment:1.png)"
   ]
  },
  {
   "cell_type": "markdown",
   "id": "995e6a76",
   "metadata": {},
   "source": [
    "### <font color=\"green\">IN SIMPLE LANGUAGE"
   ]
  },
  {
   "attachments": {
    "2.png": {
     "image/png": "[encoded data removed]"
    }
   },
   "cell_type": "markdown",
   "id": "3cf8223f",
   "metadata": {},
   "source": [
    "![2.png](attachment:2.png)"
   ]
  }
 ],
 "metadata": {
  "kernelspec": {
   "display_name": "Python 3 (ipykernel)",
   "language": "python",
   "name": "python3"
  },
  "language_info": {
   "codemirror_mode": {
    "name": "ipython",
    "version": 3
   },
   "file_extension": ".py",
   "mimetype": "text/x-python",
   "name": "python",
   "nbconvert_exporter": "python",
   "pygments_lexer": "ipython3",
   "version": "3.12.3"
  }
 },
 "nbformat": 4,
 "nbformat_minor": 5
}
