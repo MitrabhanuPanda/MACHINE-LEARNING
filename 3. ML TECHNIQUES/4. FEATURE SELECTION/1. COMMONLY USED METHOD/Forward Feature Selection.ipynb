{
 "cells": [
  {
   "cell_type": "markdown",
   "id": "569fcb0e",
   "metadata": {},
   "source": [
    "# <font color=\"red\">FORWARD FEATURE SELECTION"
   ]
  },
  {
   "cell_type": "code",
   "execution_count": 1,
   "id": "d09a7c40",
   "metadata": {},
   "outputs": [],
   "source": [
    "import pandas as pd\n",
    "from mlxtend.feature_selection import SequentialFeatureSelector"
   ]
  },
  {
   "cell_type": "code",
   "execution_count": 2,
   "id": "c0639d4b",
   "metadata": {},
   "outputs": [],
   "source": [
    "df=pd.read_csv(r\"C:\\Users\\mitra\\Desktop\\Wine\\winequality_white.csv\")"
   ]
  },
  {
   "cell_type": "code",
   "execution_count": 3,
   "id": "7ef44cd6",
   "metadata": {},
   "outputs": [
    {
     "data": {
      "text/html": [
       "<div>\n",
       "<style scoped>\n",
       "    .dataframe tbody tr th:only-of-type {\n",
       "        vertical-align: middle;\n",
       "    }\n",
       "\n",
       "    .dataframe tbody tr th {\n",
       "        vertical-align: top;\n",
       "    }\n",
       "\n",
       "    .dataframe thead th {\n",
       "        text-align: right;\n",
       "    }\n",
       "</style>\n",
       "<table border=\"1\" class=\"dataframe\">\n",
       "  <thead>\n",
       "    <tr style=\"text-align: right;\">\n",
       "      <th></th>\n",
       "      <th>fixed acidity</th>\n",
       "      <th>volatile acidity</th>\n",
       "      <th>citric acid</th>\n",
       "      <th>residual sugar</th>\n",
       "      <th>chlorides</th>\n",
       "      <th>free sulfur dioxide</th>\n",
       "      <th>total sulfur dioxide</th>\n",
       "      <th>density</th>\n",
       "      <th>pH</th>\n",
       "      <th>sulphates</th>\n",
       "      <th>alcohol</th>\n",
       "      <th>quality</th>\n",
       "    </tr>\n",
       "  </thead>\n",
       "  <tbody>\n",
       "    <tr>\n",
       "      <th>0</th>\n",
       "      <td>7.0</td>\n",
       "      <td>0.27</td>\n",
       "      <td>0.36</td>\n",
       "      <td>20.7</td>\n",
       "      <td>0.045</td>\n",
       "      <td>45.0</td>\n",
       "      <td>170.0</td>\n",
       "      <td>1.0010</td>\n",
       "      <td>3.00</td>\n",
       "      <td>0.45</td>\n",
       "      <td>8.8</td>\n",
       "      <td>6</td>\n",
       "    </tr>\n",
       "    <tr>\n",
       "      <th>1</th>\n",
       "      <td>6.3</td>\n",
       "      <td>0.30</td>\n",
       "      <td>0.34</td>\n",
       "      <td>1.6</td>\n",
       "      <td>0.049</td>\n",
       "      <td>14.0</td>\n",
       "      <td>132.0</td>\n",
       "      <td>0.9940</td>\n",
       "      <td>3.30</td>\n",
       "      <td>0.49</td>\n",
       "      <td>9.5</td>\n",
       "      <td>6</td>\n",
       "    </tr>\n",
       "    <tr>\n",
       "      <th>2</th>\n",
       "      <td>8.1</td>\n",
       "      <td>0.28</td>\n",
       "      <td>0.40</td>\n",
       "      <td>6.9</td>\n",
       "      <td>0.050</td>\n",
       "      <td>30.0</td>\n",
       "      <td>97.0</td>\n",
       "      <td>0.9951</td>\n",
       "      <td>3.26</td>\n",
       "      <td>0.44</td>\n",
       "      <td>10.1</td>\n",
       "      <td>6</td>\n",
       "    </tr>\n",
       "    <tr>\n",
       "      <th>3</th>\n",
       "      <td>7.2</td>\n",
       "      <td>0.23</td>\n",
       "      <td>0.32</td>\n",
       "      <td>8.5</td>\n",
       "      <td>0.058</td>\n",
       "      <td>47.0</td>\n",
       "      <td>186.0</td>\n",
       "      <td>0.9956</td>\n",
       "      <td>3.19</td>\n",
       "      <td>0.40</td>\n",
       "      <td>9.9</td>\n",
       "      <td>6</td>\n",
       "    </tr>\n",
       "    <tr>\n",
       "      <th>4</th>\n",
       "      <td>7.2</td>\n",
       "      <td>0.23</td>\n",
       "      <td>0.32</td>\n",
       "      <td>8.5</td>\n",
       "      <td>0.058</td>\n",
       "      <td>47.0</td>\n",
       "      <td>186.0</td>\n",
       "      <td>0.9956</td>\n",
       "      <td>3.19</td>\n",
       "      <td>0.40</td>\n",
       "      <td>9.9</td>\n",
       "      <td>6</td>\n",
       "    </tr>\n",
       "  </tbody>\n",
       "</table>\n",
       "</div>"
      ],
      "text/plain": [
       "   fixed acidity  volatile acidity  citric acid  residual sugar  chlorides  \\\n",
       "0            7.0              0.27         0.36            20.7      0.045   \n",
       "1            6.3              0.30         0.34             1.6      0.049   \n",
       "2            8.1              0.28         0.40             6.9      0.050   \n",
       "3            7.2              0.23         0.32             8.5      0.058   \n",
       "4            7.2              0.23         0.32             8.5      0.058   \n",
       "\n",
       "   free sulfur dioxide  total sulfur dioxide  density    pH  sulphates  \\\n",
       "0                 45.0                 170.0   1.0010  3.00       0.45   \n",
       "1                 14.0                 132.0   0.9940  3.30       0.49   \n",
       "2                 30.0                  97.0   0.9951  3.26       0.44   \n",
       "3                 47.0                 186.0   0.9956  3.19       0.40   \n",
       "4                 47.0                 186.0   0.9956  3.19       0.40   \n",
       "\n",
       "   alcohol  quality  \n",
       "0      8.8        6  \n",
       "1      9.5        6  \n",
       "2     10.1        6  \n",
       "3      9.9        6  \n",
       "4      9.9        6  "
      ]
     },
     "execution_count": 3,
     "metadata": {},
     "output_type": "execute_result"
    }
   ],
   "source": [
    "df.head()"
   ]
  },
  {
   "cell_type": "code",
   "execution_count": 4,
   "id": "adc82b14",
   "metadata": {},
   "outputs": [
    {
     "data": {
      "text/plain": [
       "(4898, 12)"
      ]
     },
     "execution_count": 4,
     "metadata": {},
     "output_type": "execute_result"
    }
   ],
   "source": [
    "df.shape"
   ]
  },
  {
   "cell_type": "code",
   "execution_count": 5,
   "id": "0938a3b1",
   "metadata": {},
   "outputs": [
    {
     "data": {
      "text/plain": [
       "fixed acidity           0\n",
       "volatile acidity        0\n",
       "citric acid             0\n",
       "residual sugar          0\n",
       "chlorides               0\n",
       "free sulfur dioxide     0\n",
       "total sulfur dioxide    0\n",
       "density                 0\n",
       "pH                      0\n",
       "sulphates               0\n",
       "alcohol                 0\n",
       "quality                 0\n",
       "dtype: int64"
      ]
     },
     "execution_count": 5,
     "metadata": {},
     "output_type": "execute_result"
    }
   ],
   "source": [
    "df.isnull().sum()   # Check any missing value in any columns"
   ]
  },
  {
   "cell_type": "code",
   "execution_count": 6,
   "id": "c11ed314",
   "metadata": {},
   "outputs": [
    {
     "data": {
      "text/html": [
       "<div>\n",
       "<style scoped>\n",
       "    .dataframe tbody tr th:only-of-type {\n",
       "        vertical-align: middle;\n",
       "    }\n",
       "\n",
       "    .dataframe tbody tr th {\n",
       "        vertical-align: top;\n",
       "    }\n",
       "\n",
       "    .dataframe thead th {\n",
       "        text-align: right;\n",
       "    }\n",
       "</style>\n",
       "<table border=\"1\" class=\"dataframe\">\n",
       "  <thead>\n",
       "    <tr style=\"text-align: right;\">\n",
       "      <th></th>\n",
       "      <th>fixed acidity</th>\n",
       "      <th>volatile acidity</th>\n",
       "      <th>citric acid</th>\n",
       "      <th>residual sugar</th>\n",
       "      <th>chlorides</th>\n",
       "      <th>free sulfur dioxide</th>\n",
       "      <th>total sulfur dioxide</th>\n",
       "      <th>density</th>\n",
       "      <th>pH</th>\n",
       "      <th>sulphates</th>\n",
       "      <th>alcohol</th>\n",
       "      <th>quality</th>\n",
       "    </tr>\n",
       "  </thead>\n",
       "  <tbody>\n",
       "  </tbody>\n",
       "</table>\n",
       "</div>"
      ],
      "text/plain": [
       "Empty DataFrame\n",
       "Columns: [fixed acidity, volatile acidity, citric acid, residual sugar, chlorides, free sulfur dioxide, total sulfur dioxide, density, pH, sulphates, alcohol, quality]\n",
       "Index: []"
      ]
     },
     "execution_count": 6,
     "metadata": {},
     "output_type": "execute_result"
    }
   ],
   "source": [
    "df[df.isnull().any(axis=1)] # Check any missing value in any rows"
   ]
  },
  {
   "cell_type": "code",
   "execution_count": 7,
   "id": "12dcf743",
   "metadata": {},
   "outputs": [],
   "source": [
    "x=df.iloc[:,0:11]\n",
    "y=df.iloc[:,-1]"
   ]
  },
  {
   "cell_type": "code",
   "execution_count": 8,
   "id": "1e8ac4e7",
   "metadata": {},
   "outputs": [
    {
     "data": {
      "text/html": [
       "<div>\n",
       "<style scoped>\n",
       "    .dataframe tbody tr th:only-of-type {\n",
       "        vertical-align: middle;\n",
       "    }\n",
       "\n",
       "    .dataframe tbody tr th {\n",
       "        vertical-align: top;\n",
       "    }\n",
       "\n",
       "    .dataframe thead th {\n",
       "        text-align: right;\n",
       "    }\n",
       "</style>\n",
       "<table border=\"1\" class=\"dataframe\">\n",
       "  <thead>\n",
       "    <tr style=\"text-align: right;\">\n",
       "      <th></th>\n",
       "      <th>fixed acidity</th>\n",
       "      <th>volatile acidity</th>\n",
       "      <th>citric acid</th>\n",
       "      <th>residual sugar</th>\n",
       "      <th>chlorides</th>\n",
       "      <th>free sulfur dioxide</th>\n",
       "      <th>total sulfur dioxide</th>\n",
       "      <th>density</th>\n",
       "      <th>pH</th>\n",
       "      <th>sulphates</th>\n",
       "      <th>alcohol</th>\n",
       "    </tr>\n",
       "  </thead>\n",
       "  <tbody>\n",
       "    <tr>\n",
       "      <th>0</th>\n",
       "      <td>7.0</td>\n",
       "      <td>0.27</td>\n",
       "      <td>0.36</td>\n",
       "      <td>20.7</td>\n",
       "      <td>0.045</td>\n",
       "      <td>45.0</td>\n",
       "      <td>170.0</td>\n",
       "      <td>1.0010</td>\n",
       "      <td>3.00</td>\n",
       "      <td>0.45</td>\n",
       "      <td>8.8</td>\n",
       "    </tr>\n",
       "    <tr>\n",
       "      <th>1</th>\n",
       "      <td>6.3</td>\n",
       "      <td>0.30</td>\n",
       "      <td>0.34</td>\n",
       "      <td>1.6</td>\n",
       "      <td>0.049</td>\n",
       "      <td>14.0</td>\n",
       "      <td>132.0</td>\n",
       "      <td>0.9940</td>\n",
       "      <td>3.30</td>\n",
       "      <td>0.49</td>\n",
       "      <td>9.5</td>\n",
       "    </tr>\n",
       "    <tr>\n",
       "      <th>2</th>\n",
       "      <td>8.1</td>\n",
       "      <td>0.28</td>\n",
       "      <td>0.40</td>\n",
       "      <td>6.9</td>\n",
       "      <td>0.050</td>\n",
       "      <td>30.0</td>\n",
       "      <td>97.0</td>\n",
       "      <td>0.9951</td>\n",
       "      <td>3.26</td>\n",
       "      <td>0.44</td>\n",
       "      <td>10.1</td>\n",
       "    </tr>\n",
       "    <tr>\n",
       "      <th>3</th>\n",
       "      <td>7.2</td>\n",
       "      <td>0.23</td>\n",
       "      <td>0.32</td>\n",
       "      <td>8.5</td>\n",
       "      <td>0.058</td>\n",
       "      <td>47.0</td>\n",
       "      <td>186.0</td>\n",
       "      <td>0.9956</td>\n",
       "      <td>3.19</td>\n",
       "      <td>0.40</td>\n",
       "      <td>9.9</td>\n",
       "    </tr>\n",
       "    <tr>\n",
       "      <th>4</th>\n",
       "      <td>7.2</td>\n",
       "      <td>0.23</td>\n",
       "      <td>0.32</td>\n",
       "      <td>8.5</td>\n",
       "      <td>0.058</td>\n",
       "      <td>47.0</td>\n",
       "      <td>186.0</td>\n",
       "      <td>0.9956</td>\n",
       "      <td>3.19</td>\n",
       "      <td>0.40</td>\n",
       "      <td>9.9</td>\n",
       "    </tr>\n",
       "  </tbody>\n",
       "</table>\n",
       "</div>"
      ],
      "text/plain": [
       "   fixed acidity  volatile acidity  citric acid  residual sugar  chlorides  \\\n",
       "0            7.0              0.27         0.36            20.7      0.045   \n",
       "1            6.3              0.30         0.34             1.6      0.049   \n",
       "2            8.1              0.28         0.40             6.9      0.050   \n",
       "3            7.2              0.23         0.32             8.5      0.058   \n",
       "4            7.2              0.23         0.32             8.5      0.058   \n",
       "\n",
       "   free sulfur dioxide  total sulfur dioxide  density    pH  sulphates  \\\n",
       "0                 45.0                 170.0   1.0010  3.00       0.45   \n",
       "1                 14.0                 132.0   0.9940  3.30       0.49   \n",
       "2                 30.0                  97.0   0.9951  3.26       0.44   \n",
       "3                 47.0                 186.0   0.9956  3.19       0.40   \n",
       "4                 47.0                 186.0   0.9956  3.19       0.40   \n",
       "\n",
       "   alcohol  \n",
       "0      8.8  \n",
       "1      9.5  \n",
       "2     10.1  \n",
       "3      9.9  \n",
       "4      9.9  "
      ]
     },
     "execution_count": 8,
     "metadata": {},
     "output_type": "execute_result"
    }
   ],
   "source": [
    "x.head()"
   ]
  },
  {
   "cell_type": "code",
   "execution_count": 9,
   "id": "f99bb893",
   "metadata": {},
   "outputs": [
    {
     "data": {
      "text/plain": [
       "(4898, 11)"
      ]
     },
     "execution_count": 9,
     "metadata": {},
     "output_type": "execute_result"
    }
   ],
   "source": [
    "x.shape"
   ]
  },
  {
   "cell_type": "code",
   "execution_count": 10,
   "id": "3b5dde47",
   "metadata": {},
   "outputs": [
    {
     "data": {
      "text/plain": [
       "0       6\n",
       "1       6\n",
       "2       6\n",
       "3       6\n",
       "4       6\n",
       "       ..\n",
       "4893    6\n",
       "4894    5\n",
       "4895    6\n",
       "4896    7\n",
       "4897    6\n",
       "Name: quality, Length: 4898, dtype: int64"
      ]
     },
     "execution_count": 10,
     "metadata": {},
     "output_type": "execute_result"
    }
   ],
   "source": [
    "y"
   ]
  },
  {
   "cell_type": "markdown",
   "id": "cd75ed20",
   "metadata": {},
   "source": [
    "###  <font color=\"green\">Spilt the X & y"
   ]
  },
  {
   "cell_type": "code",
   "execution_count": 11,
   "id": "ed7d4ac5",
   "metadata": {},
   "outputs": [],
   "source": [
    "from sklearn.model_selection import train_test_split\n",
    "x_train,x_test,y_train,y_test=train_test_split(x,y,test_size=0.3,random_state=0)"
   ]
  },
  {
   "cell_type": "code",
   "execution_count": 12,
   "id": "16956ada",
   "metadata": {},
   "outputs": [],
   "source": [
    "from sklearn.ensemble import RandomForestClassifier   # Import an algorithm"
   ]
  },
  {
   "cell_type": "markdown",
   "id": "99985de5",
   "metadata": {},
   "source": [
    "### <font color=\"blue\">Manual Approach"
   ]
  },
  {
   "cell_type": "code",
   "execution_count": 13,
   "id": "0baf73fa",
   "metadata": {},
   "outputs": [
    {
     "name": "stderr",
     "output_type": "stream",
     "text": [
      "[Parallel(n_jobs=1)]: Using backend SequentialBackend with 1 concurrent workers.\n",
      "[Parallel(n_jobs=1)]: Done   1 out of   1 | elapsed:    3.4s remaining:    0.0s\n",
      "[Parallel(n_jobs=1)]: Done  11 out of  11 | elapsed:   15.5s finished\n",
      "\n",
      "[2023-10-29 11:30:00] Features: 1/6 -- score: 0.49036240982315765[Parallel(n_jobs=1)]: Using backend SequentialBackend with 1 concurrent workers.\n",
      "[Parallel(n_jobs=1)]: Done   1 out of   1 | elapsed:    1.6s remaining:    0.0s\n",
      "[Parallel(n_jobs=1)]: Done  10 out of  10 | elapsed:   17.2s finished\n",
      "\n",
      "[2023-10-29 11:30:17] Features: 2/6 -- score: 0.5460969121746718[Parallel(n_jobs=1)]: Using backend SequentialBackend with 1 concurrent workers.\n",
      "[Parallel(n_jobs=1)]: Done   1 out of   1 | elapsed:    1.7s remaining:    0.0s\n",
      "[Parallel(n_jobs=1)]: Done   9 out of   9 | elapsed:   16.4s finished\n",
      "\n",
      "[2023-10-29 11:30:33] Features: 3/6 -- score: 0.6021033814985848[Parallel(n_jobs=1)]: Using backend SequentialBackend with 1 concurrent workers.\n",
      "[Parallel(n_jobs=1)]: Done   1 out of   1 | elapsed:    1.8s remaining:    0.0s\n",
      "[Parallel(n_jobs=1)]: Done   8 out of   8 | elapsed:   14.8s finished\n",
      "\n",
      "[2023-10-29 11:30:48] Features: 4/6 -- score: 0.6222310655231853[Parallel(n_jobs=1)]: Using backend SequentialBackend with 1 concurrent workers.\n",
      "[Parallel(n_jobs=1)]: Done   1 out of   1 | elapsed:    1.7s remaining:    0.0s\n",
      "[Parallel(n_jobs=1)]: Done   7 out of   7 | elapsed:   12.7s finished\n",
      "\n",
      "[2023-10-29 11:31:01] Features: 5/6 -- score: 0.6394415951990806[Parallel(n_jobs=1)]: Using backend SequentialBackend with 1 concurrent workers.\n",
      "[Parallel(n_jobs=1)]: Done   1 out of   1 | elapsed:    1.7s remaining:    0.0s\n",
      "[Parallel(n_jobs=1)]: Done   6 out of   6 | elapsed:   11.1s finished\n",
      "\n",
      "[2023-10-29 11:31:12] Features: 6/6 -- score: 0.6496533378732098"
     ]
    }
   ],
   "source": [
    "forward_feature_selection=SequentialFeatureSelector(RandomForestClassifier(n_jobs=-1), # All the courses availabe in your pc.\n",
    "                                                   k_features=6,         # How many feature you want.\n",
    "                                                   forward= True,        # Forward Feature Selection\n",
    "                                                   floating=False,\n",
    "                                                   verbose=2,             # See How the model fitting\n",
    "                                                   scoring=\"accuracy\",  \n",
    "                                                   cv=5).fit(x_train,y_train)"
   ]
  },
  {
   "cell_type": "code",
   "execution_count": 14,
   "id": "2b05517d",
   "metadata": {},
   "outputs": [
    {
     "data": {
      "text/plain": [
       "(0, 1, 5, 6, 9, 10)"
      ]
     },
     "execution_count": 14,
     "metadata": {},
     "output_type": "execute_result"
    }
   ],
   "source": [
    "forward_feature_selection.k_feature_idx_  # Show Index Number of the Features which are Selected"
   ]
  },
  {
   "cell_type": "code",
   "execution_count": 15,
   "id": "4bb395ed",
   "metadata": {},
   "outputs": [
    {
     "data": {
      "text/plain": [
       "('fixed acidity',\n",
       " 'volatile acidity',\n",
       " 'free sulfur dioxide',\n",
       " 'total sulfur dioxide',\n",
       " 'sulphates',\n",
       " 'alcohol')"
      ]
     },
     "execution_count": 15,
     "metadata": {},
     "output_type": "execute_result"
    }
   ],
   "source": [
    "forward_feature_selection.k_feature_names_  #  Show Name of the Features which are Selected"
   ]
  },
  {
   "cell_type": "code",
   "execution_count": 16,
   "id": "390fae42",
   "metadata": {},
   "outputs": [
    {
     "data": {
      "text/plain": [
       "0.6496533378732098"
      ]
     },
     "execution_count": 16,
     "metadata": {},
     "output_type": "execute_result"
    }
   ],
   "source": [
    "forward_feature_selection.k_score_  # Show the score "
   ]
  },
  {
   "cell_type": "code",
   "execution_count": 17,
   "id": "20217bcb",
   "metadata": {},
   "outputs": [
    {
     "data": {
      "text/html": [
       "<div>\n",
       "<style scoped>\n",
       "    .dataframe tbody tr th:only-of-type {\n",
       "        vertical-align: middle;\n",
       "    }\n",
       "\n",
       "    .dataframe tbody tr th {\n",
       "        vertical-align: top;\n",
       "    }\n",
       "\n",
       "    .dataframe thead th {\n",
       "        text-align: right;\n",
       "    }\n",
       "</style>\n",
       "<table border=\"1\" class=\"dataframe\">\n",
       "  <thead>\n",
       "    <tr style=\"text-align: right;\">\n",
       "      <th></th>\n",
       "      <th>feature_idx</th>\n",
       "      <th>cv_scores</th>\n",
       "      <th>avg_score</th>\n",
       "      <th>feature_names</th>\n",
       "      <th>ci_bound</th>\n",
       "      <th>std_dev</th>\n",
       "      <th>std_err</th>\n",
       "    </tr>\n",
       "  </thead>\n",
       "  <tbody>\n",
       "    <tr>\n",
       "      <th>1</th>\n",
       "      <td>(10,)</td>\n",
       "      <td>[0.5029154518950437, 0.5, 0.5058309037900874, ...</td>\n",
       "      <td>0.490362</td>\n",
       "      <td>(alcohol,)</td>\n",
       "      <td>0.021137</td>\n",
       "      <td>0.016446</td>\n",
       "      <td>0.008223</td>\n",
       "    </tr>\n",
       "    <tr>\n",
       "      <th>2</th>\n",
       "      <td>(6, 10)</td>\n",
       "      <td>[0.5553935860058309, 0.521865889212828, 0.5408...</td>\n",
       "      <td>0.546097</td>\n",
       "      <td>(total sulfur dioxide, alcohol)</td>\n",
       "      <td>0.01734</td>\n",
       "      <td>0.013491</td>\n",
       "      <td>0.006746</td>\n",
       "    </tr>\n",
       "    <tr>\n",
       "      <th>3</th>\n",
       "      <td>(6, 9, 10)</td>\n",
       "      <td>[0.5816326530612245, 0.6122448979591837, 0.602...</td>\n",
       "      <td>0.602103</td>\n",
       "      <td>(total sulfur dioxide, sulphates, alcohol)</td>\n",
       "      <td>0.015016</td>\n",
       "      <td>0.011683</td>\n",
       "      <td>0.005841</td>\n",
       "    </tr>\n",
       "    <tr>\n",
       "      <th>4</th>\n",
       "      <td>(1, 6, 9, 10)</td>\n",
       "      <td>[0.6399416909620991, 0.6137026239067055, 0.604...</td>\n",
       "      <td>0.622231</td>\n",
       "      <td>(volatile acidity, total sulfur dioxide, sulph...</td>\n",
       "      <td>0.015397</td>\n",
       "      <td>0.01198</td>\n",
       "      <td>0.00599</td>\n",
       "    </tr>\n",
       "    <tr>\n",
       "      <th>5</th>\n",
       "      <td>(1, 5, 6, 9, 10)</td>\n",
       "      <td>[0.6632653061224489, 0.6224489795918368, 0.626...</td>\n",
       "      <td>0.639442</td>\n",
       "      <td>(volatile acidity, free sulfur dioxide, total ...</td>\n",
       "      <td>0.022616</td>\n",
       "      <td>0.017596</td>\n",
       "      <td>0.008798</td>\n",
       "    </tr>\n",
       "    <tr>\n",
       "      <th>6</th>\n",
       "      <td>(0, 1, 5, 6, 9, 10)</td>\n",
       "      <td>[0.6559766763848397, 0.6399416909620991, 0.641...</td>\n",
       "      <td>0.649653</td>\n",
       "      <td>(fixed acidity, volatile acidity, free sulfur ...</td>\n",
       "      <td>0.011831</td>\n",
       "      <td>0.009205</td>\n",
       "      <td>0.004602</td>\n",
       "    </tr>\n",
       "  </tbody>\n",
       "</table>\n",
       "</div>"
      ],
      "text/plain": [
       "           feature_idx                                          cv_scores  \\\n",
       "1                (10,)  [0.5029154518950437, 0.5, 0.5058309037900874, ...   \n",
       "2              (6, 10)  [0.5553935860058309, 0.521865889212828, 0.5408...   \n",
       "3           (6, 9, 10)  [0.5816326530612245, 0.6122448979591837, 0.602...   \n",
       "4        (1, 6, 9, 10)  [0.6399416909620991, 0.6137026239067055, 0.604...   \n",
       "5     (1, 5, 6, 9, 10)  [0.6632653061224489, 0.6224489795918368, 0.626...   \n",
       "6  (0, 1, 5, 6, 9, 10)  [0.6559766763848397, 0.6399416909620991, 0.641...   \n",
       "\n",
       "  avg_score                                      feature_names  ci_bound  \\\n",
       "1  0.490362                                         (alcohol,)  0.021137   \n",
       "2  0.546097                    (total sulfur dioxide, alcohol)   0.01734   \n",
       "3  0.602103         (total sulfur dioxide, sulphates, alcohol)  0.015016   \n",
       "4  0.622231  (volatile acidity, total sulfur dioxide, sulph...  0.015397   \n",
       "5  0.639442  (volatile acidity, free sulfur dioxide, total ...  0.022616   \n",
       "6  0.649653  (fixed acidity, volatile acidity, free sulfur ...  0.011831   \n",
       "\n",
       "    std_dev   std_err  \n",
       "1  0.016446  0.008223  \n",
       "2  0.013491  0.006746  \n",
       "3  0.011683  0.005841  \n",
       "4   0.01198   0.00599  \n",
       "5  0.017596  0.008798  \n",
       "6  0.009205  0.004602  "
      ]
     },
     "execution_count": 17,
     "metadata": {},
     "output_type": "execute_result"
    }
   ],
   "source": [
    "pd.DataFrame.from_dict(forward_feature_selection.get_metric_dict()).T  # Show all the information in DataFrame "
   ]
  },
  {
   "cell_type": "markdown",
   "id": "98de3240",
   "metadata": {},
   "source": [
    "### <font color=\"blue\">Automated Approach"
   ]
  },
  {
   "cell_type": "code",
   "execution_count": 18,
   "id": "f0efe936",
   "metadata": {},
   "outputs": [
    {
     "name": "stderr",
     "output_type": "stream",
     "text": [
      "[Parallel(n_jobs=1)]: Using backend SequentialBackend with 1 concurrent workers.\n",
      "[Parallel(n_jobs=1)]: Done   1 out of   1 | elapsed:    1.4s remaining:    0.0s\n",
      "[Parallel(n_jobs=1)]: Done  11 out of  11 | elapsed:   15.9s finished\n",
      "\n",
      "[2023-10-29 11:31:28] Features: 1/11 -- score: 0.48978144751122554[Parallel(n_jobs=1)]: Using backend SequentialBackend with 1 concurrent workers.\n",
      "[Parallel(n_jobs=1)]: Done   1 out of   1 | elapsed:    1.6s remaining:    0.0s\n",
      "[Parallel(n_jobs=1)]: Done  10 out of  10 | elapsed:   16.9s finished\n",
      "\n",
      "[2023-10-29 11:31:45] Features: 2/11 -- score: 0.5443493434913067[Parallel(n_jobs=1)]: Using backend SequentialBackend with 1 concurrent workers.\n",
      "[Parallel(n_jobs=1)]: Done   1 out of   1 | elapsed:    1.6s remaining:    0.0s\n",
      "[Parallel(n_jobs=1)]: Done   9 out of   9 | elapsed:   15.5s finished\n",
      "\n",
      "[2023-10-29 11:32:01] Features: 3/11 -- score: 0.6023893937136899[Parallel(n_jobs=1)]: Using backend SequentialBackend with 1 concurrent workers.\n",
      "[Parallel(n_jobs=1)]: Done   1 out of   1 | elapsed:    1.7s remaining:    0.0s\n",
      "[Parallel(n_jobs=1)]: Done   8 out of   8 | elapsed:   14.5s finished\n",
      "\n",
      "[2023-10-29 11:32:16] Features: 4/11 -- score: 0.6260160456257581[Parallel(n_jobs=1)]: Using backend SequentialBackend with 1 concurrent workers.\n",
      "[Parallel(n_jobs=1)]: Done   1 out of   1 | elapsed:    1.7s remaining:    0.0s\n",
      "[Parallel(n_jobs=1)]: Done   7 out of   7 | elapsed:   12.9s finished\n",
      "\n",
      "[2023-10-29 11:32:29] Features: 5/11 -- score: 0.6408997467600178[Parallel(n_jobs=1)]: Using backend SequentialBackend with 1 concurrent workers.\n",
      "[Parallel(n_jobs=1)]: Done   1 out of   1 | elapsed:    1.8s remaining:    0.0s\n",
      "[Parallel(n_jobs=1)]: Done   6 out of   6 | elapsed:   11.4s finished\n",
      "\n",
      "[2023-10-29 11:32:40] Features: 6/11 -- score: 0.6549028537379498[Parallel(n_jobs=1)]: Using backend SequentialBackend with 1 concurrent workers.\n",
      "[Parallel(n_jobs=1)]: Done   1 out of   1 | elapsed:    1.7s remaining:    0.0s\n",
      "[Parallel(n_jobs=1)]: Done   5 out of   5 | elapsed:    9.2s finished\n",
      "\n",
      "[2023-10-29 11:32:49] Features: 7/11 -- score: 0.661025728330957[Parallel(n_jobs=1)]: Using backend SequentialBackend with 1 concurrent workers.\n",
      "[Parallel(n_jobs=1)]: Done   1 out of   1 | elapsed:    1.8s remaining:    0.0s\n",
      "[Parallel(n_jobs=1)]: Done   4 out of   4 | elapsed:    7.4s finished\n",
      "\n",
      "[2023-10-29 11:32:57] Features: 8/11 -- score: 0.663363197207976[Parallel(n_jobs=1)]: Using backend SequentialBackend with 1 concurrent workers.\n",
      "[Parallel(n_jobs=1)]: Done   1 out of   1 | elapsed:    2.0s remaining:    0.0s\n",
      "[Parallel(n_jobs=1)]: Done   3 out of   3 | elapsed:    6.1s finished\n",
      "\n",
      "[2023-10-29 11:33:03] Features: 9/11 -- score: 0.6648226256091592[Parallel(n_jobs=1)]: Using backend SequentialBackend with 1 concurrent workers.\n",
      "[Parallel(n_jobs=1)]: Done   1 out of   1 | elapsed:    2.1s remaining:    0.0s\n",
      "[Parallel(n_jobs=1)]: Done   2 out of   2 | elapsed:    4.1s finished\n",
      "\n",
      "[2023-10-29 11:33:07] Features: 10/11 -- score: 0.6624940946138622[Parallel(n_jobs=1)]: Using backend SequentialBackend with 1 concurrent workers.\n",
      "[Parallel(n_jobs=1)]: Done   1 out of   1 | elapsed:    2.0s remaining:    0.0s\n",
      "[Parallel(n_jobs=1)]: Done   1 out of   1 | elapsed:    2.0s finished\n",
      "\n",
      "[2023-10-29 11:33:09] Features: 11/11 -- score: 0.6598625268668468"
     ]
    }
   ],
   "source": [
    "forward_feature_selection1=SequentialFeatureSelector(RandomForestClassifier(n_jobs=-1), # All the  courses availabe in your pc.\n",
    "                                                   k_features=(1,11),         # How many feature you want.\n",
    "                                                   forward= True,        # Forward Feature Selection\n",
    "                                                   floating=False,\n",
    "                                                   verbose=2,             # See How the model fitting\n",
    "                                                   scoring=\"accuracy\",  \n",
    "                                                   cv=5).fit(x_train,y_train)"
   ]
  },
  {
   "cell_type": "code",
   "execution_count": 19,
   "id": "32720fb2",
   "metadata": {},
   "outputs": [
    {
     "data": {
      "text/plain": [
       "('fixed acidity',\n",
       " 'volatile acidity',\n",
       " 'citric acid',\n",
       " 'chlorides',\n",
       " 'free sulfur dioxide',\n",
       " 'total sulfur dioxide',\n",
       " 'density',\n",
       " 'sulphates',\n",
       " 'alcohol')"
      ]
     },
     "execution_count": 19,
     "metadata": {},
     "output_type": "execute_result"
    }
   ],
   "source": [
    "forward_feature_selection1.k_feature_names_"
   ]
  },
  {
   "cell_type": "code",
   "execution_count": 20,
   "id": "4182ef9a",
   "metadata": {},
   "outputs": [
    {
     "data": {
      "text/plain": [
       "0.6648226256091592"
      ]
     },
     "execution_count": 20,
     "metadata": {},
     "output_type": "execute_result"
    }
   ],
   "source": [
    "forward_feature_selection1.k_score_"
   ]
  },
  {
   "cell_type": "code",
   "execution_count": 21,
   "id": "57f3b43a",
   "metadata": {},
   "outputs": [
    {
     "data": {
      "text/html": [
       "<div>\n",
       "<style scoped>\n",
       "    .dataframe tbody tr th:only-of-type {\n",
       "        vertical-align: middle;\n",
       "    }\n",
       "\n",
       "    .dataframe tbody tr th {\n",
       "        vertical-align: top;\n",
       "    }\n",
       "\n",
       "    .dataframe thead th {\n",
       "        text-align: right;\n",
       "    }\n",
       "</style>\n",
       "<table border=\"1\" class=\"dataframe\">\n",
       "  <thead>\n",
       "    <tr style=\"text-align: right;\">\n",
       "      <th></th>\n",
       "      <th>feature_idx</th>\n",
       "      <th>cv_scores</th>\n",
       "      <th>avg_score</th>\n",
       "      <th>feature_names</th>\n",
       "      <th>ci_bound</th>\n",
       "      <th>std_dev</th>\n",
       "      <th>std_err</th>\n",
       "    </tr>\n",
       "  </thead>\n",
       "  <tbody>\n",
       "    <tr>\n",
       "      <th>1</th>\n",
       "      <td>(10,)</td>\n",
       "      <td>[0.49416909620991256, 0.49854227405247814, 0.5...</td>\n",
       "      <td>0.489781</td>\n",
       "      <td>(alcohol,)</td>\n",
       "      <td>0.018354</td>\n",
       "      <td>0.01428</td>\n",
       "      <td>0.00714</td>\n",
       "    </tr>\n",
       "    <tr>\n",
       "      <th>2</th>\n",
       "      <td>(6, 10)</td>\n",
       "      <td>[0.5510204081632653, 0.5116618075801749, 0.540...</td>\n",
       "      <td>0.544349</td>\n",
       "      <td>(total sulfur dioxide, alcohol)</td>\n",
       "      <td>0.022718</td>\n",
       "      <td>0.017675</td>\n",
       "      <td>0.008838</td>\n",
       "    </tr>\n",
       "    <tr>\n",
       "      <th>3</th>\n",
       "      <td>(1, 6, 10)</td>\n",
       "      <td>[0.6239067055393586, 0.5787172011661808, 0.613...</td>\n",
       "      <td>0.602389</td>\n",
       "      <td>(volatile acidity, total sulfur dioxide, alcohol)</td>\n",
       "      <td>0.020076</td>\n",
       "      <td>0.01562</td>\n",
       "      <td>0.00781</td>\n",
       "    </tr>\n",
       "    <tr>\n",
       "      <th>4</th>\n",
       "      <td>(1, 4, 6, 10)</td>\n",
       "      <td>[0.6297376093294461, 0.6311953352769679, 0.634...</td>\n",
       "      <td>0.626016</td>\n",
       "      <td>(volatile acidity, chlorides, total sulfur dio...</td>\n",
       "      <td>0.014954</td>\n",
       "      <td>0.011635</td>\n",
       "      <td>0.005817</td>\n",
       "    </tr>\n",
       "    <tr>\n",
       "      <th>5</th>\n",
       "      <td>(1, 4, 5, 6, 10)</td>\n",
       "      <td>[0.6530612244897959, 0.6297376093294461, 0.635...</td>\n",
       "      <td>0.6409</td>\n",
       "      <td>(volatile acidity, chlorides, free sulfur diox...</td>\n",
       "      <td>0.016993</td>\n",
       "      <td>0.013221</td>\n",
       "      <td>0.006611</td>\n",
       "    </tr>\n",
       "    <tr>\n",
       "      <th>6</th>\n",
       "      <td>(1, 4, 5, 6, 9, 10)</td>\n",
       "      <td>[0.673469387755102, 0.6457725947521866, 0.6384...</td>\n",
       "      <td>0.654903</td>\n",
       "      <td>(volatile acidity, chlorides, free sulfur diox...</td>\n",
       "      <td>0.016158</td>\n",
       "      <td>0.012572</td>\n",
       "      <td>0.006286</td>\n",
       "    </tr>\n",
       "    <tr>\n",
       "      <th>7</th>\n",
       "      <td>(1, 2, 4, 5, 6, 9, 10)</td>\n",
       "      <td>[0.6661807580174927, 0.6443148688046647, 0.676...</td>\n",
       "      <td>0.661026</td>\n",
       "      <td>(volatile acidity, citric acid, chlorides, fre...</td>\n",
       "      <td>0.014093</td>\n",
       "      <td>0.010965</td>\n",
       "      <td>0.005483</td>\n",
       "    </tr>\n",
       "    <tr>\n",
       "      <th>8</th>\n",
       "      <td>(1, 2, 4, 5, 6, 7, 9, 10)</td>\n",
       "      <td>[0.6749271137026239, 0.6486880466472303, 0.657...</td>\n",
       "      <td>0.663363</td>\n",
       "      <td>(volatile acidity, citric acid, chlorides, fre...</td>\n",
       "      <td>0.01414</td>\n",
       "      <td>0.011002</td>\n",
       "      <td>0.005501</td>\n",
       "    </tr>\n",
       "    <tr>\n",
       "      <th>9</th>\n",
       "      <td>(0, 1, 2, 4, 5, 6, 7, 9, 10)</td>\n",
       "      <td>[0.685131195335277, 0.6428571428571429, 0.6545...</td>\n",
       "      <td>0.664823</td>\n",
       "      <td>(fixed acidity, volatile acidity, citric acid,...</td>\n",
       "      <td>0.024719</td>\n",
       "      <td>0.019232</td>\n",
       "      <td>0.009616</td>\n",
       "    </tr>\n",
       "    <tr>\n",
       "      <th>10</th>\n",
       "      <td>(0, 1, 2, 3, 4, 5, 6, 7, 9, 10)</td>\n",
       "      <td>[0.6632653061224489, 0.6341107871720116, 0.660...</td>\n",
       "      <td>0.662494</td>\n",
       "      <td>(fixed acidity, volatile acidity, citric acid,...</td>\n",
       "      <td>0.020897</td>\n",
       "      <td>0.016259</td>\n",
       "      <td>0.008129</td>\n",
       "    </tr>\n",
       "    <tr>\n",
       "      <th>11</th>\n",
       "      <td>(0, 1, 2, 3, 4, 5, 6, 7, 8, 9, 10)</td>\n",
       "      <td>[0.6676384839650146, 0.6501457725947521, 0.653...</td>\n",
       "      <td>0.659863</td>\n",
       "      <td>(fixed acidity, volatile acidity, citric acid,...</td>\n",
       "      <td>0.014829</td>\n",
       "      <td>0.011538</td>\n",
       "      <td>0.005769</td>\n",
       "    </tr>\n",
       "  </tbody>\n",
       "</table>\n",
       "</div>"
      ],
      "text/plain": [
       "                           feature_idx  \\\n",
       "1                                (10,)   \n",
       "2                              (6, 10)   \n",
       "3                           (1, 6, 10)   \n",
       "4                        (1, 4, 6, 10)   \n",
       "5                     (1, 4, 5, 6, 10)   \n",
       "6                  (1, 4, 5, 6, 9, 10)   \n",
       "7               (1, 2, 4, 5, 6, 9, 10)   \n",
       "8            (1, 2, 4, 5, 6, 7, 9, 10)   \n",
       "9         (0, 1, 2, 4, 5, 6, 7, 9, 10)   \n",
       "10     (0, 1, 2, 3, 4, 5, 6, 7, 9, 10)   \n",
       "11  (0, 1, 2, 3, 4, 5, 6, 7, 8, 9, 10)   \n",
       "\n",
       "                                            cv_scores avg_score  \\\n",
       "1   [0.49416909620991256, 0.49854227405247814, 0.5...  0.489781   \n",
       "2   [0.5510204081632653, 0.5116618075801749, 0.540...  0.544349   \n",
       "3   [0.6239067055393586, 0.5787172011661808, 0.613...  0.602389   \n",
       "4   [0.6297376093294461, 0.6311953352769679, 0.634...  0.626016   \n",
       "5   [0.6530612244897959, 0.6297376093294461, 0.635...    0.6409   \n",
       "6   [0.673469387755102, 0.6457725947521866, 0.6384...  0.654903   \n",
       "7   [0.6661807580174927, 0.6443148688046647, 0.676...  0.661026   \n",
       "8   [0.6749271137026239, 0.6486880466472303, 0.657...  0.663363   \n",
       "9   [0.685131195335277, 0.6428571428571429, 0.6545...  0.664823   \n",
       "10  [0.6632653061224489, 0.6341107871720116, 0.660...  0.662494   \n",
       "11  [0.6676384839650146, 0.6501457725947521, 0.653...  0.659863   \n",
       "\n",
       "                                        feature_names  ci_bound   std_dev  \\\n",
       "1                                          (alcohol,)  0.018354   0.01428   \n",
       "2                     (total sulfur dioxide, alcohol)  0.022718  0.017675   \n",
       "3   (volatile acidity, total sulfur dioxide, alcohol)  0.020076   0.01562   \n",
       "4   (volatile acidity, chlorides, total sulfur dio...  0.014954  0.011635   \n",
       "5   (volatile acidity, chlorides, free sulfur diox...  0.016993  0.013221   \n",
       "6   (volatile acidity, chlorides, free sulfur diox...  0.016158  0.012572   \n",
       "7   (volatile acidity, citric acid, chlorides, fre...  0.014093  0.010965   \n",
       "8   (volatile acidity, citric acid, chlorides, fre...   0.01414  0.011002   \n",
       "9   (fixed acidity, volatile acidity, citric acid,...  0.024719  0.019232   \n",
       "10  (fixed acidity, volatile acidity, citric acid,...  0.020897  0.016259   \n",
       "11  (fixed acidity, volatile acidity, citric acid,...  0.014829  0.011538   \n",
       "\n",
       "     std_err  \n",
       "1    0.00714  \n",
       "2   0.008838  \n",
       "3    0.00781  \n",
       "4   0.005817  \n",
       "5   0.006611  \n",
       "6   0.006286  \n",
       "7   0.005483  \n",
       "8   0.005501  \n",
       "9   0.009616  \n",
       "10  0.008129  \n",
       "11  0.005769  "
      ]
     },
     "execution_count": 21,
     "metadata": {},
     "output_type": "execute_result"
    }
   ],
   "source": [
    "pd.DataFrame.from_dict(forward_feature_selection1.get_metric_dict()).T"
   ]
  },
  {
   "cell_type": "code",
   "execution_count": null,
   "id": "7a16862d",
   "metadata": {},
   "outputs": [],
   "source": []
  }
 ],
 "metadata": {
  "kernelspec": {
   "display_name": "Python 3 (ipykernel)",
   "language": "python",
   "name": "python3"
  },
  "language_info": {
   "codemirror_mode": {
    "name": "ipython",
    "version": 3
   },
   "file_extension": ".py",
   "mimetype": "text/x-python",
   "name": "python",
   "nbconvert_exporter": "python",
   "pygments_lexer": "ipython3",
   "version": "3.9.13"
  }
 },
 "nbformat": 4,
 "nbformat_minor": 5
}
