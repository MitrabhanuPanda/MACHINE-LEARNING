{
 "cells": [
  {
   "cell_type": "markdown",
   "id": "e1bfc83d",
   "metadata": {},
   "source": [
    "# <font color=\"red\">BACKWARD FEATURE SELECTION"
   ]
  },
  {
   "cell_type": "code",
   "execution_count": 1,
   "id": "1f00c58d",
   "metadata": {},
   "outputs": [],
   "source": [
    "import pandas as pd\n",
    "from mlxtend.feature_selection import SequentialFeatureSelector"
   ]
  },
  {
   "cell_type": "code",
   "execution_count": 2,
   "id": "d33484be",
   "metadata": {},
   "outputs": [],
   "source": [
    "df=pd.read_csv(r\"C:\\Users\\mitra\\Desktop\\Wine\\winequality_white.csv\")"
   ]
  },
  {
   "cell_type": "code",
   "execution_count": 3,
   "id": "6112b969",
   "metadata": {},
   "outputs": [
    {
     "data": {
      "text/html": [
       "<div>\n",
       "<style scoped>\n",
       "    .dataframe tbody tr th:only-of-type {\n",
       "        vertical-align: middle;\n",
       "    }\n",
       "\n",
       "    .dataframe tbody tr th {\n",
       "        vertical-align: top;\n",
       "    }\n",
       "\n",
       "    .dataframe thead th {\n",
       "        text-align: right;\n",
       "    }\n",
       "</style>\n",
       "<table border=\"1\" class=\"dataframe\">\n",
       "  <thead>\n",
       "    <tr style=\"text-align: right;\">\n",
       "      <th></th>\n",
       "      <th>fixed acidity</th>\n",
       "      <th>volatile acidity</th>\n",
       "      <th>citric acid</th>\n",
       "      <th>residual sugar</th>\n",
       "      <th>chlorides</th>\n",
       "      <th>free sulfur dioxide</th>\n",
       "      <th>total sulfur dioxide</th>\n",
       "      <th>density</th>\n",
       "      <th>pH</th>\n",
       "      <th>sulphates</th>\n",
       "      <th>alcohol</th>\n",
       "      <th>quality</th>\n",
       "    </tr>\n",
       "  </thead>\n",
       "  <tbody>\n",
       "    <tr>\n",
       "      <th>0</th>\n",
       "      <td>7.0</td>\n",
       "      <td>0.27</td>\n",
       "      <td>0.36</td>\n",
       "      <td>20.7</td>\n",
       "      <td>0.045</td>\n",
       "      <td>45.0</td>\n",
       "      <td>170.0</td>\n",
       "      <td>1.0010</td>\n",
       "      <td>3.00</td>\n",
       "      <td>0.45</td>\n",
       "      <td>8.8</td>\n",
       "      <td>6</td>\n",
       "    </tr>\n",
       "    <tr>\n",
       "      <th>1</th>\n",
       "      <td>6.3</td>\n",
       "      <td>0.30</td>\n",
       "      <td>0.34</td>\n",
       "      <td>1.6</td>\n",
       "      <td>0.049</td>\n",
       "      <td>14.0</td>\n",
       "      <td>132.0</td>\n",
       "      <td>0.9940</td>\n",
       "      <td>3.30</td>\n",
       "      <td>0.49</td>\n",
       "      <td>9.5</td>\n",
       "      <td>6</td>\n",
       "    </tr>\n",
       "    <tr>\n",
       "      <th>2</th>\n",
       "      <td>8.1</td>\n",
       "      <td>0.28</td>\n",
       "      <td>0.40</td>\n",
       "      <td>6.9</td>\n",
       "      <td>0.050</td>\n",
       "      <td>30.0</td>\n",
       "      <td>97.0</td>\n",
       "      <td>0.9951</td>\n",
       "      <td>3.26</td>\n",
       "      <td>0.44</td>\n",
       "      <td>10.1</td>\n",
       "      <td>6</td>\n",
       "    </tr>\n",
       "    <tr>\n",
       "      <th>3</th>\n",
       "      <td>7.2</td>\n",
       "      <td>0.23</td>\n",
       "      <td>0.32</td>\n",
       "      <td>8.5</td>\n",
       "      <td>0.058</td>\n",
       "      <td>47.0</td>\n",
       "      <td>186.0</td>\n",
       "      <td>0.9956</td>\n",
       "      <td>3.19</td>\n",
       "      <td>0.40</td>\n",
       "      <td>9.9</td>\n",
       "      <td>6</td>\n",
       "    </tr>\n",
       "    <tr>\n",
       "      <th>4</th>\n",
       "      <td>7.2</td>\n",
       "      <td>0.23</td>\n",
       "      <td>0.32</td>\n",
       "      <td>8.5</td>\n",
       "      <td>0.058</td>\n",
       "      <td>47.0</td>\n",
       "      <td>186.0</td>\n",
       "      <td>0.9956</td>\n",
       "      <td>3.19</td>\n",
       "      <td>0.40</td>\n",
       "      <td>9.9</td>\n",
       "      <td>6</td>\n",
       "    </tr>\n",
       "  </tbody>\n",
       "</table>\n",
       "</div>"
      ],
      "text/plain": [
       "   fixed acidity  volatile acidity  citric acid  residual sugar  chlorides  \\\n",
       "0            7.0              0.27         0.36            20.7      0.045   \n",
       "1            6.3              0.30         0.34             1.6      0.049   \n",
       "2            8.1              0.28         0.40             6.9      0.050   \n",
       "3            7.2              0.23         0.32             8.5      0.058   \n",
       "4            7.2              0.23         0.32             8.5      0.058   \n",
       "\n",
       "   free sulfur dioxide  total sulfur dioxide  density    pH  sulphates  \\\n",
       "0                 45.0                 170.0   1.0010  3.00       0.45   \n",
       "1                 14.0                 132.0   0.9940  3.30       0.49   \n",
       "2                 30.0                  97.0   0.9951  3.26       0.44   \n",
       "3                 47.0                 186.0   0.9956  3.19       0.40   \n",
       "4                 47.0                 186.0   0.9956  3.19       0.40   \n",
       "\n",
       "   alcohol  quality  \n",
       "0      8.8        6  \n",
       "1      9.5        6  \n",
       "2     10.1        6  \n",
       "3      9.9        6  \n",
       "4      9.9        6  "
      ]
     },
     "execution_count": 3,
     "metadata": {},
     "output_type": "execute_result"
    }
   ],
   "source": [
    "df.head()"
   ]
  },
  {
   "cell_type": "code",
   "execution_count": 4,
   "id": "7c3c0ee7",
   "metadata": {},
   "outputs": [
    {
     "data": {
      "text/plain": [
       "(4898, 12)"
      ]
     },
     "execution_count": 4,
     "metadata": {},
     "output_type": "execute_result"
    }
   ],
   "source": [
    "df.shape"
   ]
  },
  {
   "cell_type": "code",
   "execution_count": 5,
   "id": "cdb302d9",
   "metadata": {},
   "outputs": [
    {
     "data": {
      "text/plain": [
       "fixed acidity           0\n",
       "volatile acidity        0\n",
       "citric acid             0\n",
       "residual sugar          0\n",
       "chlorides               0\n",
       "free sulfur dioxide     0\n",
       "total sulfur dioxide    0\n",
       "density                 0\n",
       "pH                      0\n",
       "sulphates               0\n",
       "alcohol                 0\n",
       "quality                 0\n",
       "dtype: int64"
      ]
     },
     "execution_count": 5,
     "metadata": {},
     "output_type": "execute_result"
    }
   ],
   "source": [
    "df.isnull().sum()   # Check any missing value in any columns"
   ]
  },
  {
   "cell_type": "code",
   "execution_count": 6,
   "id": "c3c7875e",
   "metadata": {},
   "outputs": [
    {
     "data": {
      "text/html": [
       "<div>\n",
       "<style scoped>\n",
       "    .dataframe tbody tr th:only-of-type {\n",
       "        vertical-align: middle;\n",
       "    }\n",
       "\n",
       "    .dataframe tbody tr th {\n",
       "        vertical-align: top;\n",
       "    }\n",
       "\n",
       "    .dataframe thead th {\n",
       "        text-align: right;\n",
       "    }\n",
       "</style>\n",
       "<table border=\"1\" class=\"dataframe\">\n",
       "  <thead>\n",
       "    <tr style=\"text-align: right;\">\n",
       "      <th></th>\n",
       "      <th>fixed acidity</th>\n",
       "      <th>volatile acidity</th>\n",
       "      <th>citric acid</th>\n",
       "      <th>residual sugar</th>\n",
       "      <th>chlorides</th>\n",
       "      <th>free sulfur dioxide</th>\n",
       "      <th>total sulfur dioxide</th>\n",
       "      <th>density</th>\n",
       "      <th>pH</th>\n",
       "      <th>sulphates</th>\n",
       "      <th>alcohol</th>\n",
       "      <th>quality</th>\n",
       "    </tr>\n",
       "  </thead>\n",
       "  <tbody>\n",
       "  </tbody>\n",
       "</table>\n",
       "</div>"
      ],
      "text/plain": [
       "Empty DataFrame\n",
       "Columns: [fixed acidity, volatile acidity, citric acid, residual sugar, chlorides, free sulfur dioxide, total sulfur dioxide, density, pH, sulphates, alcohol, quality]\n",
       "Index: []"
      ]
     },
     "execution_count": 6,
     "metadata": {},
     "output_type": "execute_result"
    }
   ],
   "source": [
    "df[df.isnull().any(axis=1)] # Check any missing value in any rows"
   ]
  },
  {
   "cell_type": "code",
   "execution_count": 7,
   "id": "24cdcc45",
   "metadata": {},
   "outputs": [],
   "source": [
    "x=df.iloc[:,0:11]\n",
    "y=df.iloc[:,-1]"
   ]
  },
  {
   "cell_type": "code",
   "execution_count": 8,
   "id": "720b6311",
   "metadata": {},
   "outputs": [
    {
     "data": {
      "text/html": [
       "<div>\n",
       "<style scoped>\n",
       "    .dataframe tbody tr th:only-of-type {\n",
       "        vertical-align: middle;\n",
       "    }\n",
       "\n",
       "    .dataframe tbody tr th {\n",
       "        vertical-align: top;\n",
       "    }\n",
       "\n",
       "    .dataframe thead th {\n",
       "        text-align: right;\n",
       "    }\n",
       "</style>\n",
       "<table border=\"1\" class=\"dataframe\">\n",
       "  <thead>\n",
       "    <tr style=\"text-align: right;\">\n",
       "      <th></th>\n",
       "      <th>fixed acidity</th>\n",
       "      <th>volatile acidity</th>\n",
       "      <th>citric acid</th>\n",
       "      <th>residual sugar</th>\n",
       "      <th>chlorides</th>\n",
       "      <th>free sulfur dioxide</th>\n",
       "      <th>total sulfur dioxide</th>\n",
       "      <th>density</th>\n",
       "      <th>pH</th>\n",
       "      <th>sulphates</th>\n",
       "      <th>alcohol</th>\n",
       "    </tr>\n",
       "  </thead>\n",
       "  <tbody>\n",
       "    <tr>\n",
       "      <th>0</th>\n",
       "      <td>7.0</td>\n",
       "      <td>0.27</td>\n",
       "      <td>0.36</td>\n",
       "      <td>20.7</td>\n",
       "      <td>0.045</td>\n",
       "      <td>45.0</td>\n",
       "      <td>170.0</td>\n",
       "      <td>1.0010</td>\n",
       "      <td>3.00</td>\n",
       "      <td>0.45</td>\n",
       "      <td>8.8</td>\n",
       "    </tr>\n",
       "    <tr>\n",
       "      <th>1</th>\n",
       "      <td>6.3</td>\n",
       "      <td>0.30</td>\n",
       "      <td>0.34</td>\n",
       "      <td>1.6</td>\n",
       "      <td>0.049</td>\n",
       "      <td>14.0</td>\n",
       "      <td>132.0</td>\n",
       "      <td>0.9940</td>\n",
       "      <td>3.30</td>\n",
       "      <td>0.49</td>\n",
       "      <td>9.5</td>\n",
       "    </tr>\n",
       "    <tr>\n",
       "      <th>2</th>\n",
       "      <td>8.1</td>\n",
       "      <td>0.28</td>\n",
       "      <td>0.40</td>\n",
       "      <td>6.9</td>\n",
       "      <td>0.050</td>\n",
       "      <td>30.0</td>\n",
       "      <td>97.0</td>\n",
       "      <td>0.9951</td>\n",
       "      <td>3.26</td>\n",
       "      <td>0.44</td>\n",
       "      <td>10.1</td>\n",
       "    </tr>\n",
       "    <tr>\n",
       "      <th>3</th>\n",
       "      <td>7.2</td>\n",
       "      <td>0.23</td>\n",
       "      <td>0.32</td>\n",
       "      <td>8.5</td>\n",
       "      <td>0.058</td>\n",
       "      <td>47.0</td>\n",
       "      <td>186.0</td>\n",
       "      <td>0.9956</td>\n",
       "      <td>3.19</td>\n",
       "      <td>0.40</td>\n",
       "      <td>9.9</td>\n",
       "    </tr>\n",
       "    <tr>\n",
       "      <th>4</th>\n",
       "      <td>7.2</td>\n",
       "      <td>0.23</td>\n",
       "      <td>0.32</td>\n",
       "      <td>8.5</td>\n",
       "      <td>0.058</td>\n",
       "      <td>47.0</td>\n",
       "      <td>186.0</td>\n",
       "      <td>0.9956</td>\n",
       "      <td>3.19</td>\n",
       "      <td>0.40</td>\n",
       "      <td>9.9</td>\n",
       "    </tr>\n",
       "  </tbody>\n",
       "</table>\n",
       "</div>"
      ],
      "text/plain": [
       "   fixed acidity  volatile acidity  citric acid  residual sugar  chlorides  \\\n",
       "0            7.0              0.27         0.36            20.7      0.045   \n",
       "1            6.3              0.30         0.34             1.6      0.049   \n",
       "2            8.1              0.28         0.40             6.9      0.050   \n",
       "3            7.2              0.23         0.32             8.5      0.058   \n",
       "4            7.2              0.23         0.32             8.5      0.058   \n",
       "\n",
       "   free sulfur dioxide  total sulfur dioxide  density    pH  sulphates  \\\n",
       "0                 45.0                 170.0   1.0010  3.00       0.45   \n",
       "1                 14.0                 132.0   0.9940  3.30       0.49   \n",
       "2                 30.0                  97.0   0.9951  3.26       0.44   \n",
       "3                 47.0                 186.0   0.9956  3.19       0.40   \n",
       "4                 47.0                 186.0   0.9956  3.19       0.40   \n",
       "\n",
       "   alcohol  \n",
       "0      8.8  \n",
       "1      9.5  \n",
       "2     10.1  \n",
       "3      9.9  \n",
       "4      9.9  "
      ]
     },
     "execution_count": 8,
     "metadata": {},
     "output_type": "execute_result"
    }
   ],
   "source": [
    "x.head()"
   ]
  },
  {
   "cell_type": "code",
   "execution_count": 9,
   "id": "fcaca048",
   "metadata": {},
   "outputs": [
    {
     "data": {
      "text/plain": [
       "(4898, 11)"
      ]
     },
     "execution_count": 9,
     "metadata": {},
     "output_type": "execute_result"
    }
   ],
   "source": [
    "x.shape"
   ]
  },
  {
   "cell_type": "code",
   "execution_count": 10,
   "id": "7b263743",
   "metadata": {},
   "outputs": [
    {
     "data": {
      "text/plain": [
       "0       6\n",
       "1       6\n",
       "2       6\n",
       "3       6\n",
       "4       6\n",
       "       ..\n",
       "4893    6\n",
       "4894    5\n",
       "4895    6\n",
       "4896    7\n",
       "4897    6\n",
       "Name: quality, Length: 4898, dtype: int64"
      ]
     },
     "execution_count": 10,
     "metadata": {},
     "output_type": "execute_result"
    }
   ],
   "source": [
    "y"
   ]
  },
  {
   "cell_type": "markdown",
   "id": "3a6f33ed",
   "metadata": {},
   "source": [
    "###  <font color=\"green\">Spilt the X & y"
   ]
  },
  {
   "cell_type": "code",
   "execution_count": 11,
   "id": "23868a2b",
   "metadata": {},
   "outputs": [],
   "source": [
    "from sklearn.model_selection import train_test_split\n",
    "x_train,x_test,y_train,y_test=train_test_split(x,y,test_size=0.3,random_state=0)"
   ]
  },
  {
   "cell_type": "code",
   "execution_count": 12,
   "id": "f746c255",
   "metadata": {},
   "outputs": [],
   "source": [
    "from sklearn.ensemble import RandomForestClassifier   # Import an algorithm"
   ]
  },
  {
   "cell_type": "markdown",
   "id": "486e1486",
   "metadata": {},
   "source": [
    "### <font color=\"blue\">Manual Approach"
   ]
  },
  {
   "cell_type": "code",
   "execution_count": 13,
   "id": "ff3c6007",
   "metadata": {},
   "outputs": [
    {
     "name": "stderr",
     "output_type": "stream",
     "text": [
      "[Parallel(n_jobs=1)]: Using backend SequentialBackend with 1 concurrent workers.\n",
      "[Parallel(n_jobs=1)]: Done   1 out of   1 | elapsed:    0.9s remaining:    0.0s\n",
      "[Parallel(n_jobs=1)]: Done  11 out of  11 | elapsed:   20.1s finished\n",
      "\n",
      "[2023-10-29 11:34:45] Features: 10/7 -- score: 0.6657036453789024[Parallel(n_jobs=1)]: Using backend SequentialBackend with 1 concurrent workers.\n",
      "[Parallel(n_jobs=1)]: Done   1 out of   1 | elapsed:    2.0s remaining:    0.0s\n",
      "[Parallel(n_jobs=1)]: Done  10 out of  10 | elapsed:   20.7s finished\n",
      "\n",
      "[2023-10-29 11:35:06] Features: 9/7 -- score: 0.6624949458406929[Parallel(n_jobs=1)]: Using backend SequentialBackend with 1 concurrent workers.\n",
      "[Parallel(n_jobs=1)]: Done   1 out of   1 | elapsed:    1.8s remaining:    0.0s\n",
      "[Parallel(n_jobs=1)]: Done   9 out of   9 | elapsed:   16.8s finished\n",
      "\n",
      "[2023-10-29 11:35:23] Features: 8/7 -- score: 0.6610265795577877[Parallel(n_jobs=1)]: Using backend SequentialBackend with 1 concurrent workers.\n",
      "[Parallel(n_jobs=1)]: Done   1 out of   1 | elapsed:    1.8s remaining:    0.0s\n",
      "[Parallel(n_jobs=1)]: Done   8 out of   8 | elapsed:   14.7s finished\n",
      "\n",
      "[2023-10-29 11:35:38] Features: 7/7 -- score: 0.6537375242067631"
     ]
    }
   ],
   "source": [
    "backward_feature_selection=SequentialFeatureSelector(RandomForestClassifier(n_jobs=-1), # All the courses availabe in your pc.\n",
    "                                                   k_features=7,         # How many feature you want.\n",
    "                                                   forward= False,        # Backward Feature Selection\n",
    "                                                   floating=False,\n",
    "                                                   verbose=2,             # See How the model fitting\n",
    "                                                   scoring=\"accuracy\",  \n",
    "                                                   cv=5).fit(x_train,y_train)"
   ]
  },
  {
   "cell_type": "code",
   "execution_count": 14,
   "id": "26fd6640",
   "metadata": {},
   "outputs": [
    {
     "data": {
      "text/plain": [
       "(0, 1, 2, 3, 5, 9, 10)"
      ]
     },
     "execution_count": 14,
     "metadata": {},
     "output_type": "execute_result"
    }
   ],
   "source": [
    "backward_feature_selection.k_feature_idx_  # Show Index Number of the Features which are Selected"
   ]
  },
  {
   "cell_type": "code",
   "execution_count": 15,
   "id": "93735f34",
   "metadata": {},
   "outputs": [
    {
     "data": {
      "text/plain": [
       "('fixed acidity',\n",
       " 'volatile acidity',\n",
       " 'citric acid',\n",
       " 'residual sugar',\n",
       " 'free sulfur dioxide',\n",
       " 'sulphates',\n",
       " 'alcohol')"
      ]
     },
     "execution_count": 15,
     "metadata": {},
     "output_type": "execute_result"
    }
   ],
   "source": [
    "backward_feature_selection.k_feature_names_  #  Show Name of the Features which are Selected"
   ]
  },
  {
   "cell_type": "code",
   "execution_count": 16,
   "id": "e4cca829",
   "metadata": {},
   "outputs": [
    {
     "data": {
      "text/plain": [
       "0.6537375242067631"
      ]
     },
     "execution_count": 16,
     "metadata": {},
     "output_type": "execute_result"
    }
   ],
   "source": [
    "backward_feature_selection.k_score_  # Show the score "
   ]
  },
  {
   "cell_type": "code",
   "execution_count": 17,
   "id": "63aec265",
   "metadata": {},
   "outputs": [
    {
     "data": {
      "text/html": [
       "<div>\n",
       "<style scoped>\n",
       "    .dataframe tbody tr th:only-of-type {\n",
       "        vertical-align: middle;\n",
       "    }\n",
       "\n",
       "    .dataframe tbody tr th {\n",
       "        vertical-align: top;\n",
       "    }\n",
       "\n",
       "    .dataframe thead th {\n",
       "        text-align: right;\n",
       "    }\n",
       "</style>\n",
       "<table border=\"1\" class=\"dataframe\">\n",
       "  <thead>\n",
       "    <tr style=\"text-align: right;\">\n",
       "      <th></th>\n",
       "      <th>feature_idx</th>\n",
       "      <th>cv_scores</th>\n",
       "      <th>avg_score</th>\n",
       "      <th>feature_names</th>\n",
       "      <th>ci_bound</th>\n",
       "      <th>std_dev</th>\n",
       "      <th>std_err</th>\n",
       "    </tr>\n",
       "  </thead>\n",
       "  <tbody>\n",
       "    <tr>\n",
       "      <th>11</th>\n",
       "      <td>(0, 1, 2, 3, 4, 5, 6, 7, 8, 9, 10)</td>\n",
       "      <td>[0.6676384839650146, 0.6399416909620991, 0.653...</td>\n",
       "      <td>0.657238</td>\n",
       "      <td>(fixed acidity, volatile acidity, citric acid,...</td>\n",
       "      <td>0.014536</td>\n",
       "      <td>0.011309</td>\n",
       "      <td>0.005655</td>\n",
       "    </tr>\n",
       "    <tr>\n",
       "      <th>10</th>\n",
       "      <td>(0, 1, 2, 3, 4, 5, 6, 7, 9, 10)</td>\n",
       "      <td>[0.6559766763848397, 0.6486880466472303, 0.660...</td>\n",
       "      <td>0.665704</td>\n",
       "      <td>(fixed acidity, volatile acidity, citric acid,...</td>\n",
       "      <td>0.024137</td>\n",
       "      <td>0.018779</td>\n",
       "      <td>0.00939</td>\n",
       "    </tr>\n",
       "    <tr>\n",
       "      <th>9</th>\n",
       "      <td>(0, 1, 2, 3, 4, 5, 6, 9, 10)</td>\n",
       "      <td>[0.6676384839650146, 0.6370262390670554, 0.650...</td>\n",
       "      <td>0.662495</td>\n",
       "      <td>(fixed acidity, volatile acidity, citric acid,...</td>\n",
       "      <td>0.023236</td>\n",
       "      <td>0.018079</td>\n",
       "      <td>0.009039</td>\n",
       "    </tr>\n",
       "    <tr>\n",
       "      <th>8</th>\n",
       "      <td>(0, 1, 2, 3, 5, 6, 9, 10)</td>\n",
       "      <td>[0.6778425655976676, 0.6472303206997084, 0.658...</td>\n",
       "      <td>0.661027</td>\n",
       "      <td>(fixed acidity, volatile acidity, citric acid,...</td>\n",
       "      <td>0.016883</td>\n",
       "      <td>0.013136</td>\n",
       "      <td>0.006568</td>\n",
       "    </tr>\n",
       "    <tr>\n",
       "      <th>7</th>\n",
       "      <td>(0, 1, 2, 3, 5, 9, 10)</td>\n",
       "      <td>[0.6690962099125365, 0.6384839650145773, 0.641...</td>\n",
       "      <td>0.653738</td>\n",
       "      <td>(fixed acidity, volatile acidity, citric acid,...</td>\n",
       "      <td>0.018544</td>\n",
       "      <td>0.014428</td>\n",
       "      <td>0.007214</td>\n",
       "    </tr>\n",
       "  </tbody>\n",
       "</table>\n",
       "</div>"
      ],
      "text/plain": [
       "                           feature_idx  \\\n",
       "11  (0, 1, 2, 3, 4, 5, 6, 7, 8, 9, 10)   \n",
       "10     (0, 1, 2, 3, 4, 5, 6, 7, 9, 10)   \n",
       "9         (0, 1, 2, 3, 4, 5, 6, 9, 10)   \n",
       "8            (0, 1, 2, 3, 5, 6, 9, 10)   \n",
       "7               (0, 1, 2, 3, 5, 9, 10)   \n",
       "\n",
       "                                            cv_scores avg_score  \\\n",
       "11  [0.6676384839650146, 0.6399416909620991, 0.653...  0.657238   \n",
       "10  [0.6559766763848397, 0.6486880466472303, 0.660...  0.665704   \n",
       "9   [0.6676384839650146, 0.6370262390670554, 0.650...  0.662495   \n",
       "8   [0.6778425655976676, 0.6472303206997084, 0.658...  0.661027   \n",
       "7   [0.6690962099125365, 0.6384839650145773, 0.641...  0.653738   \n",
       "\n",
       "                                        feature_names  ci_bound   std_dev  \\\n",
       "11  (fixed acidity, volatile acidity, citric acid,...  0.014536  0.011309   \n",
       "10  (fixed acidity, volatile acidity, citric acid,...  0.024137  0.018779   \n",
       "9   (fixed acidity, volatile acidity, citric acid,...  0.023236  0.018079   \n",
       "8   (fixed acidity, volatile acidity, citric acid,...  0.016883  0.013136   \n",
       "7   (fixed acidity, volatile acidity, citric acid,...  0.018544  0.014428   \n",
       "\n",
       "     std_err  \n",
       "11  0.005655  \n",
       "10   0.00939  \n",
       "9   0.009039  \n",
       "8   0.006568  \n",
       "7   0.007214  "
      ]
     },
     "execution_count": 17,
     "metadata": {},
     "output_type": "execute_result"
    }
   ],
   "source": [
    "pd.DataFrame.from_dict(backward_feature_selection.get_metric_dict()).T  # Show all the information in DataFrame "
   ]
  },
  {
   "cell_type": "markdown",
   "id": "52a04c61",
   "metadata": {},
   "source": [
    "### <font color=\"blue\">Automated Approach"
   ]
  },
  {
   "cell_type": "code",
   "execution_count": 18,
   "id": "b659c4a4",
   "metadata": {},
   "outputs": [
    {
     "name": "stderr",
     "output_type": "stream",
     "text": [
      "[Parallel(n_jobs=1)]: Using backend SequentialBackend with 1 concurrent workers.\n",
      "[Parallel(n_jobs=1)]: Done   1 out of   1 | elapsed:    1.9s remaining:    0.0s\n",
      "[Parallel(n_jobs=1)]: Done  11 out of  11 | elapsed:   22.4s finished\n",
      "\n",
      "[2023-10-29 11:36:02] Features: 10/1 -- score: 0.6694937328424592[Parallel(n_jobs=1)]: Using backend SequentialBackend with 1 concurrent workers.\n",
      "[Parallel(n_jobs=1)]: Done   1 out of   1 | elapsed:    1.9s remaining:    0.0s\n",
      "[Parallel(n_jobs=1)]: Done  10 out of  10 | elapsed:   20.5s finished\n",
      "\n",
      "[2023-10-29 11:36:23] Features: 9/1 -- score: 0.6598625268668469[Parallel(n_jobs=1)]: Using backend SequentialBackend with 1 concurrent workers.\n",
      "[Parallel(n_jobs=1)]: Done   1 out of   1 | elapsed:    1.8s remaining:    0.0s\n",
      "[Parallel(n_jobs=1)]: Done   9 out of   9 | elapsed:   16.6s finished\n",
      "\n",
      "[2023-10-29 11:36:39] Features: 8/1 -- score: 0.6651124683450023[Parallel(n_jobs=1)]: Using backend SequentialBackend with 1 concurrent workers.\n",
      "[Parallel(n_jobs=1)]: Done   1 out of   1 | elapsed:    1.8s remaining:    0.0s\n",
      "[Parallel(n_jobs=1)]: Done   8 out of   8 | elapsed:   14.9s finished\n",
      "\n",
      "[2023-10-29 11:36:54] Features: 7/1 -- score: 0.6584056521461557[Parallel(n_jobs=1)]: Using backend SequentialBackend with 1 concurrent workers.\n",
      "[Parallel(n_jobs=1)]: Done   1 out of   1 | elapsed:    1.8s remaining:    0.0s\n",
      "[Parallel(n_jobs=1)]: Done   7 out of   7 | elapsed:   12.9s finished\n",
      "\n",
      "[2023-10-29 11:37:07] Features: 6/1 -- score: 0.6522780958055798[Parallel(n_jobs=1)]: Using backend SequentialBackend with 1 concurrent workers.\n",
      "[Parallel(n_jobs=1)]: Done   1 out of   1 | elapsed:    1.8s remaining:    0.0s\n",
      "[Parallel(n_jobs=1)]: Done   6 out of   6 | elapsed:   11.0s finished\n",
      "\n",
      "[2023-10-29 11:37:19] Features: 5/1 -- score: 0.6426477410567981[Parallel(n_jobs=1)]: Using backend SequentialBackend with 1 concurrent workers.\n",
      "[Parallel(n_jobs=1)]: Done   1 out of   1 | elapsed:    1.7s remaining:    0.0s\n",
      "[Parallel(n_jobs=1)]: Done   5 out of   5 | elapsed:    9.2s finished\n",
      "\n",
      "[2023-10-29 11:37:28] Features: 4/1 -- score: 0.6318524823902449[Parallel(n_jobs=1)]: Using backend SequentialBackend with 1 concurrent workers.\n",
      "[Parallel(n_jobs=1)]: Done   1 out of   1 | elapsed:    1.7s remaining:    0.0s\n",
      "[Parallel(n_jobs=1)]: Done   4 out of   4 | elapsed:    7.0s finished\n",
      "\n",
      "[2023-10-29 11:37:35] Features: 3/1 -- score: 0.6085203549615883[Parallel(n_jobs=1)]: Using backend SequentialBackend with 1 concurrent workers.\n",
      "[Parallel(n_jobs=1)]: Done   1 out of   1 | elapsed:    1.6s remaining:    0.0s\n",
      "[Parallel(n_jobs=1)]: Done   3 out of   3 | elapsed:    4.9s finished\n",
      "\n",
      "[2023-10-29 11:37:40] Features: 2/1 -- score: 0.5326717882147645[Parallel(n_jobs=1)]: Using backend SequentialBackend with 1 concurrent workers.\n",
      "[Parallel(n_jobs=1)]: Done   1 out of   1 | elapsed:    1.3s remaining:    0.0s\n",
      "[Parallel(n_jobs=1)]: Done   2 out of   2 | elapsed:    2.8s finished\n",
      "\n",
      "[2023-10-29 11:37:43] Features: 1/1 -- score: 0.48919537783830946"
     ]
    }
   ],
   "source": [
    "backward_feature_selection1=SequentialFeatureSelector(RandomForestClassifier(n_jobs=-1), # All the courses availabe in your pc.\n",
    "                                                   k_features=(1,11),         # How many feature you want.\n",
    "                                                   forward= False,        # Backward Feature Selection\n",
    "                                                   floating=False,\n",
    "                                                   verbose=2,             # See How the model fitting\n",
    "                                                   scoring=\"accuracy\",  \n",
    "                                                   cv=5).fit(x_train,y_train)"
   ]
  },
  {
   "cell_type": "code",
   "execution_count": 19,
   "id": "61fefc51",
   "metadata": {},
   "outputs": [
    {
     "data": {
      "text/plain": [
       "('fixed acidity',\n",
       " 'volatile acidity',\n",
       " 'residual sugar',\n",
       " 'chlorides',\n",
       " 'free sulfur dioxide',\n",
       " 'total sulfur dioxide',\n",
       " 'density',\n",
       " 'pH',\n",
       " 'sulphates',\n",
       " 'alcohol')"
      ]
     },
     "execution_count": 19,
     "metadata": {},
     "output_type": "execute_result"
    }
   ],
   "source": [
    "backward_feature_selection1.k_feature_names_"
   ]
  },
  {
   "cell_type": "code",
   "execution_count": 20,
   "id": "f7bbd14f",
   "metadata": {},
   "outputs": [
    {
     "data": {
      "text/plain": [
       "0.6694937328424592"
      ]
     },
     "execution_count": 20,
     "metadata": {},
     "output_type": "execute_result"
    }
   ],
   "source": [
    "backward_feature_selection1.k_score_"
   ]
  },
  {
   "cell_type": "code",
   "execution_count": 21,
   "id": "9e93c9f0",
   "metadata": {},
   "outputs": [
    {
     "data": {
      "text/html": [
       "<div>\n",
       "<style scoped>\n",
       "    .dataframe tbody tr th:only-of-type {\n",
       "        vertical-align: middle;\n",
       "    }\n",
       "\n",
       "    .dataframe tbody tr th {\n",
       "        vertical-align: top;\n",
       "    }\n",
       "\n",
       "    .dataframe thead th {\n",
       "        text-align: right;\n",
       "    }\n",
       "</style>\n",
       "<table border=\"1\" class=\"dataframe\">\n",
       "  <thead>\n",
       "    <tr style=\"text-align: right;\">\n",
       "      <th></th>\n",
       "      <th>feature_idx</th>\n",
       "      <th>cv_scores</th>\n",
       "      <th>avg_score</th>\n",
       "      <th>feature_names</th>\n",
       "      <th>ci_bound</th>\n",
       "      <th>std_dev</th>\n",
       "      <th>std_err</th>\n",
       "    </tr>\n",
       "  </thead>\n",
       "  <tbody>\n",
       "    <tr>\n",
       "      <th>11</th>\n",
       "      <td>(0, 1, 2, 3, 4, 5, 6, 7, 8, 9, 10)</td>\n",
       "      <td>[0.6603498542274052, 0.6326530612244898, 0.645...</td>\n",
       "      <td>0.654032</td>\n",
       "      <td>(fixed acidity, volatile acidity, citric acid,...</td>\n",
       "      <td>0.016631</td>\n",
       "      <td>0.01294</td>\n",
       "      <td>0.00647</td>\n",
       "    </tr>\n",
       "    <tr>\n",
       "      <th>10</th>\n",
       "      <td>(0, 1, 3, 4, 5, 6, 7, 8, 9, 10)</td>\n",
       "      <td>[0.6749271137026239, 0.6399416909620991, 0.669...</td>\n",
       "      <td>0.669494</td>\n",
       "      <td>(fixed acidity, volatile acidity, residual sug...</td>\n",
       "      <td>0.020082</td>\n",
       "      <td>0.015624</td>\n",
       "      <td>0.007812</td>\n",
       "    </tr>\n",
       "    <tr>\n",
       "      <th>9</th>\n",
       "      <td>(0, 1, 4, 5, 6, 7, 8, 9, 10)</td>\n",
       "      <td>[0.6822157434402333, 0.6311953352769679, 0.657...</td>\n",
       "      <td>0.659863</td>\n",
       "      <td>(fixed acidity, volatile acidity, chlorides, f...</td>\n",
       "      <td>0.022403</td>\n",
       "      <td>0.01743</td>\n",
       "      <td>0.008715</td>\n",
       "    </tr>\n",
       "    <tr>\n",
       "      <th>8</th>\n",
       "      <td>(1, 4, 5, 6, 7, 8, 9, 10)</td>\n",
       "      <td>[0.6778425655976676, 0.6457725947521866, 0.666...</td>\n",
       "      <td>0.665112</td>\n",
       "      <td>(volatile acidity, chlorides, free sulfur diox...</td>\n",
       "      <td>0.013834</td>\n",
       "      <td>0.010763</td>\n",
       "      <td>0.005382</td>\n",
       "    </tr>\n",
       "    <tr>\n",
       "      <th>7</th>\n",
       "      <td>(1, 4, 5, 6, 8, 9, 10)</td>\n",
       "      <td>[0.6661807580174927, 0.6355685131195336, 0.658...</td>\n",
       "      <td>0.658406</td>\n",
       "      <td>(volatile acidity, chlorides, free sulfur diox...</td>\n",
       "      <td>0.015267</td>\n",
       "      <td>0.011879</td>\n",
       "      <td>0.005939</td>\n",
       "    </tr>\n",
       "    <tr>\n",
       "      <th>6</th>\n",
       "      <td>(1, 4, 5, 8, 9, 10)</td>\n",
       "      <td>[0.6618075801749271, 0.6501457725947521, 0.635...</td>\n",
       "      <td>0.652278</td>\n",
       "      <td>(volatile acidity, chlorides, free sulfur diox...</td>\n",
       "      <td>0.013164</td>\n",
       "      <td>0.010242</td>\n",
       "      <td>0.005121</td>\n",
       "    </tr>\n",
       "    <tr>\n",
       "      <th>5</th>\n",
       "      <td>(1, 4, 5, 9, 10)</td>\n",
       "      <td>[0.6647230320699709, 0.6297376093294461, 0.637...</td>\n",
       "      <td>0.642648</td>\n",
       "      <td>(volatile acidity, chlorides, free sulfur diox...</td>\n",
       "      <td>0.019975</td>\n",
       "      <td>0.015541</td>\n",
       "      <td>0.007771</td>\n",
       "    </tr>\n",
       "    <tr>\n",
       "      <th>4</th>\n",
       "      <td>(1, 4, 5, 10)</td>\n",
       "      <td>[0.6326530612244898, 0.6311953352769679, 0.641...</td>\n",
       "      <td>0.631852</td>\n",
       "      <td>(volatile acidity, chlorides, free sulfur diox...</td>\n",
       "      <td>0.009412</td>\n",
       "      <td>0.007323</td>\n",
       "      <td>0.003661</td>\n",
       "    </tr>\n",
       "    <tr>\n",
       "      <th>3</th>\n",
       "      <td>(1, 5, 10)</td>\n",
       "      <td>[0.6151603498542274, 0.6137026239067055, 0.588...</td>\n",
       "      <td>0.60852</td>\n",
       "      <td>(volatile acidity, free sulfur dioxide, alcohol)</td>\n",
       "      <td>0.017765</td>\n",
       "      <td>0.013822</td>\n",
       "      <td>0.006911</td>\n",
       "    </tr>\n",
       "    <tr>\n",
       "      <th>2</th>\n",
       "      <td>(5, 10)</td>\n",
       "      <td>[0.5379008746355685, 0.5291545189504373, 0.532...</td>\n",
       "      <td>0.532672</td>\n",
       "      <td>(free sulfur dioxide, alcohol)</td>\n",
       "      <td>0.00554</td>\n",
       "      <td>0.004311</td>\n",
       "      <td>0.002155</td>\n",
       "    </tr>\n",
       "    <tr>\n",
       "      <th>1</th>\n",
       "      <td>(10,)</td>\n",
       "      <td>[0.4970845481049563, 0.5, 0.5087463556851312, ...</td>\n",
       "      <td>0.489195</td>\n",
       "      <td>(alcohol,)</td>\n",
       "      <td>0.022742</td>\n",
       "      <td>0.017694</td>\n",
       "      <td>0.008847</td>\n",
       "    </tr>\n",
       "  </tbody>\n",
       "</table>\n",
       "</div>"
      ],
      "text/plain": [
       "                           feature_idx  \\\n",
       "11  (0, 1, 2, 3, 4, 5, 6, 7, 8, 9, 10)   \n",
       "10     (0, 1, 3, 4, 5, 6, 7, 8, 9, 10)   \n",
       "9         (0, 1, 4, 5, 6, 7, 8, 9, 10)   \n",
       "8            (1, 4, 5, 6, 7, 8, 9, 10)   \n",
       "7               (1, 4, 5, 6, 8, 9, 10)   \n",
       "6                  (1, 4, 5, 8, 9, 10)   \n",
       "5                     (1, 4, 5, 9, 10)   \n",
       "4                        (1, 4, 5, 10)   \n",
       "3                           (1, 5, 10)   \n",
       "2                              (5, 10)   \n",
       "1                                (10,)   \n",
       "\n",
       "                                            cv_scores avg_score  \\\n",
       "11  [0.6603498542274052, 0.6326530612244898, 0.645...  0.654032   \n",
       "10  [0.6749271137026239, 0.6399416909620991, 0.669...  0.669494   \n",
       "9   [0.6822157434402333, 0.6311953352769679, 0.657...  0.659863   \n",
       "8   [0.6778425655976676, 0.6457725947521866, 0.666...  0.665112   \n",
       "7   [0.6661807580174927, 0.6355685131195336, 0.658...  0.658406   \n",
       "6   [0.6618075801749271, 0.6501457725947521, 0.635...  0.652278   \n",
       "5   [0.6647230320699709, 0.6297376093294461, 0.637...  0.642648   \n",
       "4   [0.6326530612244898, 0.6311953352769679, 0.641...  0.631852   \n",
       "3   [0.6151603498542274, 0.6137026239067055, 0.588...   0.60852   \n",
       "2   [0.5379008746355685, 0.5291545189504373, 0.532...  0.532672   \n",
       "1   [0.4970845481049563, 0.5, 0.5087463556851312, ...  0.489195   \n",
       "\n",
       "                                        feature_names  ci_bound   std_dev  \\\n",
       "11  (fixed acidity, volatile acidity, citric acid,...  0.016631   0.01294   \n",
       "10  (fixed acidity, volatile acidity, residual sug...  0.020082  0.015624   \n",
       "9   (fixed acidity, volatile acidity, chlorides, f...  0.022403   0.01743   \n",
       "8   (volatile acidity, chlorides, free sulfur diox...  0.013834  0.010763   \n",
       "7   (volatile acidity, chlorides, free sulfur diox...  0.015267  0.011879   \n",
       "6   (volatile acidity, chlorides, free sulfur diox...  0.013164  0.010242   \n",
       "5   (volatile acidity, chlorides, free sulfur diox...  0.019975  0.015541   \n",
       "4   (volatile acidity, chlorides, free sulfur diox...  0.009412  0.007323   \n",
       "3    (volatile acidity, free sulfur dioxide, alcohol)  0.017765  0.013822   \n",
       "2                      (free sulfur dioxide, alcohol)   0.00554  0.004311   \n",
       "1                                          (alcohol,)  0.022742  0.017694   \n",
       "\n",
       "     std_err  \n",
       "11   0.00647  \n",
       "10  0.007812  \n",
       "9   0.008715  \n",
       "8   0.005382  \n",
       "7   0.005939  \n",
       "6   0.005121  \n",
       "5   0.007771  \n",
       "4   0.003661  \n",
       "3   0.006911  \n",
       "2   0.002155  \n",
       "1   0.008847  "
      ]
     },
     "execution_count": 21,
     "metadata": {},
     "output_type": "execute_result"
    }
   ],
   "source": [
    "pd.DataFrame.from_dict(backward_feature_selection1.get_metric_dict()).T"
   ]
  },
  {
   "cell_type": "code",
   "execution_count": null,
   "id": "fdd4d657",
   "metadata": {},
   "outputs": [],
   "source": []
  }
 ],
 "metadata": {
  "kernelspec": {
   "display_name": "Python 3 (ipykernel)",
   "language": "python",
   "name": "python3"
  },
  "language_info": {
   "codemirror_mode": {
    "name": "ipython",
    "version": 3
   },
   "file_extension": ".py",
   "mimetype": "text/x-python",
   "name": "python",
   "nbconvert_exporter": "python",
   "pygments_lexer": "ipython3",
   "version": "3.9.13"
  }
 },
 "nbformat": 4,
 "nbformat_minor": 5
}
